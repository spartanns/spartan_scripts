{
 "cells": [
  {
   "cell_type": "markdown",
   "id": "775ebc33-823f-42a2-a5e2-d3892ad7dc9f",
   "metadata": {},
   "source": [
    "# A Good First Program\n",
    "---\n",
    "Type the following text into a single file named `ex1.py`. Python works best with files ending in `.py`."
   ]
  },
  {
   "cell_type": "code",
   "execution_count": 1,
   "id": "e2b7285c-c986-46c5-bed9-aa79b9013772",
   "metadata": {},
   "outputs": [
    {
     "name": "stdout",
     "output_type": "stream",
     "text": [
      "Hello, world\n",
      "Hello, again!\n",
      "I like typing this\n",
      "Yay! Printing\n"
     ]
    }
   ],
   "source": [
    "print(\"Hello, world\")\n",
    "print(\"Hello, again!\")\n",
    "print(\"I like typing this\")\n",
    "print('Yay! Printing')"
   ]
  },
  {
   "cell_type": "markdown",
   "id": "070aeefc-cfea-4758-a292-7572f38264d5",
   "metadata": {},
   "source": [
    "---\n",
    "Run the script by typing the following command in your terminal:\n",
    "```bash\n",
    "python ex1.py\n",
    "```"
   ]
  },
  {
   "cell_type": "markdown",
   "id": "3c7477ce-0ed3-45c5-800c-46214c2df5bf",
   "metadata": {},
   "source": [
    "## Study Drills\n",
    "For this exercise, try these things:\n",
    "1. Make your script print another line.\n",
    "2. Make your script print only one of the lines.\n",
    "3. Put a `#` character at the beginning of a line. What did it do?"
   ]
  }
 ],
 "metadata": {
  "kernelspec": {
   "display_name": "Python 3 (ipykernel)",
   "language": "python",
   "name": "python3"
  },
  "language_info": {
   "codemirror_mode": {
    "name": "ipython",
    "version": 3
   },
   "file_extension": ".py",
   "mimetype": "text/x-python",
   "name": "python",
   "nbconvert_exporter": "python",
   "pygments_lexer": "ipython3",
   "version": "3.12.8"
  }
 },
 "nbformat": 4,
 "nbformat_minor": 5
}
