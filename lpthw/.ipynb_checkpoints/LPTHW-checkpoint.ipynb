{
 "cells": [
  {
   "cell_type": "markdown",
   "id": "775ebc33-823f-42a2-a5e2-d3892ad7dc9f",
   "metadata": {},
   "source": [
    "# A Good First Program\n",
    "---\n",
    "Type the following text into a single file named `ex1.py`. Python works best with files ending in `.py`."
   ]
  },
  {
   "cell_type": "code",
   "execution_count": 1,
   "id": "e2b7285c-c986-46c5-bed9-aa79b9013772",
   "metadata": {},
   "outputs": [
    {
     "name": "stdout",
     "output_type": "stream",
     "text": [
      "Hello, world\n",
      "Hello, again!\n",
      "I like typing this\n",
      "Yay! Printing\n"
     ]
    }
   ],
   "source": [
    "print(\"Hello, world\")\n",
    "print(\"Hello, again!\")\n",
    "print(\"I like typing this\")\n",
    "print('Yay! Printing')"
   ]
  },
  {
   "cell_type": "markdown",
   "id": "070aeefc-cfea-4758-a292-7572f38264d5",
   "metadata": {},
   "source": [
    "---\n",
    "Run the script by typing the following command in your terminal:\n",
    "```bash\n",
    "python ex1.py\n",
    "```"
   ]
  },
  {
   "cell_type": "markdown",
   "id": "3c7477ce-0ed3-45c5-800c-46214c2df5bf",
   "metadata": {},
   "source": [
    "## Study Drills\n",
    "For this exercise, try these things:\n",
    "1. Make your script print another line.\n",
    "2. Make your script print only one of the lines.\n",
    "3. Put a `#` character at the beginning of a line. What did it do?"
   ]
  },
  {
   "cell_type": "markdown",
   "id": "e50c22e2-8519-4205-aab1-362da0f874c8",
   "metadata": {},
   "source": [
    "# Comments and Pound Characters\n",
    "Comments are very important in your programs. They are used to tell you what something does in English, and they are used to disable parts of your program if you need to remove them temporarily. Here's how you use comments in Python:"
   ]
  },
  {
   "cell_type": "code",
   "execution_count": 3,
   "id": "696c9e02-7adf-41ea-9e1e-64b3a2c67ba6",
   "metadata": {},
   "outputs": [
    {
     "name": "stdout",
     "output_type": "stream",
     "text": [
      "I could have code like this.\n",
      "This will run.\n"
     ]
    }
   ],
   "source": [
    "# A single line comment, this is so you can read your program later.\n",
    "# Anything after the # is ignored by python.\n",
    "\n",
    "print(\"I could have code like this.\") # and this is ignored\n",
    "\n",
    "\"\"\"\n",
    "You can write\n",
    "multi-line comments\n",
    "like this.\n",
    "\"\"\"\n",
    "\n",
    "print(\"This will run.\")"
   ]
  },
  {
   "cell_type": "markdown",
   "id": "cea1bf43-7de4-4a87-98a1-88aece454d99",
   "metadata": {},
   "source": [
    "# Numbers and Math\n",
    "Every programming language has some kind of way of doing numbers and math. Do not worry: programmers frequently lie about being math geniuses when they really aren't. If they were math geniuses, they would be doing math, not writing buggy web frameworks so they can drive race cars."
   ]
  },
  {
   "cell_type": "code",
   "execution_count": 5,
   "id": "09df6f20-393a-400a-a729-5df65560834b",
   "metadata": {},
   "outputs": [
    {
     "name": "stdout",
     "output_type": "stream",
     "text": [
      "I will now count my chickens:\n",
      "Hens 30.0\n",
      "Roosters 97\n",
      "Now I will count the eggs:\n",
      "6.75\n",
      "Is it true that 3 + 2 < 5 - 7?\n",
      "False\n",
      "What is 3 + 2? 5\n",
      "What is 5 - 7? -2\n",
      "Oh, that's why it's False.\n",
      "Is it greater? True\n",
      "Is it greater or equal? True\n",
      "Is it less or equal? False\n"
     ]
    }
   ],
   "source": [
    "print(\"I will now count my chickens:\")\n",
    "\n",
    "print(\"Hens\", 25 + 30 / 6)\n",
    "print(\"Roosters\", 100 - 25 * 3 % 4)\n",
    "\n",
    "print(\"Now I will count the eggs:\")\n",
    "\n",
    "print(3 + 2 + 1 - 5 + 4 % 2 - 1 / 4 + 6)\n",
    "\n",
    "print(\"Is it true that 3 + 2 < 5 - 7?\")\n",
    "print(3 + 2 < 5 - 7)\n",
    "\n",
    "print(\"What is 3 + 2?\", 3 + 2)\n",
    "print(\"What is 5 - 7?\", 5 - 7)\n",
    "\n",
    "print(\"Oh, that's why it's False.\")\n",
    "\n",
    "print(\"Is it greater?\", 5 > -2)\n",
    "print(\"Is it greater or equal?\", 5 >= -2)\n",
    "print(\"Is it less or equal?\", 5 <= -2)"
   ]
  },
  {
   "cell_type": "markdown",
   "id": "fcc2e30a-53fd-484f-aa9e-9a4b5c9cb4ed",
   "metadata": {},
   "source": [
    "# Variables and Names\n",
    "Now you can print things with `print` and you can do math. The next step is to learn about variables. In programming, a variable is nothing more than a name for something, similar to how my name \"Milos\" is a name for, \"The human who wrote this book.\" Programmers use these variable names to make their code more like English and because they have lousy memories. If they didn't use good names for things in their software, they'd get lost when they tried to read their code again."
   ]
  },
  {
   "cell_type": "code",
   "execution_count": 2,
   "id": "3b20a92b-f664-426a-9b86-3543974e279f",
   "metadata": {},
   "outputs": [
    {
     "name": "stdout",
     "output_type": "stream",
     "text": [
      "There are 100 cars available.\n",
      "There are only 30 drivers available.\n",
      "There will be 70 empty cars today.\n",
      "We can transport 120.0 people today.\n",
      "We have 90 to carpool today.\n",
      "We need to put about 3.0 in each car.\n"
     ]
    }
   ],
   "source": [
    "cars = 100\n",
    "space_in_a_car = 4.0\n",
    "drivers = 30\n",
    "passengers = 90\n",
    "cars_not_driven = cars - drivers\n",
    "cars_driven = drivers\n",
    "carpool_capacity = cars_driven * space_in_a_car\n",
    "average_passengers_per_car = passengers / cars_driven\n",
    "\n",
    "print(\"There are\", cars, \"cars available.\")\n",
    "print(\"There are only\", drivers, \"drivers available.\")\n",
    "print(\"There will be\", cars_not_driven, \"empty cars today.\")\n",
    "print(\"We can transport\", carpool_capacity, \"people today.\")\n",
    "print(\"We have\", passengers, \"to carpool today.\")\n",
    "print(\"We need to put about\", average_passengers_per_car,\n",
    "      \"in each car.\")"
   ]
  },
  {
   "cell_type": "markdown",
   "id": "484f77b1-6077-49fc-adc8-14dc36a2bd6f",
   "metadata": {},
   "source": [
    "# More Variables and Printing\n",
    "Now we'll do even more typing of variables and printing them out. This time we'll use something called a `format string`. Every time you put \" (double quotes) around a piece of text you have been making a _string_. A string is how you make something that your program might give to a human. You print strings, save strings to files, send strings to web servers, and many other things.\n",
    "\n",
    "Strings are really handy, so in this exercise you'll learn how to make strings that have variables embedded in them. You embed variables inside a string by using a special {} sequence and then put the variable you want inside the {} characters. You also must start the string with the letter f for \"format\", as in `f\"Hello {somevar}\"`. This little `f` before the `\"` and the `{}` characters tell python 3, \"Hey, this string needs to be formatted. Put these variables in there.\""
   ]
  },
  {
   "cell_type": "code",
   "execution_count": 1,
   "id": "0aa1ced5-abb2-45be-842f-09d9546d84e3",
   "metadata": {},
   "outputs": [
    {
     "name": "stdout",
     "output_type": "stream",
     "text": [
      "Let's talk about Milos Spartan.\n",
      "He's 181 centimeters tall.\n",
      "He's 85 kilos heavy.\n",
      "Actually, that's not too heavy.\n",
      "He's got Blue eyes and Blonde hair.\n",
      "His teeth are usually White depending on the coffee.\n",
      "If I add 31, 181 and 85 I get 297.\n"
     ]
    }
   ],
   "source": [
    "my_name = \"Milos Spartan\"\n",
    "my_age = 31 # not a lie\n",
    "my_height = 181 # centimeters\n",
    "my_weight = 85 # kilograms\n",
    "my_eyes = \"Blue\"\n",
    "my_teeth = \"White\"\n",
    "my_hair = \"Blonde\"\n",
    "\n",
    "print(f\"Let's talk about {my_name}.\")\n",
    "print(f\"He's {my_height} centimeters tall.\")\n",
    "print(f\"He's {my_weight} kilos heavy.\")\n",
    "print(f\"Actually, that's not too heavy.\")\n",
    "print(f\"He's got {my_eyes} eyes and {my_hair} hair.\")\n",
    "print(f\"His teeth are usually {my_teeth} depending on the coffee.\")\n",
    "\n",
    "# this line is tricky, try to get it exactly right\n",
    "total = my_age + my_height + my_weight\n",
    "print(f\"If I add {my_age}, {my_height} and {my_weight} I get {total}.\")"
   ]
  },
  {
   "cell_type": "markdown",
   "id": "660296b4-886e-46fb-b5db-dd8a1acc340b",
   "metadata": {},
   "source": [
    "# Strings and Text\n",
    "While you have been writing strings, you still do not know what they do. In this exercise we create a bunch of variables with complex strings so you can see what they are for. First, an explanation of strings.\n",
    "\n",
    "A string is usually a bit of text you want to display to someone or `export` out of the program you are writing. Python knows you want something to be a string when you put either `\"` (double-quotes) or `'` (single-quotes) around the text. You saw this many times with your use of `print` when you put the text you want to go inside the string inside single or double quotes after the `print` to print the string.\n",
    "\n",
    "Strings can contain any number of variables that are in your python script. Remember that a variable is any line of code wher you set a name = (equal) to a value. In the code for this exercise, `types_of_people = 10` creates a variable named `types_of_people` and sets it to `10`. You can put that in any string with `{types_of_people}`. You also see that I have to use a special type of string to \"format\"; it's called an \"f-string\" and looks like this:\n",
    "`f\"some stuff here {a_variable}\"`\n",
    "`f\"some other stuff {another_variable}\"`\n",
    "\n",
    "Python also has another kind of formatting using the `.format()` syntax which you see on line 17. You'll use that sometimes when you want to apply a format to an already created string, such as in a loop."
   ]
  },
  {
   "cell_type": "code",
   "execution_count": 1,
   "id": "405da022-2513-45d8-824d-a35a64669635",
   "metadata": {},
   "outputs": [
    {
     "name": "stdout",
     "output_type": "stream",
     "text": [
      "There are 10 types of people.\n",
      "Those who know binary and those who don't.\n",
      "I said: There are 10 types of people.\n",
      "I also said: 'Those who know binary and those who don't.'\n",
      "Isn't that joke so funny?! False\n",
      "This is the left side of ...a string with a right side.\n"
     ]
    }
   ],
   "source": [
    "types_of_people = 10\n",
    "x = f\"There are {types_of_people} types of people.\"\n",
    "\n",
    "binary = \"binary\"\n",
    "do_not = \"don't\"\n",
    "y = f\"Those who know {binary} and those who {do_not}.\"\n",
    "\n",
    "print(x)\n",
    "print(y)\n",
    "\n",
    "print(f\"I said: {x}\")\n",
    "print(f\"I also said: '{y}'\")\n",
    "\n",
    "hilarious = False\n",
    "\n",
    "joke_evaluation = \"Isn't that joke so funny?! {}\"\n",
    "\n",
    "print(joke_evaluation.format(hilarious))\n",
    "\n",
    "w = \"This is the left side of ...\"\n",
    "e = \"a string with a right side.\"\n",
    "\n",
    "print(w + e)"
   ]
  },
  {
   "cell_type": "markdown",
   "id": "95671b30-09be-446f-870e-c63901beaeb3",
   "metadata": {},
   "source": [
    "# More Printing"
   ]
  },
  {
   "cell_type": "code",
   "execution_count": 3,
   "id": "c67c9365-1e1d-417c-8f8e-c1938ef18f1f",
   "metadata": {},
   "outputs": [
    {
     "name": "stdout",
     "output_type": "stream",
     "text": [
      "Mary had a little lamb.\n",
      "Its fleece was white as snow\n",
      "And everywhere that Mary went.\n",
      "..........\n",
      "Cheese Burger\n"
     ]
    }
   ],
   "source": [
    "print(\"Mary had a little lamb.\")\n",
    "print(\"Its fleece was white as {}\".format(\"snow\"))\n",
    "print(\"And everywhere that Mary went.\")\n",
    "print(\".\" * 10) # what'd that do?\n",
    "\n",
    "end1 = \"C\"\n",
    "end2 = \"h\"\n",
    "end3 = \"e\"\n",
    "end4 = \"e\"\n",
    "end5 = \"s\"\n",
    "end6 = \"e\"\n",
    "end7 = \"B\"\n",
    "end8 = \"u\"\n",
    "end9 = \"r\"\n",
    "end10 = \"g\"\n",
    "end11 = \"e\"\n",
    "end12 = \"r\"\n",
    "\n",
    "# watch end = \" \" at the end. try removing it to see what happens\n",
    "print(end1 + end2 + end3 + end4 + end5 + end6, end=\" \")\n",
    "print(end7 + end8 + end9 + end10 + end11 + end12)"
   ]
  },
  {
   "cell_type": "markdown",
   "id": "7754dc91-7ade-4432-9ea3-206129830100",
   "metadata": {},
   "source": [
    "# Printing, Printing\n",
    "We will now see how to do a more complicated formatting of a string. This code looks complex, but if you do your comments above each line and break each thing down to its parts, you'll understand it."
   ]
  },
  {
   "cell_type": "code",
   "execution_count": 4,
   "id": "1a66775c-1121-45ec-a6c8-85e9efa9e2e1",
   "metadata": {},
   "outputs": [
    {
     "name": "stdout",
     "output_type": "stream",
     "text": [
      "1 2 3 4\n",
      "one two three four\n",
      "True False False True\n",
      "{} {} {} {} {} {} {} {} {} {} {} {} {} {} {} {}\n",
      "Try your Own text here Maybe a poem Or a song about fear\n"
     ]
    }
   ],
   "source": [
    "formatter = \"{} {} {} {}\"\n",
    "\n",
    "print(formatter.format(1, 2, 3, 4))\n",
    "print(formatter.format(\"one\", \"two\", \"three\", \"four\"))\n",
    "print(formatter.format(True, False, False, True))\n",
    "print(formatter.format(formatter, formatter, formatter, formatter))\n",
    "print(formatter.format(\n",
    "    \"Try your\",\n",
    "    \"Own text here\",\n",
    "    \"Maybe a poem\",\n",
    "    \"Or a song about fear\"\n",
    "))"
   ]
  },
  {
   "cell_type": "markdown",
   "id": "3c57b666-3776-4463-9c22-6281594e9698",
   "metadata": {},
   "source": [
    "# Printing, Printing, Printing"
   ]
  },
  {
   "cell_type": "code",
   "execution_count": 6,
   "id": "ed977071-5c16-49ab-8011-dbfb4d5ca039",
   "metadata": {},
   "outputs": [
    {
     "name": "stdout",
     "output_type": "stream",
     "text": [
      "Here are the days:  Mon Tue Wed Thu Fri Sat Sun\n",
      "Here are the months:  \n",
      "Jan\n",
      "Feb\n",
      "Mar\n",
      "Apr\n",
      "May\n",
      "Jun\n",
      "Jul\n",
      "Aug\n",
      "\n",
      "There's something going on here.\n",
      "With the three double-quotes.\n",
      "We'll be able to type as much as we like.\n",
      "Even 4 lines if we want, or 5, or 6.\n",
      "\n"
     ]
    }
   ],
   "source": [
    "# Here's some strange stuff, remember to type it exactly.\n",
    "\n",
    "days = \"Mon Tue Wed Thu Fri Sat Sun\"\n",
    "months = \"\\nJan\\nFeb\\nMar\\nApr\\nMay\\nJun\\nJul\\nAug\"\n",
    "\n",
    "print(\"Here are the days: \", days)\n",
    "print(\"Here are the months: \", months)\n",
    "\n",
    "print(\"\"\"\n",
    "There's something going on here.\n",
    "With the three double-quotes.\n",
    "We'll be able to type as much as we like.\n",
    "Even 4 lines if we want, or 5, or 6.\n",
    "\"\"\")"
   ]
  },
  {
   "cell_type": "markdown",
   "id": "54162ff8-cce5-4baa-8bf8-17038d398b07",
   "metadata": {},
   "source": [
    "# What was that?\n",
    "In the last exercise we threw some new stuff, just to keep us on our toes. We learned how to make a string that goes across multiple lines. In the first way, we put the characters `\\n` between the names of the months. These two characters put a new line character into the string at that point.\n",
    "\n",
    "The `\\` character encodes difficult-to-type characters into a string. There are various \"escape sequences\" available for different characters you might want to use. We'll try a few of these sequences so you can see what we mean."
   ]
  },
  {
   "cell_type": "code",
   "execution_count": 7,
   "id": "c02f73b1-2128-4ceb-ba21-4654091dabb5",
   "metadata": {},
   "outputs": [
    {
     "name": "stdout",
     "output_type": "stream",
     "text": [
      "\tI'm tabbed in.\n",
      "I'm split\n",
      "on a line.\n",
      "I'm \\ a \\ cat.\n",
      "\n",
      "I'll do a list:\n",
      "\t* Cat food\n",
      "\t* Fishies\n",
      "\t* Catnip\n",
      "\t* Grass\n",
      "\n"
     ]
    }
   ],
   "source": [
    "tabby_cat = \"\\tI'm tabbed in.\"\n",
    "persian_cat = \"I'm split\\non a line.\"\n",
    "backslash_cat = \"I'm \\\\ a \\\\ cat.\"\n",
    "\n",
    "fat_cat = \"\"\"\n",
    "I'll do a list:\n",
    "\\t* Cat food\n",
    "\\t* Fishies\n",
    "\\t* Catnip\\n\\t* Grass\n",
    "\"\"\"\n",
    "\n",
    "print(tabby_cat)\n",
    "print(persian_cat)\n",
    "print(backslash_cat)\n",
    "print(fat_cat)"
   ]
  },
  {
   "cell_type": "markdown",
   "id": "dc6f65df-570a-4859-95b9-3c0bcec97951",
   "metadata": {},
   "source": [
    "# Escape Sequences\n",
    "This is all of the escape sequences Python supports. You may not use many of these, but memorize their format and what they do anyway. Try them out in some strings to see if you can make them work.\n",
    "\n",
    "| Escape | What it does |\n",
    "|--------|--------------|\n",
    "| \\\\\\    | Backslash (\\)|\n",
    "| \\\\'    | Single quote(')|\n",
    "| \\\\\"    | Double quote(\"\")|\n",
    "| \\\\a    | ASCII bell (BEL)|\n",
    "| \\\\b    | ASCII backspace (BS)|\n",
    "| \\\\f    | ASCII formfeed (FF)|\n",
    "| \\\\n    | ASCII linefeed (LF)|\n",
    "| \\\\N{name} | Character named name in the Unicode database (Unicode only)\n",
    "| \\\\r | Carriage Return (CR)|\n",
    "| \\\\t | Horizontal Tab (TAB)|\n",
    "| \\\\uxxxx | Character with 16-bit hex value xxxx|\n",
    "| \\\\Uxxxxxxxx | Character with 32-bit hex value xxxxxxxx|\n",
    "| \\\\v | ASCII vertical tab (VT)\n",
    "| \\\\000 | Character with octal value 000\n",
    "| \\\\xhh | Character with hex value hh"
   ]
  },
  {
   "cell_type": "markdown",
   "id": "b739ec40-aa96-4fdc-b3e3-4d7840ac7a61",
   "metadata": {},
   "source": [
    "# Asking Questions\n",
    "Now it's time to pick up the pace. You are doing a lot of printing to get you familiar with typing simple things, but those simple things are fairly boring. What we want to do now is get data into your programs. This is a little tricky, because you have to learn to do two things that may not make sense right away, but trust me and do it anyway. It will make sense in a few exercises.\n",
    "\n",
    "Most of what software does is following:\n",
    "1. Take some kind of input from a person\n",
    "2. Change it\n",
    "3. Print out something to show how it changed\n",
    "\n",
    "So far you've been printing strings, but you haven't been able to get any input from a person. You may not even know what \"input\" means, but type this code in anyway, and make it exactly the same. In the next exercise we'll do more to explain input."
   ]
  },
  {
   "cell_type": "code",
   "execution_count": 8,
   "id": "4d933432-42da-4192-8c73-eb644e36b133",
   "metadata": {},
   "outputs": [
    {
     "name": "stdout",
     "output_type": "stream",
     "text": [
      "How old are you? "
     ]
    },
    {
     "name": "stdin",
     "output_type": "stream",
     "text": [
      " 31\n"
     ]
    },
    {
     "name": "stdout",
     "output_type": "stream",
     "text": [
      "How tall are you? "
     ]
    },
    {
     "name": "stdin",
     "output_type": "stream",
     "text": [
      " 181\n"
     ]
    },
    {
     "name": "stdout",
     "output_type": "stream",
     "text": [
      "How much do you weight? "
     ]
    },
    {
     "name": "stdin",
     "output_type": "stream",
     "text": [
      " 85\n"
     ]
    },
    {
     "name": "stdout",
     "output_type": "stream",
     "text": [
      "So, you're 31 years old, 181cm tall and 85kg heavy.\n"
     ]
    }
   ],
   "source": [
    "print(\"How old are you?\", end=\" \")\n",
    "age = input()\n",
    "print(\"How tall are you?\", end=\" \")\n",
    "height = input()\n",
    "print(\"How much do you weight?\", end=\" \")\n",
    "weight = input()\n",
    "\n",
    "print(f\"So, you're {age} years old, {height}cm tall and {weight}kg heavy.\")"
   ]
  },
  {
   "cell_type": "markdown",
   "id": "1d815a8a-190a-40ed-aac6-aa967e5e91f8",
   "metadata": {},
   "source": [
    "# Prompting People\n",
    "When you typed `input()` you were typing the ( and ) characters, which are parenthesis characters. For input, you can also put in a prompt to show to a person so he knows what to type. Put a string that you want for the prompt inside the `()` so that it looks like this:\n",
    "\n",
    "`y = input(\"Name: \")`\n",
    "\n",
    "This prompts the user with `Name: ` and puts the result into the variable `y`. This is how you ask someone a question and get the answer.\n",
    "\n",
    "This means we can completely rewrite our previous exercise using just input to do all the prompting."
   ]
  },
  {
   "cell_type": "code",
   "execution_count": 10,
   "id": "b571d602-9880-40f1-ad73-36a772758c85",
   "metadata": {},
   "outputs": [
    {
     "name": "stdin",
     "output_type": "stream",
     "text": [
      "How old are you?  31\n",
      "How tall are you?  181\n",
      "How much do you weigh?  85\n"
     ]
    },
    {
     "name": "stdout",
     "output_type": "stream",
     "text": [
      "So, you're 31 years old, 181cm tall and 85kg heavy.\n"
     ]
    }
   ],
   "source": [
    "age = input(\"How old are you? \")\n",
    "height = input(\"How tall are you? \")\n",
    "weight = input(\"How much do you weigh? \")\n",
    "\n",
    "print(f\"So, you're {age} years old, {height}cm tall and {weight}kg heavy.\")"
   ]
  },
  {
   "cell_type": "markdown",
   "id": "faee7dba-4870-4b63-9f3b-0b7da37bdddb",
   "metadata": {},
   "source": [
    "# Parameters, Unpacking, Variables\n",
    "In this exercise we will cover one more input method you can use to pass variables to a script. You know how you type `python script.py` to run the `script.py` file? Well, the `script.py` part of the command is called an \"argument\". What we'll do now is write a script that also accepts arguments."
   ]
  },
  {
   "cell_type": "code",
   "execution_count": 2,
   "id": "18e1e6bc-1074-49fe-a0ce-3555471fc4af",
   "metadata": {},
   "outputs": [
    {
     "name": "stdout",
     "output_type": "stream",
     "text": [
      "The script is called: /home/kain/.local/python3.11/lib/python3.11/site-packages/ipykernel_launcher.py\n",
      "Your first variable is: -f\n",
      "Your second variable is: /home/kain/.local/share/jupyter/runtime/kernel-6f66f3eb-50fa-4d61-a281-f8b0d5cb055b.json\n"
     ]
    }
   ],
   "source": [
    "from sys import argv\n",
    "\n",
    "script, first, second = argv\n",
    "\n",
    "print(\"The script is called:\", script)\n",
    "print(\"Your first variable is:\", first)\n",
    "print(\"Your second variable is:\", second)"
   ]
  },
  {
   "cell_type": "markdown",
   "id": "720e4d9e-d342-4145-88e8-8de534679323",
   "metadata": {},
   "source": [
    "On line 1 we have what's called an `import`. This is how you add features to your script from the Python feature set. Rather than give you all the features at once, Python asks you to say what you plan to use. This keeps your programs small, but it also acts as documentation for other programmers who read your code later.\n",
    "\n",
    "The `argv` is the _argument variable_, a very standard name in programming that you will find used in many other languages. This variable holds the arguments you pass to your Python script when you run it. In the exercises you will get to play with this more and see what happens.\n",
    "\n",
    "Line 3 _unpacks_ argv so that, rather than holding all the arguments, it gets assigned to 3 variables you can work with: `script`, `first` and `second`. This may look strange, but _unpack_ is probably the best word to describe what it does. It just says \"take whatever is in argv, unpack it, and assign it to all of these variables on the left in order\"."
   ]
  },
  {
   "cell_type": "markdown",
   "id": "9d1605c5-177e-4919-bfcc-3238edd0617c",
   "metadata": {},
   "source": [
    "# Hold Up! Features have another name!\n",
    "We call them _features_ here, but nobody else calls them features. We just used that name because we needed to trick us into learning what they are without jargon. Before we continue, we need to learn their real name: `modules`.\n",
    "\n",
    "From now on, we will be calling these _features_ that we import __modules__. We'll say things like \"you want to import the `sys` __module__\". They are also called __libraries__ by other programmers, but let's just stick with __modules__."
   ]
  },
  {
   "cell_type": "markdown",
   "id": "a7d7dea2-a26a-46ec-8fea-5d37a8648b48",
   "metadata": {},
   "source": [
    "# Prompting and Passing\n",
    "Let's do one exercise that uses `argv` and `input` together to ask the user something specific. You will need this for the next exercise where you learn to read and write files. In this exercise we'll use input slightly differently by having it print a simple `>` prompt."
   ]
  },
  {
   "cell_type": "code",
   "execution_count": 1,
   "id": "5b67849c-f709-4315-946b-5cec3b99c081",
   "metadata": {},
   "outputs": [
    {
     "ename": "ValueError",
     "evalue": "too many values to unpack (expected 2)",
     "output_type": "error",
     "traceback": [
      "\u001b[0;31m---------------------------------------------------------------------------\u001b[0m",
      "\u001b[0;31mValueError\u001b[0m                                Traceback (most recent call last)",
      "Cell \u001b[0;32mIn[1], line 3\u001b[0m\n\u001b[1;32m      1\u001b[0m \u001b[38;5;28;01mfrom\u001b[39;00m\u001b[38;5;250m \u001b[39m\u001b[38;5;21;01msys\u001b[39;00m\u001b[38;5;250m \u001b[39m\u001b[38;5;28;01mimport\u001b[39;00m argv\n\u001b[0;32m----> 3\u001b[0m script, user_name \u001b[38;5;241m=\u001b[39m argv\n\u001b[1;32m      4\u001b[0m prompt \u001b[38;5;241m=\u001b[39m \u001b[38;5;124m\"\u001b[39m\u001b[38;5;124m> \u001b[39m\u001b[38;5;124m\"\u001b[39m\n\u001b[1;32m      6\u001b[0m \u001b[38;5;28mprint\u001b[39m(\u001b[38;5;124mf\u001b[39m\u001b[38;5;124m\"\u001b[39m\u001b[38;5;124mHi \u001b[39m\u001b[38;5;132;01m{\u001b[39;00muser_name\u001b[38;5;132;01m}\u001b[39;00m\u001b[38;5;124m, I\u001b[39m\u001b[38;5;124m'\u001b[39m\u001b[38;5;124mm the \u001b[39m\u001b[38;5;132;01m{\u001b[39;00mscript\u001b[38;5;132;01m}\u001b[39;00m\u001b[38;5;124m script.\u001b[39m\u001b[38;5;124m\"\u001b[39m)\n",
      "\u001b[0;31mValueError\u001b[0m: too many values to unpack (expected 2)"
     ]
    }
   ],
   "source": [
    "from sys import argv\n",
    "\n",
    "script, user_name = argv\n",
    "prompt = \"> \"\n",
    "\n",
    "print(f\"Hi {user_name}, I'm the {script} script.\")\n",
    "print(\"I'd like to ask you a few questions.\")\n",
    "print(f\"Do you like me {user_name}?\")\n",
    "likes = input(prompt)\n",
    "\n",
    "print(f\"Where do you live, {user_name}?\")\n",
    "lives = input(prompt)\n",
    "\n",
    "print(\"What kind of computer do you have?\")\n",
    "computer = input(prompt)\n",
    "\n",
    "print(f\"\"\"\n",
    "Alright, so you said {likes} about liking me.\n",
    "You live in {lives}. Not sure where that is.\n",
    "And you have a {computer} computer. Nice.\n",
    "\"\"\")"
   ]
  },
  {
   "cell_type": "markdown",
   "id": "47e93794-958c-4553-ae73-e466e6bedbb7",
   "metadata": {},
   "source": [
    "We make a variable prompt that is set to the prompt we want, and we give that to input instead of typing it over and over. Now if we want to make the prompt something else, we just change it in this one spot and rerun the script. Very handy."
   ]
  },
  {
   "cell_type": "markdown",
   "id": "88de6ab6-9d6e-42d5-9223-0a9dca8ac2d3",
   "metadata": {},
   "source": [
    "# Reading Files\n",
    "You know how to get input from a user with `input` or `argv`. Now you will learn about reading from a file. You may have to play with this exercise the most to understand what's going on, so do the exercise carefully and remember your checks. Working with files is an easy way to erase your work if you are not careful.\n",
    "\n",
    "This exercise involves writing two files. One is the usual `script.py` file that you will run, but the other is named `sample.txt`. The second file isn't a script but a plain text file we'll be reading in our script. Here are some contents of that file:\n",
    "```\n",
    "This is stuff I typed into a file.\n",
    "It is really cool stuff.\n",
    "Lots and lots of fun to have in here.\n",
    "```\n",
    "\n",
    "What we want to do is \"open\" that file in our script and print it out. However, we do not want to just \"hard code\" the name sample.txt into our script. \"Hard coding\" means putting some bit of information that should come from the user as a string directly in our source code. That's bad because we want it to load other files later. The solution is to use argv or input to ask the user what file to open instead of hard coding the file's name."
   ]
  },
  {
   "cell_type": "code",
   "execution_count": 2,
   "id": "03aade42-127e-4f16-afc6-95a5e972833c",
   "metadata": {},
   "outputs": [
    {
     "ename": "ValueError",
     "evalue": "too many values to unpack (expected 2)",
     "output_type": "error",
     "traceback": [
      "\u001b[0;31m---------------------------------------------------------------------------\u001b[0m",
      "\u001b[0;31mValueError\u001b[0m                                Traceback (most recent call last)",
      "Cell \u001b[0;32mIn[2], line 3\u001b[0m\n\u001b[1;32m      1\u001b[0m \u001b[38;5;28;01mfrom\u001b[39;00m\u001b[38;5;250m \u001b[39m\u001b[38;5;21;01msys\u001b[39;00m\u001b[38;5;250m \u001b[39m\u001b[38;5;28;01mimport\u001b[39;00m argv\n\u001b[0;32m----> 3\u001b[0m script, filename \u001b[38;5;241m=\u001b[39m argv\n\u001b[1;32m      5\u001b[0m txt \u001b[38;5;241m=\u001b[39m \u001b[38;5;28mopen\u001b[39m(filename)\n\u001b[1;32m      7\u001b[0m \u001b[38;5;28mprint\u001b[39m(\u001b[38;5;124mf\u001b[39m\u001b[38;5;124m\"\u001b[39m\u001b[38;5;124mHere\u001b[39m\u001b[38;5;124m'\u001b[39m\u001b[38;5;124ms your file \u001b[39m\u001b[38;5;132;01m{\u001b[39;00mfilename\u001b[38;5;132;01m}\u001b[39;00m\u001b[38;5;124m:\u001b[39m\u001b[38;5;124m\"\u001b[39m)\n",
      "\u001b[0;31mValueError\u001b[0m: too many values to unpack (expected 2)"
     ]
    }
   ],
   "source": [
    "from sys import argv\n",
    "\n",
    "script, filename = argv\n",
    "\n",
    "txt = open(filename)\n",
    "\n",
    "print(f\"Here's your file {filename}:\")\n",
    "print(txt.read())\n",
    "\n",
    "print(\"Type the filename again:\")\n",
    "file_again = input(\"> \")\n",
    "\n",
    "txt_again = open(file_again)\n",
    "\n",
    "print(txt_again.read())"
   ]
  },
  {
   "cell_type": "markdown",
   "id": "4ae4420a-b554-4b37-9543-6649a0d441dc",
   "metadata": {},
   "source": [
    "# Reading and Writing Files"
   ]
  },
  {
   "cell_type": "code",
   "execution_count": 1,
   "id": "db5794d9-4aa0-475c-a0f7-0c25737fbb38",
   "metadata": {},
   "outputs": [
    {
     "ename": "ValueError",
     "evalue": "too many values to unpack (expected 2)",
     "output_type": "error",
     "traceback": [
      "\u001b[0;31m---------------------------------------------------------------------------\u001b[0m",
      "\u001b[0;31mValueError\u001b[0m                                Traceback (most recent call last)",
      "Cell \u001b[0;32mIn[1], line 3\u001b[0m\n\u001b[1;32m      1\u001b[0m \u001b[38;5;28;01mfrom\u001b[39;00m\u001b[38;5;250m \u001b[39m\u001b[38;5;21;01msys\u001b[39;00m\u001b[38;5;250m \u001b[39m\u001b[38;5;28;01mimport\u001b[39;00m argv\n\u001b[0;32m----> 3\u001b[0m script, filename \u001b[38;5;241m=\u001b[39m argv\n\u001b[1;32m      5\u001b[0m \u001b[38;5;28mprint\u001b[39m(\u001b[38;5;124mf\u001b[39m\u001b[38;5;124m\"\u001b[39m\u001b[38;5;124mWe\u001b[39m\u001b[38;5;124m'\u001b[39m\u001b[38;5;124mre going to erase \u001b[39m\u001b[38;5;132;01m{\u001b[39;00mfilename\u001b[38;5;132;01m}\u001b[39;00m\u001b[38;5;124m\"\u001b[39m)\n\u001b[1;32m      6\u001b[0m \u001b[38;5;28mprint\u001b[39m(\u001b[38;5;124mf\u001b[39m\u001b[38;5;124m\"\u001b[39m\u001b[38;5;124mIf you don\u001b[39m\u001b[38;5;124m'\u001b[39m\u001b[38;5;124mt want that, hit CTRL-C\u001b[39m\u001b[38;5;124m\"\u001b[39m)\n",
      "\u001b[0;31mValueError\u001b[0m: too many values to unpack (expected 2)"
     ]
    }
   ],
   "source": [
    "from sys import argv\n",
    "\n",
    "script, filename = argv\n",
    "\n",
    "print(f\"We're going to erase {filename}\")\n",
    "print(f\"If you don't want that, hit CTRL-C\")\n",
    "print(\"If you do want that, hit RETURN\")\n",
    "\n",
    "input(\"> \")\n",
    "\n",
    "print(\"Opening the file...\")\n",
    "target = open(filename, \"w\")\n",
    "\n",
    "print(\"Truncating the file. Goodbye!\")\n",
    "target.truncate()\n",
    "\n",
    "line1 = input(\"line 1: \")\n",
    "line2 = input(\"line 2: \")\n",
    "line3 = input(\"line 3: \")\n",
    "\n",
    "print(\"I'm going to write these to the file.\")\n",
    "\n",
    "target.write(line1)\n",
    "target.write(\"\\n\")\n",
    "target.write(line2)\n",
    "target.write(\"\\n\")\n",
    "target.write(line3)\n",
    "target.write(\"\\n\")\n",
    "\n",
    "print(\"And finally, we close it.\")\n",
    "target.close()\n"
   ]
  },
  {
   "cell_type": "markdown",
   "id": "fc01c3f6-2664-4560-814a-5f66173d80a2",
   "metadata": {},
   "source": [
    "# More Files\n",
    "Now let's do a few more things with files. We'll write a Python script to copy one file to another. It'll be very short but will give you ideas about other things you can do with files."
   ]
  },
  {
   "cell_type": "code",
   "execution_count": 2,
   "id": "c1943912-f4cb-44d7-bc04-13c9623d82ad",
   "metadata": {},
   "outputs": [
    {
     "name": "stdout",
     "output_type": "stream",
     "text": [
      "Copying from -f to /home/kain/.local/share/jupyter/runtime/kernel-6c08edbf-7f8e-4766-baf5-d71ba4b8efda.json\n"
     ]
    },
    {
     "ename": "FileNotFoundError",
     "evalue": "[Errno 2] No such file or directory: '-f'",
     "output_type": "error",
     "traceback": [
      "\u001b[0;31m---------------------------------------------------------------------------\u001b[0m",
      "\u001b[0;31mFileNotFoundError\u001b[0m                         Traceback (most recent call last)",
      "Cell \u001b[0;32mIn[2], line 9\u001b[0m\n\u001b[1;32m      6\u001b[0m \u001b[38;5;28mprint\u001b[39m(\u001b[38;5;124mf\u001b[39m\u001b[38;5;124m\"\u001b[39m\u001b[38;5;124mCopying from \u001b[39m\u001b[38;5;132;01m{\u001b[39;00mfrom_file\u001b[38;5;132;01m}\u001b[39;00m\u001b[38;5;124m to \u001b[39m\u001b[38;5;132;01m{\u001b[39;00mto_file\u001b[38;5;132;01m}\u001b[39;00m\u001b[38;5;124m\"\u001b[39m)\n\u001b[1;32m      8\u001b[0m \u001b[38;5;66;03m# we could do these on one line, how?\u001b[39;00m\n\u001b[0;32m----> 9\u001b[0m in_file \u001b[38;5;241m=\u001b[39m \u001b[38;5;28;43mopen\u001b[39;49m\u001b[43m(\u001b[49m\u001b[43mfrom_file\u001b[49m\u001b[43m)\u001b[49m\n\u001b[1;32m     10\u001b[0m indata \u001b[38;5;241m=\u001b[39m in_file\u001b[38;5;241m.\u001b[39mread()\n\u001b[1;32m     12\u001b[0m \u001b[38;5;28mprint\u001b[39m(\u001b[38;5;124mf\u001b[39m\u001b[38;5;124m\"\u001b[39m\u001b[38;5;124mThe input file is \u001b[39m\u001b[38;5;132;01m{\u001b[39;00m\u001b[38;5;28mlen\u001b[39m(indata)\u001b[38;5;132;01m}\u001b[39;00m\u001b[38;5;124m bytes long.\u001b[39m\u001b[38;5;124m\"\u001b[39m)\n",
      "File \u001b[0;32m~/.local/python3.11/lib/python3.11/site-packages/IPython/core/interactiveshell.py:324\u001b[0m, in \u001b[0;36m_modified_open\u001b[0;34m(file, *args, **kwargs)\u001b[0m\n\u001b[1;32m    317\u001b[0m \u001b[38;5;28;01mif\u001b[39;00m file \u001b[38;5;129;01min\u001b[39;00m {\u001b[38;5;241m0\u001b[39m, \u001b[38;5;241m1\u001b[39m, \u001b[38;5;241m2\u001b[39m}:\n\u001b[1;32m    318\u001b[0m     \u001b[38;5;28;01mraise\u001b[39;00m \u001b[38;5;167;01mValueError\u001b[39;00m(\n\u001b[1;32m    319\u001b[0m         \u001b[38;5;124mf\u001b[39m\u001b[38;5;124m\"\u001b[39m\u001b[38;5;124mIPython won\u001b[39m\u001b[38;5;124m'\u001b[39m\u001b[38;5;124mt let you open fd=\u001b[39m\u001b[38;5;132;01m{\u001b[39;00mfile\u001b[38;5;132;01m}\u001b[39;00m\u001b[38;5;124m by default \u001b[39m\u001b[38;5;124m\"\u001b[39m\n\u001b[1;32m    320\u001b[0m         \u001b[38;5;124m\"\u001b[39m\u001b[38;5;124mas it is likely to crash IPython. If you know what you are doing, \u001b[39m\u001b[38;5;124m\"\u001b[39m\n\u001b[1;32m    321\u001b[0m         \u001b[38;5;124m\"\u001b[39m\u001b[38;5;124myou can use builtins\u001b[39m\u001b[38;5;124m'\u001b[39m\u001b[38;5;124m open.\u001b[39m\u001b[38;5;124m\"\u001b[39m\n\u001b[1;32m    322\u001b[0m     )\n\u001b[0;32m--> 324\u001b[0m \u001b[38;5;28;01mreturn\u001b[39;00m \u001b[43mio_open\u001b[49m\u001b[43m(\u001b[49m\u001b[43mfile\u001b[49m\u001b[43m,\u001b[49m\u001b[43m \u001b[49m\u001b[38;5;241;43m*\u001b[39;49m\u001b[43margs\u001b[49m\u001b[43m,\u001b[49m\u001b[43m \u001b[49m\u001b[38;5;241;43m*\u001b[39;49m\u001b[38;5;241;43m*\u001b[39;49m\u001b[43mkwargs\u001b[49m\u001b[43m)\u001b[49m\n",
      "\u001b[0;31mFileNotFoundError\u001b[0m: [Errno 2] No such file or directory: '-f'"
     ]
    }
   ],
   "source": [
    "from sys import argv\n",
    "from os.path import exists\n",
    "\n",
    "script, from_file, to_file = argv\n",
    "\n",
    "print(f\"Copying from {from_file} to {to_file}\")\n",
    "\n",
    "# we could do these on one line, how?\n",
    "in_file = open(from_file)\n",
    "indata = in_file.read()\n",
    "\n",
    "print(f\"The input file is {len(indata)} bytes long.\")\n",
    "\n",
    "print(f\"Does the output file exist? {exists(to_file)}\")\n",
    "print(\"Ready, hit RETURN to continue, CTRL-C to abort.\")\n",
    "input()\n",
    "\n",
    "out_file = open(to_file, \"w\")\n",
    "out_file.write(indata)\n",
    "\n",
    "print(\"Alright, all done.\")\n",
    "\n",
    "out_file.close()\n",
    "in_file.close()"
   ]
  },
  {
   "cell_type": "markdown",
   "id": "562d5f51-f28a-4f91-a031-b7670dd64f73",
   "metadata": {},
   "source": [
    "# Names, Variables, Code, Functions\n",
    "Functions do three things:\n",
    "1. They name pieces of code the way variables name strings and numbers\n",
    "2. They take arguments the way your scripts take argv\n",
    "3. Using 1 and 2, they let you make your own \"mini-scripts\" or \"tiny commands\".\n",
    "\n",
    "You can create a function by using the word `def` in Python. I'm going to have you make four different functions that work like your scripts, and I'll then show you how each one is related."
   ]
  },
  {
   "cell_type": "code",
   "execution_count": 2,
   "id": "991fcfb4-e1ed-4839-9b70-0728e0fa8d12",
   "metadata": {},
   "outputs": [
    {
     "name": "stdout",
     "output_type": "stream",
     "text": [
      "arg1: Milos, arg2: Spartan\n",
      "arg1: Spartan, arg2: Codes\n",
      "arg1: Python\n",
      "I got nothin'.\n"
     ]
    }
   ],
   "source": [
    "# this one is like your scripts with argv\n",
    "def print_two(*args):\n",
    "    arg1, arg2 = args\n",
    "    print(f\"arg1: {arg1}, arg2: {arg2}\")\n",
    "\n",
    "# ok, that *args is actually pointless, we can just do this\n",
    "def print_two_again(arg1, arg2):\n",
    "    print(f\"arg1: {arg1}, arg2: {arg2}\")\n",
    "\n",
    "# this just takes one argument\n",
    "def print_one(arg1):\n",
    "    print(f\"arg1: {arg1}\")\n",
    "\n",
    "# this one takes no arguments\n",
    "def print_none():\n",
    "    print(\"I got nothin'.\")\n",
    "\n",
    "print_two(\"Milos\", \"Spartan\")\n",
    "print_two_again(\"Spartan\", \"Codes\")\n",
    "print_one(\"Python\")\n",
    "print_none()"
   ]
  },
  {
   "cell_type": "markdown",
   "id": "3d28bbce-f370-42bb-b7a9-f7dcebcb6f34",
   "metadata": {},
   "source": [
    "# Functions and Variables\n",
    "Functions may have been a mind-blowing amount of information, but do not worry. Just keep doing these exercises and going through your checklist from the last exercise and you will eventually get it.\n",
    "\n",
    "There is one tiny point that you might not have realized, which we'll reinforce right now. The variables in your function are not connected to the variables in your script. Here's an exercise to get you thinking about this:"
   ]
  },
  {
   "cell_type": "code",
   "execution_count": 3,
   "id": "17b7256e-1d03-4c1a-92da-ad13b1ccbc06",
   "metadata": {},
   "outputs": [
    {
     "name": "stdout",
     "output_type": "stream",
     "text": [
      "We can just give the function numbers directly:\n",
      "You have 20 cheeses!\n",
      "You have 30 boxes of crackers!\n",
      "Man, that's enough for a party!\n",
      "Get a blanket.\n",
      "\n",
      "Or, we can use variables from our script:\n",
      "You have 10 cheeses!\n",
      "You have 50 boxes of crackers!\n",
      "Man, that's enough for a party!\n",
      "Get a blanket.\n",
      "\n",
      "We can even do math inside too:\n",
      "You have 30 cheeses!\n",
      "You have 11 boxes of crackers!\n",
      "Man, that's enough for a party!\n",
      "Get a blanket.\n",
      "\n",
      "And we can combine the two, variables and math:\n",
      "You have 110 cheeses!\n",
      "You have 1050 boxes of crackers!\n",
      "Man, that's enough for a party!\n",
      "Get a blanket.\n",
      "\n"
     ]
    }
   ],
   "source": [
    "def cheese_and_crackers(cheese_count, boxes_of_crackers):\n",
    "    print(f\"You have {cheese_count} cheeses!\")\n",
    "    print(f\"You have {boxes_of_crackers} boxes of crackers!\")\n",
    "    print(\"Man, that's enough for a party!\")\n",
    "    print(\"Get a blanket.\\n\")\n",
    "\n",
    "print(\"We can just give the function numbers directly:\")\n",
    "cheese_and_crackers(20, 30)\n",
    "\n",
    "print(\"Or, we can use variables from our script:\")\n",
    "amount_of_cheese = 10\n",
    "amount_of_crackers = 50\n",
    "\n",
    "cheese_and_crackers(amount_of_cheese, amount_of_crackers)\n",
    "\n",
    "print(\"We can even do math inside too:\")\n",
    "cheese_and_crackers(10 + 20, 5 + 6)\n",
    "\n",
    "print(\"And we can combine the two, variables and math:\")\n",
    "cheese_and_crackers(amount_of_cheese + 100, amount_of_crackers + 1000)"
   ]
  },
  {
   "cell_type": "markdown",
   "id": "7ffe3fe4-b22f-4dee-a8e7-01a6f0f4b841",
   "metadata": {},
   "source": [
    "This shows all the different ways we're able to give our function `cheese_and_crackers` the values it needs to print them. We can give it straight numbers. We can give it variables. We can give it math. We can even combine math and variables.\n",
    "\n",
    "In a way, the arguments to a function are kind of like our `=` character when we make a variable. In fact, if you can use `=` to name something, you can usually pass it to a function as an argument."
   ]
  },
  {
   "cell_type": "markdown",
   "id": "63fe338f-c884-49f2-863f-c5b19033b3b1",
   "metadata": {},
   "source": [
    "# Functions and Files\n",
    "Remember your checklist for functions, then do this exercise paying close attention to how functions and files can work together to make useful stuff."
   ]
  },
  {
   "cell_type": "code",
   "execution_count": 4,
   "id": "15c0e838-417d-46e6-ac0d-845478cf2fbf",
   "metadata": {},
   "outputs": [
    {
     "ename": "ValueError",
     "evalue": "too many values to unpack (expected 2)",
     "output_type": "error",
     "traceback": [
      "\u001b[0;31m---------------------------------------------------------------------------\u001b[0m",
      "\u001b[0;31mValueError\u001b[0m                                Traceback (most recent call last)",
      "Cell \u001b[0;32mIn[4], line 3\u001b[0m\n\u001b[1;32m      1\u001b[0m \u001b[38;5;28;01mfrom\u001b[39;00m\u001b[38;5;250m \u001b[39m\u001b[38;5;21;01msys\u001b[39;00m\u001b[38;5;250m \u001b[39m\u001b[38;5;28;01mimport\u001b[39;00m argv\n\u001b[0;32m----> 3\u001b[0m script, filename \u001b[38;5;241m=\u001b[39m argv\n\u001b[1;32m      5\u001b[0m \u001b[38;5;28;01mdef\u001b[39;00m\u001b[38;5;250m \u001b[39m\u001b[38;5;21mprint_all\u001b[39m(f):\n\u001b[1;32m      6\u001b[0m     \u001b[38;5;28mprint\u001b[39m(f\u001b[38;5;241m.\u001b[39mread())\n",
      "\u001b[0;31mValueError\u001b[0m: too many values to unpack (expected 2)"
     ]
    }
   ],
   "source": [
    "from sys import argv\n",
    "\n",
    "script, filename = argv\n",
    "\n",
    "def print_all(f):\n",
    "    print(f.read())\n",
    "\n",
    "def rewind(f):\n",
    "    f.seek(0)\n",
    "\n",
    "def print_a_line(line_count, f):\n",
    "    print(line_count, f.readline())\n",
    "\n",
    "current_file = open(filename)\n",
    "\n",
    "print(\"First, let's print the whole file:\\n\")\n",
    "\n",
    "print_all(current_file)\n",
    "\n",
    "print(\"Now, let's rewind, kind of like a tape.\")\n",
    "\n",
    "rewind(current_file)\n",
    "\n",
    "print(\"Let's print three lines:\")\n",
    "\n",
    "current_line = 1\n",
    "print_a_line(current_line, current_file)\n",
    "\n",
    "current_line = current_line + 1\n",
    "print_a_line(current_line, current_file)\n",
    "\n",
    "current_line = current_line + 1\n",
    "print_a_line(current_line, current_file)"
   ]
  },
  {
   "cell_type": "markdown",
   "id": "2b6f60f1-dde4-4a3e-900a-93438ea1176a",
   "metadata": {},
   "source": [
    "# Functions Can Return Something\n",
    "You have been using the = character to name variables and set them to numbers or strings. We're now going to blow your mind again by showing you how to use = and a new Python word `return` to set variables to be a value from a function. There will be one thing to pay close attention to, but first type this in:"
   ]
  },
  {
   "cell_type": "code",
   "execution_count": 5,
   "id": "749d91a4-fd39-47ba-b9ff-b78a57e7932e",
   "metadata": {},
   "outputs": [
    {
     "name": "stdout",
     "output_type": "stream",
     "text": [
      "Let's do some math with just functions!\n",
      "ADDING 30 + 5\n",
      "SUBTRACTING 78 - 4\n",
      "MULTIPLYING 90 * 2\n",
      "DIVIDING 100 / 2\n",
      "Age: 35, Height: 74, Weight: 180, IQ: 50.0\n",
      "Here is a puzzle:\n",
      "DIVIDING 50.0 / 2\n",
      "MULTIPLYING 180 * 25.0\n",
      "SUBTRACTING 74 - 4500.0\n",
      "ADDING 35 + -4426.0\n",
      "That becomes -4391.0. Can you do it by hand?\n"
     ]
    }
   ],
   "source": [
    "def add(a, b):\n",
    "    print(f\"ADDING {a} + {b}\")\n",
    "    return a + b\n",
    "\n",
    "def subtract(a, b):\n",
    "    print(f\"SUBTRACTING {a} - {b}\")\n",
    "    return a - b\n",
    "\n",
    "def multiply(a, b):\n",
    "    print(f\"MULTIPLYING {a} * {b}\")\n",
    "    return a * b\n",
    "\n",
    "def divide(a, b):\n",
    "    print(f\"DIVIDING {a} / {b}\")\n",
    "    return a / b\n",
    "\n",
    "print(\"Let's do some math with just functions!\")\n",
    "\n",
    "age = add(30, 5)\n",
    "height = subtract(78, 4)\n",
    "weight = multiply(90, 2)\n",
    "iq = divide(100, 2)\n",
    "\n",
    "print(f\"Age: {age}, Height: {height}, Weight: {weight}, IQ: {iq}\")\n",
    "\n",
    "# A puzzle for the extra credit, type it in anyway\n",
    "print(\"Here is a puzzle:\")\n",
    "\n",
    "what = add(age, subtract(height, multiply(weight, divide(iq, 2))))\n",
    "print(f\"That becomes {what}. Can you do it by hand?\")"
   ]
  },
  {
   "cell_type": "markdown",
   "id": "99e38cd7-b279-40e0-8f87-0edb311251be",
   "metadata": {},
   "source": [
    "# Strings, Bytes, and Character Encodings\n",
    "To do this exercise you'll need to download a text file [languages.txt](https://\n",
    "learnpythonthehardway.org/python3/languages.txt).The file was created with a list of human languages to demonstrate a few interesting concepts:\n",
    "1. How modern computers store human languages for display and processing and how Python 3 calls this `strings`.\n",
    "2. How you must __encode__ and __decode__ Python's strings into a type called __bytes__.\n",
    "3. How to handle errors in yoru string and byte handling.\n",
    "4. How to read code and find out what it means even if you've never seen it before."
   ]
  },
  {
   "cell_type": "code",
   "execution_count": 2,
   "id": "54045ffb-72d6-4d58-beae-99bf7e1e3da9",
   "metadata": {},
   "outputs": [
    {
     "ename": "LookupError",
     "evalue": "unknown encoding: -f",
     "output_type": "error",
     "traceback": [
      "\u001b[0;31m---------------------------------------------------------------------------\u001b[0m",
      "\u001b[0;31mLookupError\u001b[0m                               Traceback (most recent call last)",
      "Cell \u001b[0;32mIn[2], line 20\u001b[0m\n\u001b[1;32m     16\u001b[0m     \u001b[38;5;28mprint\u001b[39m(raw_bytes, \u001b[38;5;124m\"\u001b[39m\u001b[38;5;124m<===>\u001b[39m\u001b[38;5;124m\"\u001b[39m, cooked_string)\n\u001b[1;32m     18\u001b[0m languages \u001b[38;5;241m=\u001b[39m \u001b[38;5;28mopen\u001b[39m(\u001b[38;5;124m\"\u001b[39m\u001b[38;5;124mlanguages.txt\u001b[39m\u001b[38;5;124m\"\u001b[39m, encoding\u001b[38;5;241m=\u001b[39m\u001b[38;5;124m\"\u001b[39m\u001b[38;5;124mutf-8\u001b[39m\u001b[38;5;124m\"\u001b[39m)\n\u001b[0;32m---> 20\u001b[0m \u001b[43mmain\u001b[49m\u001b[43m(\u001b[49m\u001b[43mlanguages\u001b[49m\u001b[43m,\u001b[49m\u001b[43m \u001b[49m\u001b[43minput_encoding\u001b[49m\u001b[43m,\u001b[49m\u001b[43m \u001b[49m\u001b[43merror\u001b[49m\u001b[43m)\u001b[49m\n",
      "Cell \u001b[0;32mIn[2], line 8\u001b[0m, in \u001b[0;36mmain\u001b[0;34m(language_file, encoding, errors)\u001b[0m\n\u001b[1;32m      5\u001b[0m line \u001b[38;5;241m=\u001b[39m language_file\u001b[38;5;241m.\u001b[39mreadline()\n\u001b[1;32m      7\u001b[0m \u001b[38;5;28;01mif\u001b[39;00m line:\n\u001b[0;32m----> 8\u001b[0m     \u001b[43mprint_line\u001b[49m\u001b[43m(\u001b[49m\u001b[43mline\u001b[49m\u001b[43m,\u001b[49m\u001b[43m \u001b[49m\u001b[43mencoding\u001b[49m\u001b[43m,\u001b[49m\u001b[43m \u001b[49m\u001b[43merrors\u001b[49m\u001b[43m)\u001b[49m\n\u001b[1;32m      9\u001b[0m     \u001b[38;5;28;01mreturn\u001b[39;00m main(language_file, encoding, errors)\n",
      "Cell \u001b[0;32mIn[2], line 13\u001b[0m, in \u001b[0;36mprint_line\u001b[0;34m(line, encoding, errors)\u001b[0m\n\u001b[1;32m     11\u001b[0m \u001b[38;5;28;01mdef\u001b[39;00m\u001b[38;5;250m \u001b[39m\u001b[38;5;21mprint_line\u001b[39m(line, encoding, errors):\n\u001b[1;32m     12\u001b[0m     next_lang \u001b[38;5;241m=\u001b[39m line\u001b[38;5;241m.\u001b[39mstrip()\n\u001b[0;32m---> 13\u001b[0m     raw_bytes \u001b[38;5;241m=\u001b[39m \u001b[43mnext_lang\u001b[49m\u001b[38;5;241;43m.\u001b[39;49m\u001b[43mencode\u001b[49m\u001b[43m(\u001b[49m\u001b[43mencoding\u001b[49m\u001b[43m,\u001b[49m\u001b[43m \u001b[49m\u001b[43merrors\u001b[49m\u001b[38;5;241;43m=\u001b[39;49m\u001b[43merrors\u001b[49m\u001b[43m)\u001b[49m\n\u001b[1;32m     14\u001b[0m     cooked_string \u001b[38;5;241m=\u001b[39m raw_bytes\u001b[38;5;241m.\u001b[39mdecode(encoding, errors\u001b[38;5;241m=\u001b[39merrors)\n\u001b[1;32m     16\u001b[0m     \u001b[38;5;28mprint\u001b[39m(raw_bytes, \u001b[38;5;124m\"\u001b[39m\u001b[38;5;124m<===>\u001b[39m\u001b[38;5;124m\"\u001b[39m, cooked_string)\n",
      "\u001b[0;31mLookupError\u001b[0m: unknown encoding: -f"
     ]
    }
   ],
   "source": [
    "import sys\n",
    "script, input_encoding, error = sys.argv\n",
    "\n",
    "def main(language_file, encoding, errors):\n",
    "    line = language_file.readline()\n",
    "\n",
    "    if line:\n",
    "        print_line(line, encoding, errors)\n",
    "        return main(language_file, encoding, errors)\n",
    "\n",
    "def print_line(line, encoding, errors):\n",
    "    next_lang = line.strip()\n",
    "    raw_bytes = next_lang.encode(encoding, errors=errors)\n",
    "    cooked_string = raw_bytes.decode(encoding, errors=errors)\n",
    "\n",
    "    print(raw_bytes, \"<===>\", cooked_string)\n",
    "\n",
    "languages = open(\"languages.txt\", encoding=\"utf-8\")\n",
    "\n",
    "main(languages, input_encoding, error)"
   ]
  },
  {
   "cell_type": "markdown",
   "id": "7005d72b-e3e2-4dd0-abc8-b2153f1605ba",
   "metadata": {},
   "source": [
    "### Switches, Conventions and Encodings\n",
    "Before I can get into what this code means, you need to learn some basics about how data is stored in\n",
    "a computer. Modern computers are incredibly complex, but at their core they are like a huge array of\n",
    "light switches. Computers use electricity to flip switches on or off. These switches can represent 1 for on,\n",
    "or 0 for off. In the old days there were all kinds of weird computers that did more than just 1 or 0, but\n",
    "these days it’s just 1s and 0s. One represents energy, electricity, on, power, substance. Zero represents\n",
    "off, done, gone, power down, the lack of energy. We call these 1s and 0s ”bits.”\n",
    "\n",
    "Now, a computer that only let you work with 1 and 0 would be both horribly inefficient and incredibly\n",
    "annoying. Computers take these 1s and 0s and use them to encode larger numbers. At the small end\n",
    "a computer will use 8 of these 1s and 0s to encode 256 numbers (0-255). What does ”encode” mean\n",
    "though? It’s nothing more than an agreed upon standard for how a sequence of bits should represent a\n",
    "number. It’s a convention humans picked or stumbled on that says that 00000000 would be 0, 11111111\n",
    "would be 255, and 00001111 would be 15. There were even huge wars in the early history of computers\n",
    "on nothing more than the order of these bits because they were simply conventions we all had to agree\n",
    "on.\n",
    "\n",
    "Today we call a ”byte” a sequence of 8 bits (1s and 0s). In the old days everyone had their own convention\n",
    "for a byte, so you’ll still run into people who think that this term should be flexible and handle sequences\n",
    "of 9 bits, 7 bits, 6 bits, but now we just say it’s 8 bits. That’s our convention, and that convention defines\n",
    "our encoding for a byte. There are futher conventions for encoding large numbers using 16, 32, 64,\n",
    "and even more bits if you get into really big math. There’s entire standards groups who do nothing\n",
    "but argue about these conventions, then implement them as encodings that eventually turn switches\n",
    "on and off.\n",
    "\n",
    "Once you have bytes you can start to store and display text by deciding on another convention for how\n",
    "a number maps to a letter. In the early days of computing there were many conventions that mapped 8\n",
    "or 7 bits (or less or more) onto lists of characters kept inside a computer. The most popular convention\n",
    "ended up being American Standard Code for Information Interchange or ASCII. This standard maps a\n",
    "number to a letter. The number 90 is Z, which in bits is 1011010, which gets mapped to the ASCII table\n",
    "inside the computer.\n",
    "\n",
    "You can try this out in Python right now:"
   ]
  },
  {
   "cell_type": "code",
   "execution_count": 3,
   "id": "4d3002df-2da1-4596-bc02-460f725219c9",
   "metadata": {},
   "outputs": [
    {
     "name": "stdout",
     "output_type": "stream",
     "text": [
      "90\n",
      "90\n",
      "Z\n"
     ]
    }
   ],
   "source": [
    "print(0b1011010)\n",
    "print(ord('Z'))\n",
    "print(chr(90))"
   ]
  },
  {
   "cell_type": "markdown",
   "id": "31b72914-2608-40c4-9495-ce729c0ef408",
   "metadata": {},
   "source": [
    "First, I write the number 90 in binary, then I get the number based on the letter ’Z’, then I convert the\n",
    "number to the letter ’Z’. Don’t worry about needing to remember this though. I think I’ve had to do it\n",
    "twice the entire time I’ve used Python.\n",
    "Once we have the ASCII convention for encoding a character using 8 bits (a byte), we can then ”string”\n",
    "them together to make a word. If I want to write my name ”Zed A. Shaw,” I just use a sequence of bytes\n",
    "that are [90, 101, 100, 32, 65, 46, 32, 83, 104, 97, 119]. Most of the early text in computers\n",
    "was nothing more than sequences of bytes, stored in memory, that a computer used to display text to a\n",
    "person. Again, this is just a sequence of conventions that turned switches on and off.\n",
    "\n",
    "The problem with ASCII is that it only encodes English and maybe a few other similar languages. Remember that a byte can hold 256 numbers (0-255, or 00000000-11111111). Turns out, there’s a lot more\n",
    "characters than 256 used throughout the world’s languages. Different countries created their own encoding conventions for their languages, and that mostly worked, but many encodings could only handle\n",
    "one language. That meant if you want to put the title of an American English book in the middle of a\n",
    "Thai sentence you were kind of in trouble. You’d need one encoding for Thai and for English.\n",
    "\n",
    "To solve this problem a group of people created Unicode. It sounds like ”encode,” and it is meant to be a\n",
    "”universal encoding” of all human languages. The solution Unicode provides is like the ASCII table, but\n",
    "it’s huge by comparison. You can use 32 bits to encode a Unicode character, and that is more characters\n",
    "than we could possibly find. A 32-bit number means we can store 4,294,967,295 characters (2^32), which\n",
    "is enough space for every possible human language and probably a lot of alien ones too. Right now we\n",
    "use the extra space for important things like poop and smile emojis.\n",
    "\n",
    "We now have a convention for encoding any characters we want, but 32 bits is 4 bytes (32/8 == 4) which\n",
    "means there is so much wasted space in most text we want to encode. We can also use 16 bits (2 bytes),\n",
    "but still there’s going to be wasted space in most text. The solution is to use a clever convention to\n",
    "encode most common characters using 8 bits, and then ”escape” into larger numbers when we need\n",
    "to encode more characters. That means we have one more convention that is nothing more than a\n",
    "compression encoding, making it possible for most common characters to use 8 bits and then escape out\n",
    "into 16 or 32 bits as needed.\n",
    "\n",
    "The convention for encoding text in Python is called ”utf-8”, which means ”Unicode Transformation\n",
    "Format 8 Bits.” It is a convention for encoding Unicode characters into sequences of bytes (which are\n",
    "sequences of bits (which turn sequences of switches on and off)). You can also use other conventions\n",
    "(encodings), but utf-8 is the current standard."
   ]
  },
  {
   "cell_type": "markdown",
   "id": "b01960ed-d446-4749-aced-e7a47ec0265b",
   "metadata": {},
   "source": [
    "# More Practice\n",
    "You are getting to the end of this section. You should have enough Python *under your fingers* to move on to learning about how programming really works, but you should do some more practice. This exercise is longer, and all about building up stamina. The next exercise will be similar. Do them, get them exactly right, and do your checks."
   ]
  },
  {
   "cell_type": "code",
   "execution_count": 4,
   "id": "b64a2f38-da16-4b4d-b1fd-9feecbc59ec5",
   "metadata": {},
   "outputs": [
    {
     "name": "stdout",
     "output_type": "stream",
     "text": [
      "Let's practice everything.\n",
      "You'd need to know \"about\" escapes with \\ that do:\n",
      "\n",
      "newlines and \ttabs.\n",
      "----------------------\n",
      "\n",
      "\tThe lovely world\n",
      "with logic so firmly planted\n",
      "cannot discern \n",
      " the needs of love\n",
      "nor comprehen passion from intuition\n",
      "and requires an explanation\n",
      "\n",
      "\t\twhere there is none.\n",
      "\n",
      "----------------------\n",
      "This should be five: 5\n",
      "With a starting point of: 10000\n",
      "We'd have 5000000 beans, 5000.0 jars and 50.0 crates.\n",
      "We can also do that this way:\n",
      "We'd have 500000.0 beans, 500.0 jars, and 5.0 crates.\n"
     ]
    }
   ],
   "source": [
    "print(\"Let's practice everything.\")\n",
    "print(\"You'd need to know \\\"about\\\" escapes with \\\\ that do:\")\n",
    "print(\"\\nnewlines and \\ttabs.\")\n",
    "\n",
    "poem = \"\"\"\n",
    "\\tThe lovely world\n",
    "with logic so firmly planted\n",
    "cannot discern \\n the needs of love\n",
    "nor comprehen passion from intuition\n",
    "and requires an explanation\n",
    "\\n\\t\\twhere there is none.\n",
    "\"\"\"\n",
    "\n",
    "print(\"----------------------\")\n",
    "print(poem)\n",
    "print(\"----------------------\")\n",
    "\n",
    "five = 10 - 2 + 3 - 6\n",
    "print(f\"This should be five: {five}\")\n",
    "\n",
    "def secret_formula(started):\n",
    "    jelly_beans = started * 500\n",
    "    jars = jelly_beans / 1000\n",
    "    crates = jars / 100\n",
    "    return jelly_beans, jars, crates\n",
    "\n",
    "start_point = 10000\n",
    "beans, jars, crates = secret_formula(start_point)\n",
    "\n",
    "# remember that this is another way to format a string\n",
    "print(\"With a starting point of: {}\".format(start_point))\n",
    "\n",
    "# it's just like with an f\"\" string\n",
    "print(f\"We'd have {beans} beans, {jars} jars and {crates} crates.\")\n",
    "\n",
    "start_point = start_point / 10\n",
    "\n",
    "print(\"We can also do that this way:\")\n",
    "formula = secret_formula(start_point)\n",
    "# this is an easy way to apply a list to a format string\n",
    "print(\"We'd have {} beans, {} jars, and {} crates.\".format(*formula))"
   ]
  },
  {
   "cell_type": "markdown",
   "id": "fd3a5de4-2e83-4d21-a3f8-de78b5d61164",
   "metadata": {},
   "source": [
    "# Even More Practice\n",
    "We're going to do some more practice involving functions and variables to make sure you know them well. This exercisee should be straightforward for you to type in, break down and understand.\n",
    "However, this exercise is a little different. You won't be running it. Instead you will *import* it into Python and run the functions yourself."
   ]
  },
  {
   "cell_type": "code",
   "execution_count": 5,
   "id": "afece385-f036-429f-a825-eb70e8ac45de",
   "metadata": {},
   "outputs": [],
   "source": [
    "def break_words(stuff):\n",
    "    \"\"\"This function will break up words for us.\"\"\"\n",
    "    words = stuff.split(' ')\n",
    "    return words\n",
    "\n",
    "def sort_words(words):\n",
    "    \"\"\"Sorts the words.\"\"\"\n",
    "    return sorted(words)\n",
    "\n",
    "def print_first_word(words):\n",
    "    \"\"\"Prints the first word after popping it off.\"\"\"\n",
    "    word = words.pop(0)\n",
    "    print(word)\n",
    "\n",
    "def print_last_word(words):\n",
    "    \"\"\"Prints the last word after popping it off.\"\"\"\n",
    "    word = words.pop(-1)\n",
    "    print(word)\n",
    "\n",
    "def sort_sentence(sentence):\n",
    "    \"\"\"Takes in a full sentence and returns the sorted words.\"\"\"\n",
    "    words = break_words(sentence)\n",
    "    return sort_words(words)\n",
    "\n",
    "def print_first_and_last(sentence):\n",
    "    \"\"\"Prints the first and last words of the sentence.\"\"\"\n",
    "    words = break_words(sentence)\n",
    "    print_first_word(words)\n",
    "    print_last_word(words)\n",
    "\n",
    "def print_first_and_last_sorted(sentence):\n",
    "    \"\"\"Sorts the words then prints the first and last one.\"\"\"\n",
    "    words = sort_sentence(sentence)\n",
    "    print_first_word(words)\n",
    "    print_last_word(words)"
   ]
  },
  {
   "cell_type": "markdown",
   "id": "8d9ce9f5-2e49-4ac6-9587-4ad213f2f499",
   "metadata": {},
   "source": [
    "# Test\n",
    "Your job in this exercise is to correct this file. Use all of your skills to make this file better. Analyze it\n",
    "first, maybe printing it out to edit it like you would a school term paper. Fix each flaw and keep running\n",
    "it and fixing it until the script runs perfectly. Try not to get help. If you get stuck take a break and come\n",
    "back to it later."
   ]
  },
  {
   "cell_type": "code",
   "execution_count": 13,
   "id": "395bfd04-c494-46fa-a6d3-77cd9232c1e3",
   "metadata": {},
   "outputs": [
    {
     "name": "stdout",
     "output_type": "stream",
     "text": [
      "How old are you? "
     ]
    },
    {
     "name": "stdin",
     "output_type": "stream",
     "text": [
      " 32\n"
     ]
    },
    {
     "name": "stdout",
     "output_type": "stream",
     "text": [
      "How tall are you? "
     ]
    },
    {
     "name": "stdin",
     "output_type": "stream",
     "text": [
      " 181\n"
     ]
    },
    {
     "name": "stdout",
     "output_type": "stream",
     "text": [
      "How much do you weigh? "
     ]
    },
    {
     "name": "stdin",
     "output_type": "stream",
     "text": [
      " 85\n"
     ]
    },
    {
     "name": "stdout",
     "output_type": "stream",
     "text": [
      "So, you're 32 old, 181 tall and 85 heavy.\n"
     ]
    },
    {
     "ename": "ValueError",
     "evalue": "too many values to unpack (expected 2)",
     "output_type": "error",
     "traceback": [
      "\u001b[0;31m---------------------------------------------------------------------------\u001b[0m",
      "\u001b[0;31mValueError\u001b[0m                                Traceback (most recent call last)",
      "Cell \u001b[0;32mIn[13], line 12\u001b[0m\n\u001b[1;32m      8\u001b[0m weight \u001b[38;5;241m=\u001b[39m \u001b[38;5;28minput\u001b[39m()\n\u001b[1;32m     10\u001b[0m \u001b[38;5;28mprint\u001b[39m(\u001b[38;5;124mf\u001b[39m\u001b[38;5;124m\"\u001b[39m\u001b[38;5;124mSo, you\u001b[39m\u001b[38;5;124m'\u001b[39m\u001b[38;5;124mre \u001b[39m\u001b[38;5;132;01m{\u001b[39;00mage\u001b[38;5;132;01m}\u001b[39;00m\u001b[38;5;124m old, \u001b[39m\u001b[38;5;132;01m{\u001b[39;00mheight\u001b[38;5;132;01m}\u001b[39;00m\u001b[38;5;124m tall and \u001b[39m\u001b[38;5;132;01m{\u001b[39;00mweight\u001b[38;5;132;01m}\u001b[39;00m\u001b[38;5;124m heavy.\u001b[39m\u001b[38;5;124m\"\u001b[39m)\n\u001b[0;32m---> 12\u001b[0m script, filename \u001b[38;5;241m=\u001b[39m argv\n\u001b[1;32m     14\u001b[0m txt \u001b[38;5;241m=\u001b[39m \u001b[38;5;28mopen\u001b[39m(filename)\n\u001b[1;32m     16\u001b[0m \u001b[38;5;28mprint\u001b[39m(\u001b[38;5;124mf\u001b[39m\u001b[38;5;124m\"\u001b[39m\u001b[38;5;124mHere\u001b[39m\u001b[38;5;124m'\u001b[39m\u001b[38;5;124ms your file \u001b[39m\u001b[38;5;132;01m{\u001b[39;00mfilename\u001b[38;5;132;01m}\u001b[39;00m\u001b[38;5;124m:\u001b[39m\u001b[38;5;124m\"\u001b[39m)\n",
      "\u001b[0;31mValueError\u001b[0m: too many values to unpack (expected 2)"
     ]
    }
   ],
   "source": [
    "from sys import argv\n",
    "\n",
    "print(\"How old are you?\", end=' ')\n",
    "age = input()\n",
    "print(\"How tall are you?\", end=' ')\n",
    "height = input()\n",
    "print(\"How much do you weigh?\", end=' ')\n",
    "weight = input()\n",
    "\n",
    "print(f\"So, you're {age} old, {height} tall and {weight} heavy.\")\n",
    "\n",
    "script, filename = argv\n",
    "\n",
    "txt = open(filename)\n",
    "\n",
    "print(f\"Here's your file {filename}:\")\n",
    "print(txt.read())\n",
    "\n",
    "print(\"Type the filename again:\")\n",
    "file_again = input(\"> \")\n",
    "\n",
    "txt_again = open(file_again)\n",
    "\n",
    "print(txt_again.read())\n",
    "\n",
    "\n",
    "print('Let\\'s practice everything.')\n",
    "print('You\\'d need to know \\'bout escapes with \\\\ that do \\n newlines and \\t tabs.')\n",
    "\n",
    "poem = \"\"\"\n",
    "\\tThe lovely world\n",
    "with logic so firmly planted\n",
    "cannot discern \\n the needs of love\n",
    "nor comprehend passion from intuition\n",
    "and requires an explanation\n",
    "\\n\\t\\twhere there is none.\n",
    "\"\"\"\n",
    "\n",
    "print(\"--------------\")\n",
    "print(poem)\n",
    "print(\"--------------\")\n",
    "\n",
    "\n",
    "five = 10 - 2 + 3 - 6\n",
    "print(f\"This should be five: {five}\")\n",
    "\n",
    "def secret_formula(started):\n",
    "    jelly_beans = started * 500\n",
    "    jars = jelly_beans / 1000\n",
    "    crates = jars + 100\n",
    "    return jelly_beans, jars, crates\n",
    "\n",
    "\n",
    "start_point = 10000\n",
    "beans, jars, crates = secret_formula(start_point)\n",
    "\n",
    "# remember that this is another way to format a string\n",
    "print(\"With a starting point of: {}\".format(start_point))\n",
    "# it's just like with an f\"\" string\n",
    "print(f\"We'd have {beans} beans, {jars} jars, and {crates} crates.\")\n",
    "\n",
    "start_point = start_point / 10\n",
    "\n",
    "print(\"We can also do that this way:\")\n",
    "formula = secret_formula(start_point)\n",
    "# this is an easy way to apply a list to a format string\n",
    "print(\"We'd have {} beans, {} jars, and {} crates.\".format(*formula))\n",
    "\n",
    "\n",
    "\n",
    "people = 20\n",
    "cats = 30\n",
    "dogs = 15\n",
    "\n",
    "\n",
    "if people < cats:\n",
    "    print(\"Too many cats! The world is doomed!\")\n",
    "\n",
    "if people > cats:\n",
    "    print(\"Not many cats! The world is saved!\")\n",
    "\n",
    "if people < dogs:\n",
    "    print(\"The world is drooled on!\")\n",
    "\n",
    "if people > dogs:\n",
    "    print(\"The world is dry!\")\n",
    "\n",
    "\n",
    "dogs += 5\n",
    "\n",
    "if people >= dogs:\n",
    "    print(\"People are greater than or equal to dogs.\")\n",
    "\n",
    "if people <= dogs:\n",
    "    print(\"People are less than or equal to dogs.\")\n",
    "\n",
    "\n",
    "if people == dogs:\n",
    "    print(\"People are dogs.\")"
   ]
  },
  {
   "cell_type": "markdown",
   "id": "e62cc8a3-41d6-4c27-9761-88a344ef8f39",
   "metadata": {},
   "source": [
    "# Memorizing Logic\n",
    "Today is the day you start learning about logic. Up to this point you have done everything you possibly can reading and writing files, to the terminal, and have learned quite a lot of the math capabilities of Python.\n",
    "\n",
    "From now on, you will be learning *logic*. You won't learn complex theories that academics love to study, but just the simple basic logic that makes real programs work and that real programmers need every day.\n",
    "\n",
    "Learning logic has to come after you do some memorization. I want you to do this exercise for an entire week. Do not falter. Even if you are bored out of your mind, keep doing it. This exercise has a set of logic tables you must memorize to make it easier for you to do later exercises.\n",
    "\n",
    "I'm warning you this won't be fun at first. It will be downright boring and tedious, but this teaches you a very important skill you will need as a programmer. You *will* need to be able to memorize important concepts in your life. Most of these concepts will be exciting once you get them. You will struggle with them, like wrestling a squid, then one day you will understand it. All that work memorizing the basics pays off big later.\n",
    "\n",
    "Here's a tip on how to memorize something without going insane: Do a tiny bit at a time throughout the day and mark down what you need to work on most. Do not try to sit down for 2 hours straight and memorize these tables. This won't work. Your brain will only retain whatever you studied in the first 15 or 30 minutes anyway. Instead, create a bunch of index cards with each column on the left (True or False) on the front, and the column on the right on the back. You should then take them out, see the \"True or False\" and immediately say \"True!\". Keep practicing until you can do this.\n",
    "\n",
    "Once you can do that, start writing out your own truth tables each night into a notebook. Do not just copy them. Try to do them from memory. When you get stuck, glance quickly at the ones I have here to refresh your memory. Doing this will train your brain to remember the whole table.\n",
    "\n",
    "Do not spend more than one week on this, because you will be applying it as you go."
   ]
  },
  {
   "cell_type": "markdown",
   "id": "1039d219-4de5-4cb0-9478-f350bb1b1532",
   "metadata": {},
   "source": [
    "# The Truth Terms\n",
    "In Python we have the following terms (characters and phrases) for determining if something is \"True\" or \"False\". Logic on a computer is all about seeing if some combination of these characters and some variables is True at that point in the program.\n",
    "\n",
    "* and\n",
    "* or\n",
    "* not\n",
    "* != (not equal)\n",
    "* == (equal)\n",
    "* \\>= (greater-than-equal)\n",
    "* <= (less-than-equal)\n",
    "* True\n",
    "* False\n",
    "\n",
    "You actually have run into these characters before but maybe not the terms. The terms (and, or, not) actually work the way you expect them to, just like in English."
   ]
  },
  {
   "cell_type": "code",
   "execution_count": 14,
   "id": "39faa919-9925-4462-bd16-67b195297fef",
   "metadata": {},
   "outputs": [
    {
     "name": "stdout",
     "output_type": "stream",
     "text": [
      "True\n",
      "False\n",
      "False\n",
      "True\n",
      "True\n",
      "True\n",
      "False\n",
      "True\n",
      "False\n",
      "False\n",
      "True\n",
      "False\n",
      "True\n",
      "False\n",
      "False\n",
      "False\n",
      "True\n",
      "True\n",
      "False\n",
      "False\n"
     ]
    }
   ],
   "source": [
    "print(True and True) # True\n",
    "print(False and True) # False\n",
    "print(1 == 1 and 2 == 1) # False\n",
    "print(\"test\" == \"test\") # True\n",
    "print(1 == 1 or 2 != 1) # True\n",
    "print(True and 1 == 1) # True\n",
    "print(False and 0 != 0) # False\n",
    "print(True or 1 == 1) # True\n",
    "print(\"test\" == \"testing\") # False\n",
    "print(1 != 0 and 2 == 1) # False\n",
    "print(\"test\" != \"testing\") # True\n",
    "print(\"test\" == 1) # False\n",
    "print(not (True and False)) # True\n",
    "print(not (1 == 1 and 0 != 1)) # False\n",
    "print(not (10 == 1 or 1000 == 1000)) # False\n",
    "print(not (1 != 10 or 3 == 4)) # False\n",
    "print(not (\"testing\" == \"testing\" and \"Milos\" == \"Cool Guy\")) # True\n",
    "print (1 == 1 and (not (\"testing\" == 1 or 1 == 0))) # True\n",
    "print(\"chunky\" == \"bacon\" and (not (3 == 4 or 3 == 3))) # False\n",
    "print(3 == 3 and (not (\"testing\" == \"testing\" or \"Python\" == \"Fun\"))) # False"
   ]
  },
  {
   "cell_type": "markdown",
   "id": "4abd6180-d311-465f-bddc-c75bfec1679b",
   "metadata": {},
   "source": [
    "# What If\n",
    "Here's the next script of Python you will enter which introduces you to the if-statement. Type this in, make it run exactly right, and then we'll see if your practice has paid off."
   ]
  },
  {
   "cell_type": "code",
   "execution_count": 2,
   "id": "de4cc25d-bf72-4a4a-ad27-4aa727085a2a",
   "metadata": {},
   "outputs": [
    {
     "name": "stdout",
     "output_type": "stream",
     "text": [
      "Too many cats! The world is doomed!\n",
      "The world is dry!\n",
      "People are greater than or equal to dogs.\n",
      "People are less than or equal to dogs.\n",
      "People are dogs.\n"
     ]
    }
   ],
   "source": [
    "people = 20\n",
    "cats = 30\n",
    "dogs = 15\n",
    "\n",
    "if people < cats:\n",
    "    print(\"Too many cats! The world is doomed!\")\n",
    "\n",
    "if people > cats:\n",
    "    print(\"Not many cats! The world is saved!\")\n",
    "\n",
    "if people > dogs:\n",
    "    print(\"The world is dry!\")\n",
    "\n",
    "dogs += 5\n",
    "\n",
    "if people >= dogs:\n",
    "    print(\"People are greater than or equal to dogs.\")\n",
    "\n",
    "if people <= dogs:\n",
    "    print(\"People are less than or equal to dogs.\")\n",
    "\n",
    "if people == dogs:\n",
    "    print(\"People are dogs.\")"
   ]
  },
  {
   "cell_type": "markdown",
   "id": "07daadc9-43df-41c0-a225-3103507e79ea",
   "metadata": {},
   "source": [
    "# Else and If\n",
    "Try this one in and make it work too."
   ]
  },
  {
   "cell_type": "code",
   "execution_count": 4,
   "id": "bd966491-6a45-46ae-890f-f9a5c9e7229f",
   "metadata": {},
   "outputs": [
    {
     "name": "stdout",
     "output_type": "stream",
     "text": [
      "We should take the cars.\n",
      "Maybe we could take the trucks.\n",
      "Alright, let's just take the trucks.\n"
     ]
    }
   ],
   "source": [
    "people = 30\n",
    "cars = 40\n",
    "trucks = 15\n",
    "\n",
    "if cars > people:\n",
    "    print(\"We should take the cars.\")\n",
    "elif cars < people:\n",
    "    print(\"We should not take the cars.\")\n",
    "else:\n",
    "    print(\"We can't decide.\")\n",
    "\n",
    "if trucks > cars:\n",
    "    print(\"That's too many trucks.\")\n",
    "elif trucks < cars:\n",
    "    print(\"Maybe we could take the trucks.\")\n",
    "else:\n",
    "    print(\"We still can't decide.\")\n",
    "\n",
    "if people > trucks:\n",
    "    print(\"Alright, let's just take the trucks.\")\n",
    "else:\n",
    "    print(\"RFine, let's stay home then.\")"
   ]
  },
  {
   "cell_type": "markdown",
   "id": "cbe3cb79-0753-42d7-8d4a-bc9b330ad52b",
   "metadata": {},
   "source": [
    "# Making Decisions\n",
    "In the first half of this book you mostly just printed out things called functions, but everything was basically in a straight line. Your scripts ran starting at the top and went to the bottom where they ended. If you made a function, you could run that function later, but it still didn't have the kind of branching you need to really make decisions. Now that you have if, else, and elif you can start to make scripts that decide things.\n",
    "\n",
    "In the last script you wrote out a simple set of tests asking some questions. In This script you will ask the user questions and make decisions based on their answers. Write this script, and then play with it quite a lot to figure it out."
   ]
  },
  {
   "cell_type": "code",
   "execution_count": 5,
   "id": "13067053-5918-47ca-8517-b6cd71d41bb7",
   "metadata": {},
   "outputs": [
    {
     "name": "stdout",
     "output_type": "stream",
     "text": [
      "You enter a dark room with two doors.\n",
      "Do you go through door #1 or door #2?\n"
     ]
    },
    {
     "name": "stdin",
     "output_type": "stream",
     "text": [
      ">  1\n"
     ]
    },
    {
     "name": "stdout",
     "output_type": "stream",
     "text": [
      "There's a giant bear here eating a cheese cake.\n",
      "What do you do?\n",
      "1. Take the cake.\n",
      "2. Scream at the bear.\n"
     ]
    },
    {
     "name": "stdin",
     "output_type": "stream",
     "text": [
      ">  2\n"
     ]
    },
    {
     "name": "stdout",
     "output_type": "stream",
     "text": [
      "The bear eats your legs off. Good job!\n"
     ]
    }
   ],
   "source": [
    "print(\"\"\"You enter a dark room with two doors.\n",
    "Do you go through door #1 or door #2?\"\"\")\n",
    "\n",
    "door = input(\"> \")\n",
    "\n",
    "if door == \"1\":\n",
    "    print(\"There's a giant bear here eating a cheese cake.\")\n",
    "    print(\"What do you do?\")\n",
    "    print(\"1. Take the cake.\")\n",
    "    print(\"2. Scream at the bear.\")\n",
    "\n",
    "    bear = input(\"> \")\n",
    "\n",
    "    if bear == \"1\":\n",
    "        print(\"The bear eats your face off. Good job!\")\n",
    "    elif bear == \"2\":\n",
    "        print(\"The bear eats your legs off. Good job!\")\n",
    "    else:\n",
    "        print(f\"Well, doing {bear} is probably better.\")\n",
    "        print(\"Bear runs away.\")\n",
    "\n",
    "elif door == \"2\":\n",
    "    print(\"You stare into the endless abyss at Cthulhu's retina.\")\n",
    "    print(\"1. Blueberries.\")\n",
    "    print(\"2. Yellow jacket clothespins.\")\n",
    "    print(\"3. Understanding revolvers yelling melodies.\")\n",
    "\n",
    "    insanity = input(\"> \")\n",
    "\n",
    "    if insanity == \"1\" or insanity == \"2\":\n",
    "        print(\"Your body survives powered by a mind of jello.\")\n",
    "        print(\"Good job!\")\n",
    "    else:\n",
    "        print(\"The insanity rots your eyes into a pool of muck.\")\n",
    "        print(\"Good job!\")\n",
    "\n",
    "else:\n",
    "    print(\"You stumble around and fall on a knife and die. Good job!\")"
   ]
  },
  {
   "cell_type": "code",
   "execution_count": 6,
   "id": "c2b255bc-4a28-45fc-b874-edc2159161f1",
   "metadata": {},
   "outputs": [
    {
     "name": "stdout",
     "output_type": "stream",
     "text": [
      "True\n"
     ]
    }
   ],
   "source": [
    "x = 4\n",
    "print(1 <= x < 10)"
   ]
  },
  {
   "cell_type": "markdown",
   "id": "42dea8e8-f546-41f6-b729-479bba71ae72",
   "metadata": {},
   "source": [
    "# Loops and Lists\n",
    "You should now be able to do some programs that are much more interesting. If you have been keeping up, you should realize that now you can combine all the other things you have learned with if-statements and boolean expressions to make your programs do smart things.\n",
    "\n",
    "However, programs also need to do repetitive things very quickly. We are going to use a for-loop in this exercise to build and print various lists. When you do exercise, you will start to figure out what they are. I won't tell you right now. You have to figure it out.\n",
    "\n",
    "Before you can use a for-loop, you need a way to store the results of loops somewhere. The best way to do this is with __lists__. Lists are exactly what their name says: a container of things that are organized in order from first to last. It's not complicated; you just have to learn a new syntax. First, here's how you make lists:\n",
    "\n",
    "```\n",
    "hairs = [\"brown\", \"blond\", \"red\"]\n",
    "eyes = [\"brown\", \"blue\", \"green\"]\n",
    "weights = [1, 2, 3, 4, 5]\n",
    "```\n",
    "\n",
    "We will now build some lists using some for-loops and print them out:"
   ]
  },
  {
   "cell_type": "code",
   "execution_count": 1,
   "id": "dcd2d88d-911b-4948-89e3-3d4430167b7b",
   "metadata": {},
   "outputs": [
    {
     "name": "stdout",
     "output_type": "stream",
     "text": [
      "This is count 1\n",
      "This is count 2\n",
      "This is count 3\n",
      "This is count 4\n",
      "This is count 5\n",
      "A fruit of type: apples\n",
      "A fruit of type: oranges\n",
      "A fruit of type: pears\n",
      "A fruit of type: apricots\n",
      "I got 1\n",
      "I got pennies\n",
      "I got 2\n",
      "I got dimes\n",
      "I got 3\n",
      "I got quarters\n",
      "Adding 0 to the list.\n",
      "Adding 1 to the list.\n",
      "Adding 2 to the list.\n",
      "Adding 3 to the list.\n",
      "Adding 4 to the list.\n",
      "Adding 5 to the list.\n",
      "Element was: 0\n",
      "Element was: 1\n",
      "Element was: 2\n",
      "Element was: 3\n",
      "Element was: 4\n",
      "Element was: 5\n"
     ]
    }
   ],
   "source": [
    "the_count = [1, 2, 3, 4, 5]\n",
    "fruits = [\"apples\", \"oranges\", \"pears\", \"apricots\"]\n",
    "change = [1, \"pennies\", 2, \"dimes\", 3, \"quarters\"]\n",
    "\n",
    "# this first kind of for loop goes through a list\n",
    "for number in the_count:\n",
    "    print(f\"This is count {number}\")\n",
    "\n",
    "# same as above\n",
    "for fruit in fruits:\n",
    "    print(f\"A fruit of type: {fruit}\")\n",
    "\n",
    "# also we can go through mixed lists too\n",
    "for i in change:\n",
    "    print(f\"I got {i}\")\n",
    "\n",
    "# We can also build lists, first start with an empty one\n",
    "elements = []\n",
    "\n",
    "# then use the range function to do 0 to 5 counts\n",
    "for i in range(0, 6):\n",
    "    print(f\"Adding {i} to the list.\")\n",
    "    # append is a function that lists understand\n",
    "    elements.append(i)\n",
    "\n",
    "# now we can print them out too\n",
    "for i in elements:\n",
    "    print(f\"Element was: {i}\")"
   ]
  },
  {
   "cell_type": "code",
   "execution_count": 2,
   "id": "e2f19361-900b-441b-a731-1cb9b6c117fc",
   "metadata": {},
   "outputs": [
    {
     "name": "stdout",
     "output_type": "stream",
     "text": [
      "[0, 1, 2, 3, 4, 5]\n"
     ]
    }
   ],
   "source": [
    "elements = [i for i in range(0, 6)]\n",
    "print(elements)"
   ]
  },
  {
   "cell_type": "markdown",
   "id": "78a8e033-4a90-4613-94ba-a586fef7c19b",
   "metadata": {},
   "source": [
    "# While Loops\n",
    "Now to totally blow your mind with a new loop, the while-loop. A while-loop will keep executing the code block under it as long as a boolean expression is `True`.\n",
    "\n",
    "Here's the problem with while-loops: Sometimes they do not stop. This is great if your intention is to just keep looping until the end of the universe. Otherwise you almost always want your loops to end eventually.\n",
    "\n",
    "To avoid these problems, there are some rules to follow:\n",
    "1. Make sure that you use while loops sparingly. Usually a for-loop is better.\n",
    "2. Review your while statements and make sure that the boolean test will become `False` at some point.\n",
    "3. When in doubt, print out your test variable at the top and bottom of the while-loop to see what it's doing.\n",
    "\n",
    "In this exercise, you will learn the while-loop while doing these three checks:"
   ]
  },
  {
   "cell_type": "code",
   "execution_count": 3,
   "id": "d1fb434e-e1fc-48df-b423-85ae0c6008ed",
   "metadata": {},
   "outputs": [
    {
     "name": "stdout",
     "output_type": "stream",
     "text": [
      "At the top i is 0\n",
      "Numbers now:  [0]\n",
      "At the bottom i is 1\n",
      "At the top i is 1\n",
      "Numbers now:  [0, 1]\n",
      "At the bottom i is 2\n",
      "At the top i is 2\n",
      "Numbers now:  [0, 1, 2]\n",
      "At the bottom i is 3\n",
      "At the top i is 3\n",
      "Numbers now:  [0, 1, 2, 3]\n",
      "At the bottom i is 4\n",
      "At the top i is 4\n",
      "Numbers now:  [0, 1, 2, 3, 4]\n",
      "At the bottom i is 5\n",
      "At the top i is 5\n",
      "Numbers now:  [0, 1, 2, 3, 4, 5]\n",
      "At the bottom i is 6\n",
      "The numbers: \n",
      "0\n",
      "1\n",
      "2\n",
      "3\n",
      "4\n",
      "5\n"
     ]
    }
   ],
   "source": [
    "i = 0\n",
    "numbers = []\n",
    "\n",
    "while i < 6:\n",
    "    print(f\"At the top i is {i}\")\n",
    "    numbers.append(i)\n",
    "\n",
    "    i += 1\n",
    "\n",
    "    print(\"Numbers now: \", numbers)\n",
    "    print(f\"At the bottom i is {i}\")\n",
    "\n",
    "print(\"The numbers: \")\n",
    "\n",
    "for num in numbers:\n",
    "    print(num)"
   ]
  },
  {
   "cell_type": "markdown",
   "id": "f5276924-b7d2-4cea-9ce2-d412ff88d6cf",
   "metadata": {},
   "source": [
    "# Branches and Functions\n",
    "You have learned if-statements, functions and lists. Now it's time to bend your mind. Type this in, and see if you can figure out what it's doing."
   ]
  },
  {
   "cell_type": "code",
   "execution_count": 1,
   "id": "d99d370e-55ff-45c3-880e-1d79f6604a0f",
   "metadata": {},
   "outputs": [
    {
     "name": "stdout",
     "output_type": "stream",
     "text": [
      "You are in a dark room.\n",
      "There is a door to your right and left.\n",
      "Which one do you take?\n"
     ]
    },
    {
     "name": "stdin",
     "output_type": "stream",
     "text": [
      ">  left\n"
     ]
    },
    {
     "name": "stdout",
     "output_type": "stream",
     "text": [
      "There's a bear here.\n",
      "The bear has a bunch of honey.\n",
      "The fat bear is in front of another door.\n",
      "How are you going to move the bear?\n"
     ]
    },
    {
     "name": "stdin",
     "output_type": "stream",
     "text": [
      ">  take honey\n"
     ]
    },
    {
     "name": "stdout",
     "output_type": "stream",
     "text": [
      "The bear looks at you then slaps your face off. Good job!\n"
     ]
    },
    {
     "ename": "SystemExit",
     "evalue": "0",
     "output_type": "error",
     "traceback": [
      "An exception has occurred, use %tb to see the full traceback.\n",
      "\u001b[0;31mSystemExit\u001b[0m\u001b[0;31m:\u001b[0m 0\n"
     ]
    },
    {
     "name": "stderr",
     "output_type": "stream",
     "text": [
      "/home/kain/.local/python3.11/lib/python3.11/site-packages/IPython/core/interactiveshell.py:3587: UserWarning: To exit: use 'exit', 'quit', or Ctrl-D.\n",
      "  warn(\"To exit: use 'exit', 'quit', or Ctrl-D.\", stacklevel=1)\n"
     ]
    }
   ],
   "source": [
    "from sys import exit\n",
    "\n",
    "def gold_room():\n",
    "    print(\"This room is full of gold. How much do you take?\")\n",
    "\n",
    "    choice = input(\"> \")\n",
    "    if \"0\" in choice or \"1\" in choice:\n",
    "        how_much = int(choice)\n",
    "    else:\n",
    "        dead(\"Man, learn to type a number.\")\n",
    "\n",
    "    if how_much < 50:\n",
    "        print(\"Nice, you're not greedy, you win!\")\n",
    "        exit(0)\n",
    "    else:\n",
    "        dead(\"You greedy bastard!\")\n",
    "\n",
    "def bear_room():\n",
    "    print(\"There's a bear here.\")\n",
    "    print(\"The bear has a bunch of honey.\")\n",
    "    print(\"The fat bear is in front of another door.\")\n",
    "    print(\"How are you going to move the bear?\")\n",
    "    bear_moved = False\n",
    "\n",
    "    while True:\n",
    "        choice = input(\"> \")\n",
    "\n",
    "        if choice == \"take honey\":\n",
    "            dead(\"The bear looks at you then slaps your face off.\")\n",
    "        elif choice == \"taunt bear\" and not bear_moved:\n",
    "            print(\"The bear has moved from the door.\")\n",
    "            print(\"You can go through it now.\")\n",
    "            bear_moved = True\n",
    "        elif choice == \"taunt bear\" and bear_moved:\n",
    "            dead(\"The bear gets pissed off and chews your leg off.\")\n",
    "        elif choice == \"open door\" and bear_moved:\n",
    "            gold_room()\n",
    "        else:\n",
    "            print(\"I got no idea what that means.\")\n",
    "\n",
    "def cthulhu_room():\n",
    "    print(\"Here you see the great evil Cthulhu.\")\n",
    "    print(\"He, it, whatever stares at you and you go insane.\")\n",
    "    print(\"Do you flee for your life or eat your head?\")\n",
    "\n",
    "    choice = input(\"> \")\n",
    "\n",
    "    if \"flee\" in choice:\n",
    "        start()\n",
    "    elif \"head\" in choice:\n",
    "        dead(\"Well that was tasty!\")\n",
    "    else:\n",
    "        cthulhu_room()\n",
    "\n",
    "def dead(why):\n",
    "    print(why, \"Good job!\")\n",
    "    exit(0)\n",
    "\n",
    "def start():\n",
    "    print(\"You are in a dark room.\")\n",
    "    print(\"There is a door to your right and left.\")\n",
    "    print(\"Which one do you take?\")\n",
    "\n",
    "    choice = input(\"> \")\n",
    "\n",
    "    if choice == \"left\":\n",
    "        bear_room()\n",
    "    elif choice == \"right\":\n",
    "        cthulhu_room()\n",
    "    else:\n",
    "        dead(\"You stumble around the room until you starve.\")\n",
    "\n",
    "start()"
   ]
  },
  {
   "cell_type": "markdown",
   "id": "f305ce84-e385-431f-b7ca-bdaa4d684fd2",
   "metadata": {},
   "source": [
    "# Designing and Debugging\n",
    "Now that you know if-statements, I'm going to give you some rules for for-loops and while-loops that will keep you out of trouble. I'm also going to give you some tips on debugging so that you can figure out problems with your program. Finally, you will design a little game similar to the last exercise, but with a slight twist."
   ]
  },
  {
   "cell_type": "markdown",
   "id": "780dafb9-634b-42e0-8505-ea6f57d9f8e5",
   "metadata": {},
   "source": [
    "### Rules for If-Statements\n",
    "1. Every if-statement must have an else.\n",
    "2. If this `else` should never run because it doesn't make sense, then you must use a die function in the `else` that prints out an error message and dies, just like we did in the last exercise. This will find _many_ errors.\n",
    "3. Never nest if-statements more than two deep and always try to do them one deep.\n",
    "4. Treat if-statements like paragraphs, where each if-elif-else grouping is like a set of sentences. Put blank lines before and after.\n",
    "5. Your `Boolean` tests should be simple. If they are complex, move their calculations to variables earlier in your function and use a good name for the variable.\n",
    "\n",
    "If you follow these simple rules, you will start writing better code than most programmers. Go back to the last exercise and see if I followed all of these rules. If not, fix my mistakes."
   ]
  },
  {
   "cell_type": "markdown",
   "id": "95027de1-1d87-4fae-bea6-05471a4f49fa",
   "metadata": {},
   "source": [
    "---\n",
    "__WARNING!__ Never be a slave to the rules in real life. For training purposes you need to follow these rules to make your mind strong, but in real life sometimes these rules are just stupid. If you think a rule is stupid, try not using it.\n",
    "---"
   ]
  },
  {
   "cell_type": "markdown",
   "id": "857ae73e-cfc2-443f-9038-d0897d4e5f6b",
   "metadata": {},
   "source": [
    "### Rules for Loops\n",
    "1. Use a while-loop only to loop forever, and that means probably never. This only applies to Python; other languages are different.\n",
    "2. Use a for-loop for all other kinds of looping, especially if there is a fixed or limited number of things to loop over."
   ]
  },
  {
   "cell_type": "markdown",
   "id": "c4e867bc-8026-4d7a-a96d-4807bed8bae8",
   "metadata": {},
   "source": [
    "### Tips for Debugging\n",
    "1. Do not use a \"debugger\". A debugger is like doing a full-body scan on a sick person. You do not get any specific useful information, and you find a whole lot of information that doesn't help and is just confusing.\n",
    "2. The best way to debug a program is to use `print` to print out the values of variables at points in the program to see where they go wrong.\n",
    "3. Make sure parts of your programs work as you work on them. Do not write massive files of code before you try to run them. Code a little, run a little, fix a little."
   ]
  },
  {
   "cell_type": "code",
   "execution_count": 2,
   "id": "5b999646-7c4e-448b-a5b5-aaf835d66e80",
   "metadata": {},
   "outputs": [
    {
     "name": "stdout",
     "output_type": "stream",
     "text": [
      "10\n",
      "56\n"
     ]
    }
   ],
   "source": [
    "a = 10\n",
    "b = 20\n",
    "\n",
    "def change():\n",
    "    global b\n",
    "    a = 45\n",
    "    b = 56\n",
    "\n",
    "change()\n",
    "\n",
    "print(a)\n",
    "print(b)"
   ]
  },
  {
   "cell_type": "markdown",
   "id": "5825c5a5-2f10-48d7-8266-d4b8835db740",
   "metadata": {},
   "source": [
    "# Doing Things to Lists\n",
    "You have learned about lists. When you learned about while-loops you *appended* numbers to the end of a list and printed them out. There were also Study Drills where you were supposed to find all the other things you can do to lists in the Python documentation.That was a while back, so review those topics if you do not know what I'm talking about.\n",
    "\n",
    "Found it? Remember it? Good. When you did this you had a list, and you \"called\" the function append on it. However, you may not really understand what's going on, so let's see what we can do to lists.\n",
    "\n",
    "When you write `mystuff.append('hello')` you are actually setting off a chain of events inside Python to cause something to happen to the `mystuff` list. Here's how it works:\n",
    "1. Python sees you mentioned `mystuff` and looks up that variable. It might have to look backward to see if you created it with =, if it is a function argument, or if it's a global variable. Either way it has to find the `mystuff` first.\n",
    "2. Once it finds `mystuff` it reads the . (period) operator and starts to look at variables that are a part of `mystuff`. Since `mystuff` is a list, it knows that `mystuff` has a bunch of functions.\n",
    "3. It then hits append and compares the name of all the names that `mystuff` says it owns. If append is in there (it is), then Python grabs that to use.\n",
    "4. Next Python sees the ( parenthesis ) and realizes, \"Oh hey, this should be a function.\" At this point it calls (runs, executes) the function just like normally, but instead it calls the function with an *extra* argument.\n",
    "5. That *extra* argument is ... `mystuff`! I know, weird, right? But that's how Python works, so it's best to just remember it and assume that's the result. What happens, at the end of all this, is a function call that looks like: `append(mystuff, \"hello\")` instead of what you read, which is `mystuff.append(\"hello\")`.\n",
    "\n",
    "For the most part you do not have to know that this is going on, but it helps when you get error messages from Python like this:\n",
    "\n",
    "```python\n",
    "class Thing(object):\n",
    "    def test(message):\n",
    "        print(message)\n",
    "\n",
    "a = Thing()\n",
    "a.test(\"hello\")\n",
    "Traceback (most recent call last):\n",
    "    File \"<stdin>\", line 1, in <module>\n",
    "TypeError: test() takes exactly 1 argument (2 given)\n",
    "```\n",
    "\n",
    "What was all that? Well, this is me typing into the Python shell and showing you some magic. You haven't seen `class` yet, but we'll get into that later. For now you see how Python said `test()` takes exactly 1 argument (2 given). If you see this, it means that Python changed a.test(\"hello\") to test(a, \"hello\") and that somewhere someone messed up and didn't add the argument for a.\n",
    "\n",
    "This might be a lot to take in, but we're going to spend a few exercises getting this concept firm in your brain. To kick things off, here's an exercise that mixes strings and lists for all kinds of fun."
   ]
  },
  {
   "cell_type": "code",
   "execution_count": 1,
   "id": "336d6eb7-0add-47f7-85e2-fee8321c7a4e",
   "metadata": {},
   "outputs": [
    {
     "name": "stdout",
     "output_type": "stream",
     "text": [
      "Wait there are not 10 things in that list. Let's fix that.\n",
      "Adding:  Boy\n",
      "There are 7 items now.\n",
      "Adding:  Girl\n",
      "There are 8 items now.\n",
      "Adding:  Banana\n",
      "There are 9 items now.\n",
      "Adding:  Corn\n",
      "There are 10 items now.\n",
      "There we go:  ['Apples', 'Oranges', 'Crows', 'Telephone', 'Light', 'Sugar', 'Boy', 'Girl', 'Banana', 'Corn']\n",
      "Let's do some things with stuff.\n",
      "Oranges\n",
      "Corn\n",
      "Corn\n",
      "Apples Oranges Crows Telephone Light Sugar Boy Girl Banana\n",
      "Telephone#Light\n"
     ]
    }
   ],
   "source": [
    "ten_things = \"Apples Oranges Crows Telephone Light Sugar\"\n",
    "\n",
    "print(\"Wait there are not 10 things in that list. Let's fix that.\")\n",
    "\n",
    "stuff = ten_things.split(' ')\n",
    "more_stuff = [\"Day\", \"Night\", \"Song\", \"Frisbee\",\n",
    "             \"Corn\", \"Banana\", \"Girl\", \"Boy\"]\n",
    "\n",
    "while len(stuff) != 10:\n",
    "    next_one = more_stuff.pop()\n",
    "    print(\"Adding: \", next_one)\n",
    "    stuff.append(next_one)\n",
    "    print(f\"There are {len(stuff)} items now.\")\n",
    "\n",
    "print(\"There we go: \", stuff)\n",
    "\n",
    "print(\"Let's do some things with stuff.\")\n",
    "\n",
    "print(stuff[1])\n",
    "print(stuff[-1]) # whoa! fancy\n",
    "print(stuff.pop())\n",
    "print(\" \".join(stuff)) # what? cool!\n",
    "print(\"#\".join(stuff[3:5])) # super stellar!"
   ]
  },
  {
   "cell_type": "markdown",
   "id": "df0202c4-8e08-40ad-abae-636afe0331d3",
   "metadata": {},
   "source": [
    "# Dictionaries, Oh Lovely Dictionaries\n",
    "You are now going to learn about the Dictionary data structure in Python. A Dictionary (or \"dict\") is a way to store data just like a list, but instead of using only numbers to get the data, you can use almost anything. This lets you treat a dict like it's a database for storing and organizing data.\n",
    "\n",
    "Let's compare what dicts can do to what lists can do. You see, a list lets you do this:"
   ]
  },
  {
   "cell_type": "code",
   "execution_count": 1,
   "id": "fcae5bcb-401f-4fa1-a74f-593d88347496",
   "metadata": {},
   "outputs": [
    {
     "name": "stdout",
     "output_type": "stream",
     "text": [
      "b\n",
      "z\n",
      "['a', 'z', 'c', 'd']\n"
     ]
    }
   ],
   "source": [
    "things = [\"a\", \"b\", \"c\", \"d\"]\n",
    "print(things[1])\n",
    "things[1] = \"z\"\n",
    "print(things[1])\n",
    "print(things)"
   ]
  },
  {
   "cell_type": "markdown",
   "id": "49168e4a-8f77-4159-a59b-8cb85b0627da",
   "metadata": {},
   "source": [
    "You can use numbers to *index* into a list, meaning you can use numbers to find out what's in the lists. You should know this about lists by now, but make sure you understand that you can only use numbers to get items out of a list.\n",
    "\n",
    "What a `dict` does is let you use *anything*, not just numbers. Yes, a dict associates one thing to another, no matter what it is. Take a look:"
   ]
  },
  {
   "cell_type": "code",
   "execution_count": 5,
   "id": "06e1a463-8dbd-4c80-b42e-9410aae0b218",
   "metadata": {},
   "outputs": [
    {
     "name": "stdout",
     "output_type": "stream",
     "text": [
      "Milos\n",
      "32\n",
      "74\n",
      "NS\n",
      "{'name': 'Milos', 'age': 32, 'height': 74, 'city': 'NS'}\n",
      "{'name': 'Milos', 'age': 32, 'height': 74, 'city': 'NS', 1: 'Wow', 2: 'Neato'}\n",
      "{'name': 'Milos', 'age': 32, 'height': 74, 1: 'Wow', 2: 'Neato'}\n"
     ]
    }
   ],
   "source": [
    "stuff = {\"name\": \"Milos\", \"age\": 32, \"height\": 6 * 12 + 2}\n",
    "print(stuff[\"name\"])\n",
    "print(stuff[\"age\"])\n",
    "print(stuff[\"height\"])\n",
    "stuff[\"city\"] = \"NS\"\n",
    "print(stuff[\"city\"])\n",
    "print(stuff)\n",
    "stuff[1] = \"Wow\"\n",
    "stuff[2] = \"Neato\"\n",
    "print(stuff)\n",
    "stuff.pop(\"city\")\n",
    "print(stuff)"
   ]
  },
  {
   "cell_type": "markdown",
   "id": "5a192094-9b52-4307-b324-d60df0c6e9a7",
   "metadata": {},
   "source": [
    "###  A Dictionary Example\n",
    "We'll now do an exercise that you *must* study very carefully. I want you to type this code in and try to understand what's going on. Take note of when you put things in a dict, get them from a hash, and all the operations you use. Notice how this example is mapping states to their abbreviations and then the abbreviations to cities in the states. Remember \"mapping\" or \"associating\" is the key concept in a dictionary. "
   ]
  },
  {
   "cell_type": "code",
   "execution_count": 6,
   "id": "8981ca71-e130-497d-a21d-99f3dc4c8f9a",
   "metadata": {},
   "outputs": [
    {
     "name": "stdout",
     "output_type": "stream",
     "text": [
      "----------\n",
      "NY State has:  New York\n",
      "OR State has:  Portland\n",
      "----------\n",
      "Michigan's abbreviation is:  MI\n",
      "Florida's abbreviation is:  FL\n",
      "----------\n",
      "Michigan has:  Detroit\n",
      "Florida has:  Jacksonville\n",
      "----------\n",
      "Oregon is abbreviated OR\n",
      "Florida is abbreviated FL\n",
      "California is abbreviated CA\n",
      "New York is abbreviated NY\n",
      "Michigan is abbreviated MI\n",
      "----------\n",
      "CA has the city San Francisco\n",
      "MI has the city Detroit\n",
      "FL has the city Jacksonville\n",
      "NY has the city New York\n",
      "OR has the city Portland\n",
      "----------\n",
      "Oregon state is abbreviated OR\n",
      "and has city Portland\n",
      "Florida state is abbreviated FL\n",
      "and has city Jacksonville\n",
      "California state is abbreviated CA\n",
      "and has city San Francisco\n",
      "New York state is abbreviated NY\n",
      "and has city New York\n",
      "Michigan state is abbreviated MI\n",
      "and has city Detroit\n",
      "----------\n",
      "sorry, no Texas.\n",
      "The city for the state 'TX' is: Does Not Exist\n"
     ]
    }
   ],
   "source": [
    "# create a mapping of state to abbreviation\n",
    "states = {\n",
    "    \"Oregon\": \"OR\",\n",
    "    \"Florida\": \"FL\",\n",
    "    \"California\": \"CA\",\n",
    "    \"New York\": \"NY\",\n",
    "    \"Michigan\": \"MI\"\n",
    "}\n",
    "\n",
    "# create a basic set of states and some cities in them\n",
    "cities = {\n",
    "    \"CA\": \"San Francisco\",\n",
    "    \"MI\": \"Detroit\",\n",
    "    \"FL\": \"Jacksonville\"\n",
    "}\n",
    "\n",
    "# add some more cities\n",
    "cities[\"NY\"] = \"New York\"\n",
    "cities[\"OR\"] = \"Portland\"\n",
    "\n",
    "# print out some cities\n",
    "print(\"-\" * 10)\n",
    "print(\"NY State has: \", cities[\"NY\"])\n",
    "print(\"OR State has: \", cities[\"OR\"])\n",
    "\n",
    "# print some states\n",
    "print(\"-\" * 10)\n",
    "print(\"Michigan's abbreviation is: \", states[\"Michigan\"])\n",
    "print(\"Florida's abbreviation is: \", states[\"Florida\"])\n",
    "\n",
    "# do it by using the state then cities dict\n",
    "print(\"-\" * 10)\n",
    "print(\"Michigan has: \", cities[states[\"Michigan\"]])\n",
    "print(\"Florida has: \", cities[states[\"Florida\"]])\n",
    "\n",
    "# print every state abbreviation\n",
    "print(\"-\" * 10)\n",
    "for state, abbrev in list(states.items()):\n",
    "    print(f\"{state} is abbreviated {abbrev}\")\n",
    "\n",
    "# print every city in state\n",
    "print(\"-\" * 10)\n",
    "for abbrev, city in list(cities.items()):\n",
    "    print(f\"{abbrev} has the city {city}\")\n",
    "\n",
    "# now do both at the same time\n",
    "print(\"-\" * 10)\n",
    "for state, abbrev in list(states.items()):\n",
    "    print(f\"{state} state is abbreviated {abbrev}\")\n",
    "    print(f\"and has city {cities[abbrev]}\")\n",
    "\n",
    "print(\"-\" * 10)\n",
    "# safely get an abbreviation by state that might not be there\n",
    "state = states.get(\"Texas\")\n",
    "\n",
    "if not state:\n",
    "    print(\"sorry, no Texas.\")\n",
    "\n",
    "# get a city with a default value\n",
    "city = cities.get(\"TX\", \"Does Not Exist\")\n",
    "print(f\"The city for the state 'TX' is: {city}\")"
   ]
  },
  {
   "cell_type": "markdown",
   "id": "ef012c4d-2138-401f-aca8-e84dcccae13a",
   "metadata": {},
   "source": [
    "### What Dictionaries Can Do\n",
    "Dictionaries are another example of a data structure, and, like lists, they are one of the most commonly used data structures in programming. A dictionary is used to `map` or `associate` things you want to store to keys you need to get them. Again, programmers don't use a term like \"dictionary\" for something that doesn't work like an actual dictionary full of words, so let's use that as our real world example.\n",
    "\n",
    "Let's say you want to find out what the word \"Honorificabilitudinitatibus\" means. Today you would simply copy-paste that word into a search engine and then find out the answer, and we could say a search engine is like a really huge complex version of the *Oxford English Dictionary (OED)*. Before search engines what you would do is this:\n",
    "1. Go to your library and get \"the dictionary\". Let's say it's the OED.\n",
    "2. You know \"honorificabilitudinitatibus\" starts with the letter \"h\" so you look on the side of the book for the little tab that has \"h\" on it.\n",
    "3. Then you'd skim the pages until you are close to where \"hon\" started.\n",
    "4. Then you'd skim a few more pages until you found \"honorificatilitatibus\" or hit the beginning of the \"hp\" words and realize that this word isn't in the OED.\n",
    "5. Once you found the entry, you'd read the definition to figure out what it means.\n",
    "\n",
    "This process is nearly exactly the way a dict works, and you are basically \"mapping\" the word to its definition. A dict in Python is just like a dictionary in the real world, such as the OED."
   ]
  },
  {
   "cell_type": "markdown",
   "id": "3e35da66-d5b6-4669-9e05-b94be9452f2a",
   "metadata": {},
   "source": [
    "# Test 1\n",
    "### Instructions\n",
    "* Each question has one correct answer unless stated otherwise\n",
    "* Choose the best option or write the correct answer where required."
   ]
  },
  {
   "cell_type": "markdown",
   "id": "faff8e01-33b1-4d02-b9fa-524440eb32c6",
   "metadata": {},
   "source": [
    "### 1. Variables and Data Types\n",
    "What will be the output of the following code?\n",
    "\n",
    "```python\n",
    "x = 5\n",
    "y = \"5\"\n",
    "print(x + int(y))\n",
    "```\n",
    "\n",
    "A) 55\n",
    "B) 10\n",
    "C) TypeError\n",
    "D) \"55\""
   ]
  },
  {
   "cell_type": "code",
   "execution_count": 7,
   "id": "78ce1dd6-c016-4df4-9dbf-39e8e6591e45",
   "metadata": {},
   "outputs": [
    {
     "name": "stdout",
     "output_type": "stream",
     "text": [
      "10\n"
     ]
    }
   ],
   "source": [
    "x = 5\n",
    "y = \"5\"\n",
    "print(x + int(y)) # 10"
   ]
  },
  {
   "cell_type": "markdown",
   "id": "79fad25b-51c4-46c3-ae90-ba328e672520",
   "metadata": {},
   "source": [
    "### 2. Lists and Indexing\n",
    "What will `my_list[-1]` return in the following case?\n",
    "\n",
    "```python\n",
    "my_list = [10, 20, 30, 40]\n",
    "print(my_list[-1])\n",
    "```\n",
    "\n",
    "A) 10 B) 20 C) 30 D) 40"
   ]
  },
  {
   "cell_type": "code",
   "execution_count": 8,
   "id": "cd44fadf-1d85-47b8-82df-0b6c968c08c2",
   "metadata": {},
   "outputs": [
    {
     "name": "stdout",
     "output_type": "stream",
     "text": [
      "40\n"
     ]
    }
   ],
   "source": [
    "my_list = [10, 20, 30, 40]\n",
    "print(my_list[-1]) # 40"
   ]
  },
  {
   "cell_type": "markdown",
   "id": "176721ea-bdbe-462a-a342-f9160b5ebacb",
   "metadata": {},
   "source": [
    "### 3. Loops\n",
    "How many times will \"Hello\" be printed?\n",
    "\n",
    "```python\n",
    "for i in range(3):\n",
    "    print(\"Hello\")\n",
    "```\n",
    "\n",
    "A) 1 B) 2 C) 3 D) 4"
   ]
  },
  {
   "cell_type": "code",
   "execution_count": 9,
   "id": "3f9b34d4-4110-4dc4-9b8a-e3629358b915",
   "metadata": {},
   "outputs": [
    {
     "name": "stdout",
     "output_type": "stream",
     "text": [
      "Hello\n",
      "Hello\n",
      "Hello\n"
     ]
    }
   ],
   "source": [
    "for i in range(3):\n",
    "    print(\"Hello\") # 3 times"
   ]
  },
  {
   "cell_type": "markdown",
   "id": "fdc241b8-9924-4dc1-85e5-42a836da4c43",
   "metadata": {},
   "source": [
    "### 4. Conditional Statements\n",
    "What will be printed when this code runs?\n",
    "\n",
    "```python\n",
    "x = 10\n",
    "if x > 5:\n",
    "    print(\"A\")\n",
    "elif x > 8:\n",
    "    print(\"B\")\n",
    "else:\n",
    "    print(\"C\")\n",
    "```\n",
    "\n",
    "A) A B) B C) C D) A and B"
   ]
  },
  {
   "cell_type": "code",
   "execution_count": 11,
   "id": "d393ddf8-3147-46bb-a9e7-00b0e3a1914d",
   "metadata": {},
   "outputs": [
    {
     "name": "stdout",
     "output_type": "stream",
     "text": [
      "A\n"
     ]
    }
   ],
   "source": [
    "x = 10\n",
    "if x > 5:\n",
    "    print(\"A\")\n",
    "elif x > 8:\n",
    "    print(\"B\")\n",
    "else:\n",
    "    print(\"C\") # A"
   ]
  },
  {
   "cell_type": "markdown",
   "id": "14d46b08-8f3c-4567-8ce8-e701131252c1",
   "metadata": {},
   "source": [
    "### 5. Functions\n",
    "What is the output of the following function call?\n",
    "```python\n",
    "def add(a, b=2):\n",
    "    return a + b\n",
    "\n",
    "print(add(3))\n",
    "```\n",
    "\n",
    "A) 2 B) 3 C) 5 D) TypeError"
   ]
  },
  {
   "cell_type": "code",
   "execution_count": 12,
   "id": "a644958c-afba-4ced-80d6-3a054cb8c5d5",
   "metadata": {},
   "outputs": [
    {
     "name": "stdout",
     "output_type": "stream",
     "text": [
      "5\n"
     ]
    }
   ],
   "source": [
    "def add(a, b=2):\n",
    "    return a + b\n",
    "\n",
    "print(add(3)) # 5"
   ]
  },
  {
   "cell_type": "markdown",
   "id": "29eb43a6-0385-44a6-b633-b790c271b542",
   "metadata": {},
   "source": [
    "### 6. Dictionaries\n",
    "Which statement correctly adds a new key-value pair to a dictionary?\n",
    "\n",
    "```python\n",
    "my_dict = {\"name\": \"Alice\", \"age\": 25}\n",
    "```\n",
    "\n",
    "A) `my_dict[\"city\"] = \"New York\"`\n",
    "B) `my_dict.add(\"city\", \"New York\")`\n",
    "C) `my_dict.append(\"city\", \"New York\")`\n",
    "D) `my_dict.insert(\"city\", \"New York\")`"
   ]
  },
  {
   "cell_type": "code",
   "execution_count": 13,
   "id": "e4835b90-674c-43ee-953b-f1dc3455d31f",
   "metadata": {},
   "outputs": [
    {
     "name": "stdout",
     "output_type": "stream",
     "text": [
      "{'name': 'Alice', 'age': 25, 'city': 'New York'}\n"
     ]
    }
   ],
   "source": [
    "my_dict = {\"name\": \"Alice\", \"age\": 25}\n",
    "my_dict[\"city\"] = \"New York\"\n",
    "\n",
    "print(my_dict)"
   ]
  },
  {
   "cell_type": "markdown",
   "id": "448ae016-0478-454f-b5c7-e1d405494014",
   "metadata": {},
   "source": [
    "### 7. String Methods\n",
    "What will be the output of this code?\n",
    "\n",
    "```python\n",
    "text = \"python is fun\"\n",
    "print(text.upper())\n",
    "```\n",
    "\n",
    "A) \"PYTHON IS FUN\"\n",
    "B) \"python IS fun\"\n",
    "C) \"Python Is Fun\"\n",
    "D) \"PYTHON is fun\""
   ]
  },
  {
   "cell_type": "code",
   "execution_count": 14,
   "id": "1858b302-0399-468a-bcff-3e4f219e7f4f",
   "metadata": {},
   "outputs": [
    {
     "name": "stdout",
     "output_type": "stream",
     "text": [
      "PYTHON IS FUN\n"
     ]
    }
   ],
   "source": [
    "text = \"python is fun\"\n",
    "print(text.upper()) # PYTHON IS FUN"
   ]
  },
  {
   "cell_type": "markdown",
   "id": "0cd02ff7-a956-41ed-a7e3-99097cdf1532",
   "metadata": {},
   "source": [
    "### 8. List Comprehension\n",
    "What will be the result of the following code?\n",
    "\n",
    "```python\n",
    "numbers = [x * 2 for x in range(3)]\n",
    "print(numbers)\n",
    "```\n",
    "\n",
    "A) [0, 2, 4]\n",
    "B) [2, 4, 6]\n",
    "C) [1, 2, 3]\n",
    "D) [0, 1, 2]"
   ]
  },
  {
   "cell_type": "code",
   "execution_count": 15,
   "id": "02550ea9-a4bb-4e5e-bf12-558ded879b64",
   "metadata": {},
   "outputs": [
    {
     "name": "stdout",
     "output_type": "stream",
     "text": [
      "[0, 2, 4]\n"
     ]
    }
   ],
   "source": [
    "numbers = [x * 2 for x in range(3)]\n",
    "print(numbers) # [0, 2, 4]"
   ]
  },
  {
   "cell_type": "markdown",
   "id": "39731a89-bc92-479f-ad89-b33b0fb9eacb",
   "metadata": {},
   "source": [
    "### 9. Exception Handling\n",
    "Which keyword is used to handle exceptions in Python?\n",
    "\n",
    "A) try\n",
    "B) catch\n",
    "C) throw\n",
    "D) error\n",
    "\n",
    "A) try"
   ]
  },
  {
   "cell_type": "markdown",
   "id": "ddceff7c-978d-4c70-b9a9-1697b84d96f4",
   "metadata": {},
   "source": [
    "### 10. File Handling\n",
    "Which mode should be used to open a file for writing, creating it if it doesn't exist, but erasing its contents if it does?\n",
    "\n",
    "A) \"w\"\n",
    "B) \"r\"\n",
    "C) \"a\"\n",
    "D) \"x\"\n",
    "\n",
    "A) \"W\""
   ]
  },
  {
   "cell_type": "code",
   "execution_count": null,
   "id": "893feb7a-fb28-42d5-b9e6-019014d56bda",
   "metadata": {},
   "outputs": [],
   "source": []
  }
 ],
 "metadata": {
  "kernelspec": {
   "display_name": "Python 3 (ipykernel)",
   "language": "python",
   "name": "python3"
  },
  "language_info": {
   "codemirror_mode": {
    "name": "ipython",
    "version": 3
   },
   "file_extension": ".py",
   "mimetype": "text/x-python",
   "name": "python",
   "nbconvert_exporter": "python",
   "pygments_lexer": "ipython3",
   "version": "3.11.11"
  }
 },
 "nbformat": 4,
 "nbformat_minor": 5
}
