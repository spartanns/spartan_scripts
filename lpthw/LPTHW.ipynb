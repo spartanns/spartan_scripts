{
 "cells": [
  {
   "cell_type": "markdown",
   "id": "775ebc33-823f-42a2-a5e2-d3892ad7dc9f",
   "metadata": {},
   "source": [
    "# A Good First Program\n",
    "---\n",
    "Type the following text into a single file named `ex1.py`. Python works best with files ending in `.py`."
   ]
  },
  {
   "cell_type": "code",
   "execution_count": 1,
   "id": "e2b7285c-c986-46c5-bed9-aa79b9013772",
   "metadata": {},
   "outputs": [
    {
     "name": "stdout",
     "output_type": "stream",
     "text": [
      "Hello, world\n",
      "Hello, again!\n",
      "I like typing this\n",
      "Yay! Printing\n"
     ]
    }
   ],
   "source": [
    "print(\"Hello, world\")\n",
    "print(\"Hello, again!\")\n",
    "print(\"I like typing this\")\n",
    "print('Yay! Printing')"
   ]
  },
  {
   "cell_type": "markdown",
   "id": "070aeefc-cfea-4758-a292-7572f38264d5",
   "metadata": {},
   "source": [
    "---\n",
    "Run the script by typing the following command in your terminal:\n",
    "```bash\n",
    "python ex1.py\n",
    "```"
   ]
  },
  {
   "cell_type": "markdown",
   "id": "3c7477ce-0ed3-45c5-800c-46214c2df5bf",
   "metadata": {},
   "source": [
    "## Study Drills\n",
    "For this exercise, try these things:\n",
    "1. Make your script print another line.\n",
    "2. Make your script print only one of the lines.\n",
    "3. Put a `#` character at the beginning of a line. What did it do?"
   ]
  },
  {
   "cell_type": "markdown",
   "id": "e50c22e2-8519-4205-aab1-362da0f874c8",
   "metadata": {},
   "source": [
    "# Comments and Pound Characters\n",
    "Comments are very important in your programs. They are used to tell you what something does in English, and they are used to disable parts of your program if you need to remove them temporarily. Here's how you use comments in Python:"
   ]
  },
  {
   "cell_type": "code",
   "execution_count": 3,
   "id": "696c9e02-7adf-41ea-9e1e-64b3a2c67ba6",
   "metadata": {},
   "outputs": [
    {
     "name": "stdout",
     "output_type": "stream",
     "text": [
      "I could have code like this.\n",
      "This will run.\n"
     ]
    }
   ],
   "source": [
    "# A single line comment, this is so you can read your program later.\n",
    "# Anything after the # is ignored by python.\n",
    "\n",
    "print(\"I could have code like this.\") # and this is ignored\n",
    "\n",
    "\"\"\"\n",
    "You can write\n",
    "multi-line comments\n",
    "like this.\n",
    "\"\"\"\n",
    "\n",
    "print(\"This will run.\")"
   ]
  },
  {
   "cell_type": "markdown",
   "id": "cea1bf43-7de4-4a87-98a1-88aece454d99",
   "metadata": {},
   "source": [
    "# Numbers and Math\n",
    "Every programming language has some kind of way of doing numbers and math. Do not worry: programmers frequently lie about being math geniuses when they really aren't. If they were math geniuses, they would be doing math, not writing buggy web frameworks so they can drive race cars."
   ]
  },
  {
   "cell_type": "code",
   "execution_count": 5,
   "id": "09df6f20-393a-400a-a729-5df65560834b",
   "metadata": {},
   "outputs": [
    {
     "name": "stdout",
     "output_type": "stream",
     "text": [
      "I will now count my chickens:\n",
      "Hens 30.0\n",
      "Roosters 97\n",
      "Now I will count the eggs:\n",
      "6.75\n",
      "Is it true that 3 + 2 < 5 - 7?\n",
      "False\n",
      "What is 3 + 2? 5\n",
      "What is 5 - 7? -2\n",
      "Oh, that's why it's False.\n",
      "Is it greater? True\n",
      "Is it greater or equal? True\n",
      "Is it less or equal? False\n"
     ]
    }
   ],
   "source": [
    "print(\"I will now count my chickens:\")\n",
    "\n",
    "print(\"Hens\", 25 + 30 / 6)\n",
    "print(\"Roosters\", 100 - 25 * 3 % 4)\n",
    "\n",
    "print(\"Now I will count the eggs:\")\n",
    "\n",
    "print(3 + 2 + 1 - 5 + 4 % 2 - 1 / 4 + 6)\n",
    "\n",
    "print(\"Is it true that 3 + 2 < 5 - 7?\")\n",
    "print(3 + 2 < 5 - 7)\n",
    "\n",
    "print(\"What is 3 + 2?\", 3 + 2)\n",
    "print(\"What is 5 - 7?\", 5 - 7)\n",
    "\n",
    "print(\"Oh, that's why it's False.\")\n",
    "\n",
    "print(\"Is it greater?\", 5 > -2)\n",
    "print(\"Is it greater or equal?\", 5 >= -2)\n",
    "print(\"Is it less or equal?\", 5 <= -2)"
   ]
  },
  {
   "cell_type": "markdown",
   "id": "fcc2e30a-53fd-484f-aa9e-9a4b5c9cb4ed",
   "metadata": {},
   "source": [
    "# Variables and Names\n",
    "Now you can print things with `print` and you can do math. The next step is to learn about variables. In programming, a variable is nothing more than a name for something, similar to how my name \"Milos\" is a name for, \"The human who wrote this book.\" Programmers use these variable names to make their code more like English and because they have lousy memories. If they didn't use good names for things in their software, they'd get lost when they tried to read their code again."
   ]
  },
  {
   "cell_type": "code",
   "execution_count": 2,
   "id": "3b20a92b-f664-426a-9b86-3543974e279f",
   "metadata": {},
   "outputs": [
    {
     "name": "stdout",
     "output_type": "stream",
     "text": [
      "There are 100 cars available.\n",
      "There are only 30 drivers available.\n",
      "There will be 70 empty cars today.\n",
      "We can transport 120.0 people today.\n",
      "We have 90 to carpool today.\n",
      "We need to put about 3.0 in each car.\n"
     ]
    }
   ],
   "source": [
    "cars = 100\n",
    "space_in_a_car = 4.0\n",
    "drivers = 30\n",
    "passengers = 90\n",
    "cars_not_driven = cars - drivers\n",
    "cars_driven = drivers\n",
    "carpool_capacity = cars_driven * space_in_a_car\n",
    "average_passengers_per_car = passengers / cars_driven\n",
    "\n",
    "print(\"There are\", cars, \"cars available.\")\n",
    "print(\"There are only\", drivers, \"drivers available.\")\n",
    "print(\"There will be\", cars_not_driven, \"empty cars today.\")\n",
    "print(\"We can transport\", carpool_capacity, \"people today.\")\n",
    "print(\"We have\", passengers, \"to carpool today.\")\n",
    "print(\"We need to put about\", average_passengers_per_car,\n",
    "      \"in each car.\")"
   ]
  },
  {
   "cell_type": "markdown",
   "id": "484f77b1-6077-49fc-adc8-14dc36a2bd6f",
   "metadata": {},
   "source": [
    "# More Variables and Printing\n",
    "Now we'll do even more typing of variables and printing them out. This time we'll use something called a `format string`. Every time you put \" (double quotes) around a piece of text you have been making a _string_. A string is how you make something that your program might give to a human. You print strings, save strings to files, send strings to web servers, and many other things.\n",
    "\n",
    "Strings are really handy, so in this exercise you'll learn how to make strings that have variables embedded in them. You embed variables inside a string by using a special {} sequence and then put the variable you want inside the {} characters. You also must start the string with the letter f for \"format\", as in `f\"Hello {somevar}\"`. This little `f` before the `\"` and the `{}` characters tell python 3, \"Hey, this string needs to be formatted. Put these variables in there.\""
   ]
  },
  {
   "cell_type": "code",
   "execution_count": 1,
   "id": "0aa1ced5-abb2-45be-842f-09d9546d84e3",
   "metadata": {},
   "outputs": [
    {
     "name": "stdout",
     "output_type": "stream",
     "text": [
      "Let's talk about Milos Spartan.\n",
      "He's 181 centimeters tall.\n",
      "He's 85 kilos heavy.\n",
      "Actually, that's not too heavy.\n",
      "He's got Blue eyes and Blonde hair.\n",
      "His teeth are usually White depending on the coffee.\n",
      "If I add 31, 181 and 85 I get 297.\n"
     ]
    }
   ],
   "source": [
    "my_name = \"Milos Spartan\"\n",
    "my_age = 31 # not a lie\n",
    "my_height = 181 # centimeters\n",
    "my_weight = 85 # kilograms\n",
    "my_eyes = \"Blue\"\n",
    "my_teeth = \"White\"\n",
    "my_hair = \"Blonde\"\n",
    "\n",
    "print(f\"Let's talk about {my_name}.\")\n",
    "print(f\"He's {my_height} centimeters tall.\")\n",
    "print(f\"He's {my_weight} kilos heavy.\")\n",
    "print(f\"Actually, that's not too heavy.\")\n",
    "print(f\"He's got {my_eyes} eyes and {my_hair} hair.\")\n",
    "print(f\"His teeth are usually {my_teeth} depending on the coffee.\")\n",
    "\n",
    "# this line is tricky, try to get it exactly right\n",
    "total = my_age + my_height + my_weight\n",
    "print(f\"If I add {my_age}, {my_height} and {my_weight} I get {total}.\")"
   ]
  },
  {
   "cell_type": "markdown",
   "id": "660296b4-886e-46fb-b5db-dd8a1acc340b",
   "metadata": {},
   "source": [
    "# Strings and Text\n",
    "While you have been writing strings, you still do not know what they do. In this exercise we create a bunch of variables with complex strings so you can see what they are for. First, an explanation of strings.\n",
    "\n",
    "A string is usually a bit of text you want to display to someone or `export` out of the program you are writing. Python knows you want something to be a string when you put either `\"` (double-quotes) or `'` (single-quotes) around the text. You saw this many times with your use of `print` when you put the text you want to go inside the string inside single or double quotes after the `print` to print the string.\n",
    "\n",
    "Strings can contain any number of variables that are in your python script. Remember that a variable is any line of code wher you set a name = (equal) to a value. In the code for this exercise, `types_of_people = 10` creates a variable named `types_of_people` and sets it to `10`. You can put that in any string with `{types_of_people}`. You also see that I have to use a special type of string to \"format\"; it's called an \"f-string\" and looks like this:\n",
    "`f\"some stuff here {a_variable}\"`\n",
    "`f\"some other stuff {another_variable}\"`\n",
    "\n",
    "Python also has another kind of formatting using the `.format()` syntax which you see on line 17. You'll use that sometimes when you want to apply a format to an already created string, such as in a loop."
   ]
  },
  {
   "cell_type": "code",
   "execution_count": 1,
   "id": "405da022-2513-45d8-824d-a35a64669635",
   "metadata": {},
   "outputs": [
    {
     "name": "stdout",
     "output_type": "stream",
     "text": [
      "There are 10 types of people.\n",
      "Those who know binary and those who don't.\n",
      "I said: There are 10 types of people.\n",
      "I also said: 'Those who know binary and those who don't.'\n",
      "Isn't that joke so funny?! False\n",
      "This is the left side of ...a string with a right side.\n"
     ]
    }
   ],
   "source": [
    "types_of_people = 10\n",
    "x = f\"There are {types_of_people} types of people.\"\n",
    "\n",
    "binary = \"binary\"\n",
    "do_not = \"don't\"\n",
    "y = f\"Those who know {binary} and those who {do_not}.\"\n",
    "\n",
    "print(x)\n",
    "print(y)\n",
    "\n",
    "print(f\"I said: {x}\")\n",
    "print(f\"I also said: '{y}'\")\n",
    "\n",
    "hilarious = False\n",
    "\n",
    "joke_evaluation = \"Isn't that joke so funny?! {}\"\n",
    "\n",
    "print(joke_evaluation.format(hilarious))\n",
    "\n",
    "w = \"This is the left side of ...\"\n",
    "e = \"a string with a right side.\"\n",
    "\n",
    "print(w + e)"
   ]
  },
  {
   "cell_type": "markdown",
   "id": "95671b30-09be-446f-870e-c63901beaeb3",
   "metadata": {},
   "source": [
    "# More Printing"
   ]
  },
  {
   "cell_type": "code",
   "execution_count": 3,
   "id": "c67c9365-1e1d-417c-8f8e-c1938ef18f1f",
   "metadata": {},
   "outputs": [
    {
     "name": "stdout",
     "output_type": "stream",
     "text": [
      "Mary had a little lamb.\n",
      "Its fleece was white as snow\n",
      "And everywhere that Mary went.\n",
      "..........\n",
      "Cheese Burger\n"
     ]
    }
   ],
   "source": [
    "print(\"Mary had a little lamb.\")\n",
    "print(\"Its fleece was white as {}\".format(\"snow\"))\n",
    "print(\"And everywhere that Mary went.\")\n",
    "print(\".\" * 10) # what'd that do?\n",
    "\n",
    "end1 = \"C\"\n",
    "end2 = \"h\"\n",
    "end3 = \"e\"\n",
    "end4 = \"e\"\n",
    "end5 = \"s\"\n",
    "end6 = \"e\"\n",
    "end7 = \"B\"\n",
    "end8 = \"u\"\n",
    "end9 = \"r\"\n",
    "end10 = \"g\"\n",
    "end11 = \"e\"\n",
    "end12 = \"r\"\n",
    "\n",
    "# watch end = \" \" at the end. try removing it to see what happens\n",
    "print(end1 + end2 + end3 + end4 + end5 + end6, end=\" \")\n",
    "print(end7 + end8 + end9 + end10 + end11 + end12)"
   ]
  },
  {
   "cell_type": "markdown",
   "id": "7754dc91-7ade-4432-9ea3-206129830100",
   "metadata": {},
   "source": [
    "# Printing, Printing\n",
    "We will now see how to do a more complicated formatting of a string. This code looks complex, but if you do your comments above each line and break each thing down to its parts, you'll understand it."
   ]
  },
  {
   "cell_type": "code",
   "execution_count": 4,
   "id": "1a66775c-1121-45ec-a6c8-85e9efa9e2e1",
   "metadata": {},
   "outputs": [
    {
     "name": "stdout",
     "output_type": "stream",
     "text": [
      "1 2 3 4\n",
      "one two three four\n",
      "True False False True\n",
      "{} {} {} {} {} {} {} {} {} {} {} {} {} {} {} {}\n",
      "Try your Own text here Maybe a poem Or a song about fear\n"
     ]
    }
   ],
   "source": [
    "formatter = \"{} {} {} {}\"\n",
    "\n",
    "print(formatter.format(1, 2, 3, 4))\n",
    "print(formatter.format(\"one\", \"two\", \"three\", \"four\"))\n",
    "print(formatter.format(True, False, False, True))\n",
    "print(formatter.format(formatter, formatter, formatter, formatter))\n",
    "print(formatter.format(\n",
    "    \"Try your\",\n",
    "    \"Own text here\",\n",
    "    \"Maybe a poem\",\n",
    "    \"Or a song about fear\"\n",
    "))"
   ]
  },
  {
   "cell_type": "markdown",
   "id": "3c57b666-3776-4463-9c22-6281594e9698",
   "metadata": {},
   "source": [
    "# Printing, Printing, Printing"
   ]
  },
  {
   "cell_type": "code",
   "execution_count": 6,
   "id": "ed977071-5c16-49ab-8011-dbfb4d5ca039",
   "metadata": {},
   "outputs": [
    {
     "name": "stdout",
     "output_type": "stream",
     "text": [
      "Here are the days:  Mon Tue Wed Thu Fri Sat Sun\n",
      "Here are the months:  \n",
      "Jan\n",
      "Feb\n",
      "Mar\n",
      "Apr\n",
      "May\n",
      "Jun\n",
      "Jul\n",
      "Aug\n",
      "\n",
      "There's something going on here.\n",
      "With the three double-quotes.\n",
      "We'll be able to type as much as we like.\n",
      "Even 4 lines if we want, or 5, or 6.\n",
      "\n"
     ]
    }
   ],
   "source": [
    "# Here's some strange stuff, remember to type it exactly.\n",
    "\n",
    "days = \"Mon Tue Wed Thu Fri Sat Sun\"\n",
    "months = \"\\nJan\\nFeb\\nMar\\nApr\\nMay\\nJun\\nJul\\nAug\"\n",
    "\n",
    "print(\"Here are the days: \", days)\n",
    "print(\"Here are the months: \", months)\n",
    "\n",
    "print(\"\"\"\n",
    "There's something going on here.\n",
    "With the three double-quotes.\n",
    "We'll be able to type as much as we like.\n",
    "Even 4 lines if we want, or 5, or 6.\n",
    "\"\"\")"
   ]
  },
  {
   "cell_type": "markdown",
   "id": "54162ff8-cce5-4baa-8bf8-17038d398b07",
   "metadata": {},
   "source": [
    "# What was that?\n",
    "In the last exercise we threw some new stuff, just to keep us on our toes. We learned how to make a string that goes across multiple lines. In the first way, we put the characters `\\n` between the names of the months. These two characters put a new line character into the string at that point.\n",
    "\n",
    "The `\\` character encodes difficult-to-type characters into a string. There are various \"escape sequences\" available for different characters you might want to use. We'll try a few of these sequences so you can see what we mean."
   ]
  },
  {
   "cell_type": "code",
   "execution_count": 7,
   "id": "c02f73b1-2128-4ceb-ba21-4654091dabb5",
   "metadata": {},
   "outputs": [
    {
     "name": "stdout",
     "output_type": "stream",
     "text": [
      "\tI'm tabbed in.\n",
      "I'm split\n",
      "on a line.\n",
      "I'm \\ a \\ cat.\n",
      "\n",
      "I'll do a list:\n",
      "\t* Cat food\n",
      "\t* Fishies\n",
      "\t* Catnip\n",
      "\t* Grass\n",
      "\n"
     ]
    }
   ],
   "source": [
    "tabby_cat = \"\\tI'm tabbed in.\"\n",
    "persian_cat = \"I'm split\\non a line.\"\n",
    "backslash_cat = \"I'm \\\\ a \\\\ cat.\"\n",
    "\n",
    "fat_cat = \"\"\"\n",
    "I'll do a list:\n",
    "\\t* Cat food\n",
    "\\t* Fishies\n",
    "\\t* Catnip\\n\\t* Grass\n",
    "\"\"\"\n",
    "\n",
    "print(tabby_cat)\n",
    "print(persian_cat)\n",
    "print(backslash_cat)\n",
    "print(fat_cat)"
   ]
  },
  {
   "cell_type": "markdown",
   "id": "dc6f65df-570a-4859-95b9-3c0bcec97951",
   "metadata": {},
   "source": [
    "# Escape Sequences\n",
    "This is all of the escape sequences Python supports. You may not use many of these, but memorize their format and what they do anyway. Try them out in some strings to see if you can make them work.\n",
    "\n",
    "| Escape | What it does |\n",
    "|--------|--------------|\n",
    "| \\\\\\    | Backslash (\\)|\n",
    "| \\\\'    | Single quote(')|\n",
    "| \\\\\"    | Double quote(\"\")|\n",
    "| \\\\a    | ASCII bell (BEL)|\n",
    "| \\\\b    | ASCII backspace (BS)|\n",
    "| \\\\f    | ASCII formfeed (FF)|\n",
    "| \\\\n    | ASCII linefeed (LF)|\n",
    "| \\\\N{name} | Character named name in the Unicode database (Unicode only)\n",
    "| \\\\r | Carriage Return (CR)|\n",
    "| \\\\t | Horizontal Tab (TAB)|\n",
    "| \\\\uxxxx | Character with 16-bit hex value xxxx|\n",
    "| \\\\Uxxxxxxxx | Character with 32-bit hex value xxxxxxxx|\n",
    "| \\\\v | ASCII vertical tab (VT)\n",
    "| \\\\000 | Character with octal value 000\n",
    "| \\\\xhh | Character with hex value hh"
   ]
  },
  {
   "cell_type": "markdown",
   "id": "b739ec40-aa96-4fdc-b3e3-4d7840ac7a61",
   "metadata": {},
   "source": [
    "# Asking Questions\n",
    "Now it's time to pick up the pace. You are doing a lot of printing to get you familiar with typing simple things, but those simple things are fairly boring. What we want to do now is get data into your programs. This is a little tricky, because you have to learn to do two things that may not make sense right away, but trust me and do it anyway. It will make sense in a few exercises.\n",
    "\n",
    "Most of what software does is following:\n",
    "1. Take some kind of input from a person\n",
    "2. Change it\n",
    "3. Print out something to show how it changed\n",
    "\n",
    "So far you've been printing strings, but you haven't been able to get any input from a person. You may not even know what \"input\" means, but type this code in anyway, and make it exactly the same. In the next exercise we'll do more to explain input."
   ]
  },
  {
   "cell_type": "code",
   "execution_count": 8,
   "id": "4d933432-42da-4192-8c73-eb644e36b133",
   "metadata": {},
   "outputs": [
    {
     "name": "stdout",
     "output_type": "stream",
     "text": [
      "How old are you? "
     ]
    },
    {
     "name": "stdin",
     "output_type": "stream",
     "text": [
      " 31\n"
     ]
    },
    {
     "name": "stdout",
     "output_type": "stream",
     "text": [
      "How tall are you? "
     ]
    },
    {
     "name": "stdin",
     "output_type": "stream",
     "text": [
      " 181\n"
     ]
    },
    {
     "name": "stdout",
     "output_type": "stream",
     "text": [
      "How much do you weight? "
     ]
    },
    {
     "name": "stdin",
     "output_type": "stream",
     "text": [
      " 85\n"
     ]
    },
    {
     "name": "stdout",
     "output_type": "stream",
     "text": [
      "So, you're 31 years old, 181cm tall and 85kg heavy.\n"
     ]
    }
   ],
   "source": [
    "print(\"How old are you?\", end=\" \")\n",
    "age = input()\n",
    "print(\"How tall are you?\", end=\" \")\n",
    "height = input()\n",
    "print(\"How much do you weight?\", end=\" \")\n",
    "weight = input()\n",
    "\n",
    "print(f\"So, you're {age} years old, {height}cm tall and {weight}kg heavy.\")"
   ]
  },
  {
   "cell_type": "markdown",
   "id": "1d815a8a-190a-40ed-aac6-aa967e5e91f8",
   "metadata": {},
   "source": [
    "# Prompting People\n",
    "When you typed `input()` you were typing the ( and ) characters, which are parenthesis characters. For input, you can also put in a prompt to show to a person so he knows what to type. Put a string that you want for the prompt inside the `()` so that it looks like this:\n",
    "\n",
    "`y = input(\"Name: \")`\n",
    "\n",
    "This prompts the user with `Name: ` and puts the result into the variable `y`. This is how you ask someone a question and get the answer.\n",
    "\n",
    "This means we can completely rewrite our previous exercise using just input to do all the prompting."
   ]
  },
  {
   "cell_type": "code",
   "execution_count": 10,
   "id": "b571d602-9880-40f1-ad73-36a772758c85",
   "metadata": {},
   "outputs": [
    {
     "name": "stdin",
     "output_type": "stream",
     "text": [
      "How old are you?  31\n",
      "How tall are you?  181\n",
      "How much do you weigh?  85\n"
     ]
    },
    {
     "name": "stdout",
     "output_type": "stream",
     "text": [
      "So, you're 31 years old, 181cm tall and 85kg heavy.\n"
     ]
    }
   ],
   "source": [
    "age = input(\"How old are you? \")\n",
    "height = input(\"How tall are you? \")\n",
    "weight = input(\"How much do you weigh? \")\n",
    "\n",
    "print(f\"So, you're {age} years old, {height}cm tall and {weight}kg heavy.\")"
   ]
  },
  {
   "cell_type": "markdown",
   "id": "faee7dba-4870-4b63-9f3b-0b7da37bdddb",
   "metadata": {},
   "source": [
    "# Parameters, Unpacking, Variables\n",
    "In this exercise we will cover one more input method you can use to pass variables to a script. You know how you type `python script.py` to run the `script.py` file? Well, the `script.py` part of the command is called an \"argument\". What we'll do now is write a script that also accepts arguments."
   ]
  },
  {
   "cell_type": "code",
   "execution_count": 2,
   "id": "18e1e6bc-1074-49fe-a0ce-3555471fc4af",
   "metadata": {},
   "outputs": [
    {
     "name": "stdout",
     "output_type": "stream",
     "text": [
      "The script is called: /home/kain/.local/python3.11/lib/python3.11/site-packages/ipykernel_launcher.py\n",
      "Your first variable is: -f\n",
      "Your second variable is: /home/kain/.local/share/jupyter/runtime/kernel-6f66f3eb-50fa-4d61-a281-f8b0d5cb055b.json\n"
     ]
    }
   ],
   "source": [
    "from sys import argv\n",
    "\n",
    "script, first, second = argv\n",
    "\n",
    "print(\"The script is called:\", script)\n",
    "print(\"Your first variable is:\", first)\n",
    "print(\"Your second variable is:\", second)"
   ]
  },
  {
   "cell_type": "markdown",
   "id": "720e4d9e-d342-4145-88e8-8de534679323",
   "metadata": {},
   "source": [
    "On line 1 we have what's called an `import`. This is how you add features to your script from the Python feature set. Rather than give you all the features at once, Python asks you to say what you plan to use. This keeps your programs small, but it also acts as documentation for other programmers who read your code later.\n",
    "\n",
    "The `argv` is the _argument variable_, a very standard name in programming that you will find used in many other languages. This variable holds the arguments you pass to your Python script when you run it. In the exercises you will get to play with this more and see what happens.\n",
    "\n",
    "Line 3 _unpacks_ argv so that, rather than holding all the arguments, it gets assigned to 3 variables you can work with: `script`, `first` and `second`. This may look strange, but _unpack_ is probably the best word to describe what it does. It just says \"take whatever is in argv, unpack it, and assign it to all of these variables on the left in order\"."
   ]
  },
  {
   "cell_type": "markdown",
   "id": "9d1605c5-177e-4919-bfcc-3238edd0617c",
   "metadata": {},
   "source": [
    "# Hold Up! Features have another name!\n",
    "We call them _features_ here, but nobody else calls them features. We just used that name because we needed to trick us into learning what they are without jargon. Before we continue, we need to learn their real name: `modules`.\n",
    "\n",
    "From now on, we will be calling these _features_ that we import __modules__. We'll say things like \"you want to import the `sys` __module__\". They are also called __libraries__ by other programmers, but let's just stick with __modules__."
   ]
  },
  {
   "cell_type": "markdown",
   "id": "a7d7dea2-a26a-46ec-8fea-5d37a8648b48",
   "metadata": {},
   "source": [
    "# Prompting and Passing\n",
    "Let's do one exercise that uses `argv` and `input` together to ask the user something specific. You will need this for the next exercise where you learn to read and write files. In this exercise we'll use input slightly differently by having it print a simple `>` prompt."
   ]
  },
  {
   "cell_type": "code",
   "execution_count": 1,
   "id": "5b67849c-f709-4315-946b-5cec3b99c081",
   "metadata": {},
   "outputs": [
    {
     "ename": "ValueError",
     "evalue": "too many values to unpack (expected 2)",
     "output_type": "error",
     "traceback": [
      "\u001b[0;31m---------------------------------------------------------------------------\u001b[0m",
      "\u001b[0;31mValueError\u001b[0m                                Traceback (most recent call last)",
      "Cell \u001b[0;32mIn[1], line 3\u001b[0m\n\u001b[1;32m      1\u001b[0m \u001b[38;5;28;01mfrom\u001b[39;00m\u001b[38;5;250m \u001b[39m\u001b[38;5;21;01msys\u001b[39;00m\u001b[38;5;250m \u001b[39m\u001b[38;5;28;01mimport\u001b[39;00m argv\n\u001b[0;32m----> 3\u001b[0m script, user_name \u001b[38;5;241m=\u001b[39m argv\n\u001b[1;32m      4\u001b[0m prompt \u001b[38;5;241m=\u001b[39m \u001b[38;5;124m\"\u001b[39m\u001b[38;5;124m> \u001b[39m\u001b[38;5;124m\"\u001b[39m\n\u001b[1;32m      6\u001b[0m \u001b[38;5;28mprint\u001b[39m(\u001b[38;5;124mf\u001b[39m\u001b[38;5;124m\"\u001b[39m\u001b[38;5;124mHi \u001b[39m\u001b[38;5;132;01m{\u001b[39;00muser_name\u001b[38;5;132;01m}\u001b[39;00m\u001b[38;5;124m, I\u001b[39m\u001b[38;5;124m'\u001b[39m\u001b[38;5;124mm the \u001b[39m\u001b[38;5;132;01m{\u001b[39;00mscript\u001b[38;5;132;01m}\u001b[39;00m\u001b[38;5;124m script.\u001b[39m\u001b[38;5;124m\"\u001b[39m)\n",
      "\u001b[0;31mValueError\u001b[0m: too many values to unpack (expected 2)"
     ]
    }
   ],
   "source": [
    "from sys import argv\n",
    "\n",
    "script, user_name = argv\n",
    "prompt = \"> \"\n",
    "\n",
    "print(f\"Hi {user_name}, I'm the {script} script.\")\n",
    "print(\"I'd like to ask you a few questions.\")\n",
    "print(f\"Do you like me {user_name}?\")\n",
    "likes = input(prompt)\n",
    "\n",
    "print(f\"Where do you live, {user_name}?\")\n",
    "lives = input(prompt)\n",
    "\n",
    "print(\"What kind of computer do you have?\")\n",
    "computer = input(prompt)\n",
    "\n",
    "print(f\"\"\"\n",
    "Alright, so you said {likes} about liking me.\n",
    "You live in {lives}. Not sure where that is.\n",
    "And you have a {computer} computer. Nice.\n",
    "\"\"\")"
   ]
  },
  {
   "cell_type": "markdown",
   "id": "47e93794-958c-4553-ae73-e466e6bedbb7",
   "metadata": {},
   "source": [
    "We make a variable prompt that is set to the prompt we want, and we give that to input instead of typing it over and over. Now if we want to make the prompt something else, we just change it in this one spot and rerun the script. Very handy."
   ]
  },
  {
   "cell_type": "markdown",
   "id": "88de6ab6-9d6e-42d5-9223-0a9dca8ac2d3",
   "metadata": {},
   "source": [
    "# Reading Files\n",
    "You know how to get input from a user with `input` or `argv`. Now you will learn about reading from a file. You may have to play with this exercise the most to understand what's going on, so do the exercise carefully and remember your checks. Working with files is an easy way to erase your work if you are not careful.\n",
    "\n",
    "This exercise involves writing two files. One is the usual `script.py` file that you will run, but the other is named `sample.txt`. The second file isn't a script but a plain text file we'll be reading in our script. Here are some contents of that file:\n",
    "```\n",
    "This is stuff I typed into a file.\n",
    "It is really cool stuff.\n",
    "Lots and lots of fun to have in here.\n",
    "```\n",
    "\n",
    "What we want to do is \"open\" that file in our script and print it out. However, we do not want to just \"hard code\" the name sample.txt into our script. \"Hard coding\" means putting some bit of information that should come from the user as a string directly in our source code. That's bad because we want it to load other files later. The solution is to use argv or input to ask the user what file to open instead of hard coding the file's name."
   ]
  },
  {
   "cell_type": "code",
   "execution_count": 2,
   "id": "03aade42-127e-4f16-afc6-95a5e972833c",
   "metadata": {},
   "outputs": [
    {
     "ename": "ValueError",
     "evalue": "too many values to unpack (expected 2)",
     "output_type": "error",
     "traceback": [
      "\u001b[0;31m---------------------------------------------------------------------------\u001b[0m",
      "\u001b[0;31mValueError\u001b[0m                                Traceback (most recent call last)",
      "Cell \u001b[0;32mIn[2], line 3\u001b[0m\n\u001b[1;32m      1\u001b[0m \u001b[38;5;28;01mfrom\u001b[39;00m\u001b[38;5;250m \u001b[39m\u001b[38;5;21;01msys\u001b[39;00m\u001b[38;5;250m \u001b[39m\u001b[38;5;28;01mimport\u001b[39;00m argv\n\u001b[0;32m----> 3\u001b[0m script, filename \u001b[38;5;241m=\u001b[39m argv\n\u001b[1;32m      5\u001b[0m txt \u001b[38;5;241m=\u001b[39m \u001b[38;5;28mopen\u001b[39m(filename)\n\u001b[1;32m      7\u001b[0m \u001b[38;5;28mprint\u001b[39m(\u001b[38;5;124mf\u001b[39m\u001b[38;5;124m\"\u001b[39m\u001b[38;5;124mHere\u001b[39m\u001b[38;5;124m'\u001b[39m\u001b[38;5;124ms your file \u001b[39m\u001b[38;5;132;01m{\u001b[39;00mfilename\u001b[38;5;132;01m}\u001b[39;00m\u001b[38;5;124m:\u001b[39m\u001b[38;5;124m\"\u001b[39m)\n",
      "\u001b[0;31mValueError\u001b[0m: too many values to unpack (expected 2)"
     ]
    }
   ],
   "source": [
    "from sys import argv\n",
    "\n",
    "script, filename = argv\n",
    "\n",
    "txt = open(filename)\n",
    "\n",
    "print(f\"Here's your file {filename}:\")\n",
    "print(txt.read())\n",
    "\n",
    "print(\"Type the filename again:\")\n",
    "file_again = input(\"> \")\n",
    "\n",
    "txt_again = open(file_again)\n",
    "\n",
    "print(txt_again.read())"
   ]
  },
  {
   "cell_type": "markdown",
   "id": "4ae4420a-b554-4b37-9543-6649a0d441dc",
   "metadata": {},
   "source": [
    "# Reading and Writing Files"
   ]
  },
  {
   "cell_type": "code",
   "execution_count": 1,
   "id": "db5794d9-4aa0-475c-a0f7-0c25737fbb38",
   "metadata": {},
   "outputs": [
    {
     "ename": "ValueError",
     "evalue": "too many values to unpack (expected 2)",
     "output_type": "error",
     "traceback": [
      "\u001b[0;31m---------------------------------------------------------------------------\u001b[0m",
      "\u001b[0;31mValueError\u001b[0m                                Traceback (most recent call last)",
      "Cell \u001b[0;32mIn[1], line 3\u001b[0m\n\u001b[1;32m      1\u001b[0m \u001b[38;5;28;01mfrom\u001b[39;00m\u001b[38;5;250m \u001b[39m\u001b[38;5;21;01msys\u001b[39;00m\u001b[38;5;250m \u001b[39m\u001b[38;5;28;01mimport\u001b[39;00m argv\n\u001b[0;32m----> 3\u001b[0m script, filename \u001b[38;5;241m=\u001b[39m argv\n\u001b[1;32m      5\u001b[0m \u001b[38;5;28mprint\u001b[39m(\u001b[38;5;124mf\u001b[39m\u001b[38;5;124m\"\u001b[39m\u001b[38;5;124mWe\u001b[39m\u001b[38;5;124m'\u001b[39m\u001b[38;5;124mre going to erase \u001b[39m\u001b[38;5;132;01m{\u001b[39;00mfilename\u001b[38;5;132;01m}\u001b[39;00m\u001b[38;5;124m\"\u001b[39m)\n\u001b[1;32m      6\u001b[0m \u001b[38;5;28mprint\u001b[39m(\u001b[38;5;124mf\u001b[39m\u001b[38;5;124m\"\u001b[39m\u001b[38;5;124mIf you don\u001b[39m\u001b[38;5;124m'\u001b[39m\u001b[38;5;124mt want that, hit CTRL-C\u001b[39m\u001b[38;5;124m\"\u001b[39m)\n",
      "\u001b[0;31mValueError\u001b[0m: too many values to unpack (expected 2)"
     ]
    }
   ],
   "source": [
    "from sys import argv\n",
    "\n",
    "script, filename = argv\n",
    "\n",
    "print(f\"We're going to erase {filename}\")\n",
    "print(f\"If you don't want that, hit CTRL-C\")\n",
    "print(\"If you do want that, hit RETURN\")\n",
    "\n",
    "input(\"> \")\n",
    "\n",
    "print(\"Opening the file...\")\n",
    "target = open(filename, \"w\")\n",
    "\n",
    "print(\"Truncating the file. Goodbye!\")\n",
    "target.truncate()\n",
    "\n",
    "line1 = input(\"line 1: \")\n",
    "line2 = input(\"line 2: \")\n",
    "line3 = input(\"line 3: \")\n",
    "\n",
    "print(\"I'm going to write these to the file.\")\n",
    "\n",
    "target.write(line1)\n",
    "target.write(\"\\n\")\n",
    "target.write(line2)\n",
    "target.write(\"\\n\")\n",
    "target.write(line3)\n",
    "target.write(\"\\n\")\n",
    "\n",
    "print(\"And finally, we close it.\")\n",
    "target.close()\n"
   ]
  },
  {
   "cell_type": "markdown",
   "id": "fc01c3f6-2664-4560-814a-5f66173d80a2",
   "metadata": {},
   "source": [
    "# More Files\n",
    "Now let's do a few more things with files. We'll write a Python script to copy one file to another. It'll be very short but will give you ideas about other things you can do with files."
   ]
  },
  {
   "cell_type": "code",
   "execution_count": 2,
   "id": "c1943912-f4cb-44d7-bc04-13c9623d82ad",
   "metadata": {},
   "outputs": [
    {
     "name": "stdout",
     "output_type": "stream",
     "text": [
      "Copying from -f to /home/kain/.local/share/jupyter/runtime/kernel-6c08edbf-7f8e-4766-baf5-d71ba4b8efda.json\n"
     ]
    },
    {
     "ename": "FileNotFoundError",
     "evalue": "[Errno 2] No such file or directory: '-f'",
     "output_type": "error",
     "traceback": [
      "\u001b[0;31m---------------------------------------------------------------------------\u001b[0m",
      "\u001b[0;31mFileNotFoundError\u001b[0m                         Traceback (most recent call last)",
      "Cell \u001b[0;32mIn[2], line 9\u001b[0m\n\u001b[1;32m      6\u001b[0m \u001b[38;5;28mprint\u001b[39m(\u001b[38;5;124mf\u001b[39m\u001b[38;5;124m\"\u001b[39m\u001b[38;5;124mCopying from \u001b[39m\u001b[38;5;132;01m{\u001b[39;00mfrom_file\u001b[38;5;132;01m}\u001b[39;00m\u001b[38;5;124m to \u001b[39m\u001b[38;5;132;01m{\u001b[39;00mto_file\u001b[38;5;132;01m}\u001b[39;00m\u001b[38;5;124m\"\u001b[39m)\n\u001b[1;32m      8\u001b[0m \u001b[38;5;66;03m# we could do these on one line, how?\u001b[39;00m\n\u001b[0;32m----> 9\u001b[0m in_file \u001b[38;5;241m=\u001b[39m \u001b[38;5;28;43mopen\u001b[39;49m\u001b[43m(\u001b[49m\u001b[43mfrom_file\u001b[49m\u001b[43m)\u001b[49m\n\u001b[1;32m     10\u001b[0m indata \u001b[38;5;241m=\u001b[39m in_file\u001b[38;5;241m.\u001b[39mread()\n\u001b[1;32m     12\u001b[0m \u001b[38;5;28mprint\u001b[39m(\u001b[38;5;124mf\u001b[39m\u001b[38;5;124m\"\u001b[39m\u001b[38;5;124mThe input file is \u001b[39m\u001b[38;5;132;01m{\u001b[39;00m\u001b[38;5;28mlen\u001b[39m(indata)\u001b[38;5;132;01m}\u001b[39;00m\u001b[38;5;124m bytes long.\u001b[39m\u001b[38;5;124m\"\u001b[39m)\n",
      "File \u001b[0;32m~/.local/python3.11/lib/python3.11/site-packages/IPython/core/interactiveshell.py:324\u001b[0m, in \u001b[0;36m_modified_open\u001b[0;34m(file, *args, **kwargs)\u001b[0m\n\u001b[1;32m    317\u001b[0m \u001b[38;5;28;01mif\u001b[39;00m file \u001b[38;5;129;01min\u001b[39;00m {\u001b[38;5;241m0\u001b[39m, \u001b[38;5;241m1\u001b[39m, \u001b[38;5;241m2\u001b[39m}:\n\u001b[1;32m    318\u001b[0m     \u001b[38;5;28;01mraise\u001b[39;00m \u001b[38;5;167;01mValueError\u001b[39;00m(\n\u001b[1;32m    319\u001b[0m         \u001b[38;5;124mf\u001b[39m\u001b[38;5;124m\"\u001b[39m\u001b[38;5;124mIPython won\u001b[39m\u001b[38;5;124m'\u001b[39m\u001b[38;5;124mt let you open fd=\u001b[39m\u001b[38;5;132;01m{\u001b[39;00mfile\u001b[38;5;132;01m}\u001b[39;00m\u001b[38;5;124m by default \u001b[39m\u001b[38;5;124m\"\u001b[39m\n\u001b[1;32m    320\u001b[0m         \u001b[38;5;124m\"\u001b[39m\u001b[38;5;124mas it is likely to crash IPython. If you know what you are doing, \u001b[39m\u001b[38;5;124m\"\u001b[39m\n\u001b[1;32m    321\u001b[0m         \u001b[38;5;124m\"\u001b[39m\u001b[38;5;124myou can use builtins\u001b[39m\u001b[38;5;124m'\u001b[39m\u001b[38;5;124m open.\u001b[39m\u001b[38;5;124m\"\u001b[39m\n\u001b[1;32m    322\u001b[0m     )\n\u001b[0;32m--> 324\u001b[0m \u001b[38;5;28;01mreturn\u001b[39;00m \u001b[43mio_open\u001b[49m\u001b[43m(\u001b[49m\u001b[43mfile\u001b[49m\u001b[43m,\u001b[49m\u001b[43m \u001b[49m\u001b[38;5;241;43m*\u001b[39;49m\u001b[43margs\u001b[49m\u001b[43m,\u001b[49m\u001b[43m \u001b[49m\u001b[38;5;241;43m*\u001b[39;49m\u001b[38;5;241;43m*\u001b[39;49m\u001b[43mkwargs\u001b[49m\u001b[43m)\u001b[49m\n",
      "\u001b[0;31mFileNotFoundError\u001b[0m: [Errno 2] No such file or directory: '-f'"
     ]
    }
   ],
   "source": [
    "from sys import argv\n",
    "from os.path import exists\n",
    "\n",
    "script, from_file, to_file = argv\n",
    "\n",
    "print(f\"Copying from {from_file} to {to_file}\")\n",
    "\n",
    "# we could do these on one line, how?\n",
    "in_file = open(from_file)\n",
    "indata = in_file.read()\n",
    "\n",
    "print(f\"The input file is {len(indata)} bytes long.\")\n",
    "\n",
    "print(f\"Does the output file exist? {exists(to_file)}\")\n",
    "print(\"Ready, hit RETURN to continue, CTRL-C to abort.\")\n",
    "input()\n",
    "\n",
    "out_file = open(to_file, \"w\")\n",
    "out_file.write(indata)\n",
    "\n",
    "print(\"Alright, all done.\")\n",
    "\n",
    "out_file.close()\n",
    "in_file.close()"
   ]
  },
  {
   "cell_type": "markdown",
   "id": "562d5f51-f28a-4f91-a031-b7670dd64f73",
   "metadata": {},
   "source": [
    "# Names, Variables, Code, Functions\n",
    "Functions do three things:\n",
    "1. They name pieces of code the way variables name strings and numbers\n",
    "2. They take arguments the way your scripts take argv\n",
    "3. Using 1 and 2, they let you make your own \"mini-scripts\" or \"tiny commands\".\n",
    "\n",
    "You can create a function by using the word `def` in Python. I'm going to have you make four different functions that work like your scripts, and I'll then show you how each one is related."
   ]
  },
  {
   "cell_type": "code",
   "execution_count": 2,
   "id": "991fcfb4-e1ed-4839-9b70-0728e0fa8d12",
   "metadata": {},
   "outputs": [
    {
     "name": "stdout",
     "output_type": "stream",
     "text": [
      "arg1: Milos, arg2: Spartan\n",
      "arg1: Spartan, arg2: Codes\n",
      "arg1: Python\n",
      "I got nothin'.\n"
     ]
    }
   ],
   "source": [
    "# this one is like your scripts with argv\n",
    "def print_two(*args):\n",
    "    arg1, arg2 = args\n",
    "    print(f\"arg1: {arg1}, arg2: {arg2}\")\n",
    "\n",
    "# ok, that *args is actually pointless, we can just do this\n",
    "def print_two_again(arg1, arg2):\n",
    "    print(f\"arg1: {arg1}, arg2: {arg2}\")\n",
    "\n",
    "# this just takes one argument\n",
    "def print_one(arg1):\n",
    "    print(f\"arg1: {arg1}\")\n",
    "\n",
    "# this one takes no arguments\n",
    "def print_none():\n",
    "    print(\"I got nothin'.\")\n",
    "\n",
    "print_two(\"Milos\", \"Spartan\")\n",
    "print_two_again(\"Spartan\", \"Codes\")\n",
    "print_one(\"Python\")\n",
    "print_none()"
   ]
  },
  {
   "cell_type": "markdown",
   "id": "3d28bbce-f370-42bb-b7a9-f7dcebcb6f34",
   "metadata": {},
   "source": [
    "# Functions and Variables\n",
    "Functions may have been a mind-blowing amount of information, but do not worry. Just keep doing these exercises and going through your checklist from the last exercise and you will eventually get it.\n",
    "\n",
    "There is one tiny point that you might not have realized, which we'll reinforce right now. The variables in your function are not connected to the variables in your script. Here's an exercise to get you thinking about this:"
   ]
  },
  {
   "cell_type": "code",
   "execution_count": 3,
   "id": "17b7256e-1d03-4c1a-92da-ad13b1ccbc06",
   "metadata": {},
   "outputs": [
    {
     "name": "stdout",
     "output_type": "stream",
     "text": [
      "We can just give the function numbers directly:\n",
      "You have 20 cheeses!\n",
      "You have 30 boxes of crackers!\n",
      "Man, that's enough for a party!\n",
      "Get a blanket.\n",
      "\n",
      "Or, we can use variables from our script:\n",
      "You have 10 cheeses!\n",
      "You have 50 boxes of crackers!\n",
      "Man, that's enough for a party!\n",
      "Get a blanket.\n",
      "\n",
      "We can even do math inside too:\n",
      "You have 30 cheeses!\n",
      "You have 11 boxes of crackers!\n",
      "Man, that's enough for a party!\n",
      "Get a blanket.\n",
      "\n",
      "And we can combine the two, variables and math:\n",
      "You have 110 cheeses!\n",
      "You have 1050 boxes of crackers!\n",
      "Man, that's enough for a party!\n",
      "Get a blanket.\n",
      "\n"
     ]
    }
   ],
   "source": [
    "def cheese_and_crackers(cheese_count, boxes_of_crackers):\n",
    "    print(f\"You have {cheese_count} cheeses!\")\n",
    "    print(f\"You have {boxes_of_crackers} boxes of crackers!\")\n",
    "    print(\"Man, that's enough for a party!\")\n",
    "    print(\"Get a blanket.\\n\")\n",
    "\n",
    "print(\"We can just give the function numbers directly:\")\n",
    "cheese_and_crackers(20, 30)\n",
    "\n",
    "print(\"Or, we can use variables from our script:\")\n",
    "amount_of_cheese = 10\n",
    "amount_of_crackers = 50\n",
    "\n",
    "cheese_and_crackers(amount_of_cheese, amount_of_crackers)\n",
    "\n",
    "print(\"We can even do math inside too:\")\n",
    "cheese_and_crackers(10 + 20, 5 + 6)\n",
    "\n",
    "print(\"And we can combine the two, variables and math:\")\n",
    "cheese_and_crackers(amount_of_cheese + 100, amount_of_crackers + 1000)"
   ]
  },
  {
   "cell_type": "markdown",
   "id": "7ffe3fe4-b22f-4dee-a8e7-01a6f0f4b841",
   "metadata": {},
   "source": [
    "This shows all the different ways we're able to give our function `cheese_and_crackers` the values it needs to print them. We can give it straight numbers. We can give it variables. We can give it math. We can even combine math and variables.\n",
    "\n",
    "In a way, the arguments to a function are kind of like our `=` character when we make a variable. In fact, if you can use `=` to name something, you can usually pass it to a function as an argument."
   ]
  },
  {
   "cell_type": "markdown",
   "id": "63fe338f-c884-49f2-863f-c5b19033b3b1",
   "metadata": {},
   "source": [
    "# Functions and Files\n",
    "Remember your checklist for functions, then do this exercise paying close attention to how functions and files can work together to make useful stuff."
   ]
  },
  {
   "cell_type": "code",
   "execution_count": 4,
   "id": "15c0e838-417d-46e6-ac0d-845478cf2fbf",
   "metadata": {},
   "outputs": [
    {
     "ename": "ValueError",
     "evalue": "too many values to unpack (expected 2)",
     "output_type": "error",
     "traceback": [
      "\u001b[0;31m---------------------------------------------------------------------------\u001b[0m",
      "\u001b[0;31mValueError\u001b[0m                                Traceback (most recent call last)",
      "Cell \u001b[0;32mIn[4], line 3\u001b[0m\n\u001b[1;32m      1\u001b[0m \u001b[38;5;28;01mfrom\u001b[39;00m\u001b[38;5;250m \u001b[39m\u001b[38;5;21;01msys\u001b[39;00m\u001b[38;5;250m \u001b[39m\u001b[38;5;28;01mimport\u001b[39;00m argv\n\u001b[0;32m----> 3\u001b[0m script, filename \u001b[38;5;241m=\u001b[39m argv\n\u001b[1;32m      5\u001b[0m \u001b[38;5;28;01mdef\u001b[39;00m\u001b[38;5;250m \u001b[39m\u001b[38;5;21mprint_all\u001b[39m(f):\n\u001b[1;32m      6\u001b[0m     \u001b[38;5;28mprint\u001b[39m(f\u001b[38;5;241m.\u001b[39mread())\n",
      "\u001b[0;31mValueError\u001b[0m: too many values to unpack (expected 2)"
     ]
    }
   ],
   "source": [
    "from sys import argv\n",
    "\n",
    "script, filename = argv\n",
    "\n",
    "def print_all(f):\n",
    "    print(f.read())\n",
    "\n",
    "def rewind(f):\n",
    "    f.seek(0)\n",
    "\n",
    "def print_a_line(line_count, f):\n",
    "    print(line_count, f.readline())\n",
    "\n",
    "current_file = open(filename)\n",
    "\n",
    "print(\"First, let's print the whole file:\\n\")\n",
    "\n",
    "print_all(current_file)\n",
    "\n",
    "print(\"Now, let's rewind, kind of like a tape.\")\n",
    "\n",
    "rewind(current_file)\n",
    "\n",
    "print(\"Let's print three lines:\")\n",
    "\n",
    "current_line = 1\n",
    "print_a_line(current_line, current_file)\n",
    "\n",
    "current_line = current_line + 1\n",
    "print_a_line(current_line, current_file)\n",
    "\n",
    "current_line = current_line + 1\n",
    "print_a_line(current_line, current_file)"
   ]
  },
  {
   "cell_type": "markdown",
   "id": "2b6f60f1-dde4-4a3e-900a-93438ea1176a",
   "metadata": {},
   "source": [
    "# Functions Can Return Something\n",
    "You have been using the = character to name variables and set them to numbers or strings. We're now going to blow your mind again by showing you how to use = and a new Python word `return` to set variables to be a value from a function. There will be one thing to pay close attention to, but first type this in:"
   ]
  },
  {
   "cell_type": "code",
   "execution_count": 5,
   "id": "749d91a4-fd39-47ba-b9ff-b78a57e7932e",
   "metadata": {},
   "outputs": [
    {
     "name": "stdout",
     "output_type": "stream",
     "text": [
      "Let's do some math with just functions!\n",
      "ADDING 30 + 5\n",
      "SUBTRACTING 78 - 4\n",
      "MULTIPLYING 90 * 2\n",
      "DIVIDING 100 / 2\n",
      "Age: 35, Height: 74, Weight: 180, IQ: 50.0\n",
      "Here is a puzzle:\n",
      "DIVIDING 50.0 / 2\n",
      "MULTIPLYING 180 * 25.0\n",
      "SUBTRACTING 74 - 4500.0\n",
      "ADDING 35 + -4426.0\n",
      "That becomes -4391.0. Can you do it by hand?\n"
     ]
    }
   ],
   "source": [
    "def add(a, b):\n",
    "    print(f\"ADDING {a} + {b}\")\n",
    "    return a + b\n",
    "\n",
    "def subtract(a, b):\n",
    "    print(f\"SUBTRACTING {a} - {b}\")\n",
    "    return a - b\n",
    "\n",
    "def multiply(a, b):\n",
    "    print(f\"MULTIPLYING {a} * {b}\")\n",
    "    return a * b\n",
    "\n",
    "def divide(a, b):\n",
    "    print(f\"DIVIDING {a} / {b}\")\n",
    "    return a / b\n",
    "\n",
    "print(\"Let's do some math with just functions!\")\n",
    "\n",
    "age = add(30, 5)\n",
    "height = subtract(78, 4)\n",
    "weight = multiply(90, 2)\n",
    "iq = divide(100, 2)\n",
    "\n",
    "print(f\"Age: {age}, Height: {height}, Weight: {weight}, IQ: {iq}\")\n",
    "\n",
    "# A puzzle for the extra credit, type it in anyway\n",
    "print(\"Here is a puzzle:\")\n",
    "\n",
    "what = add(age, subtract(height, multiply(weight, divide(iq, 2))))\n",
    "print(f\"That becomes {what}. Can you do it by hand?\")"
   ]
  },
  {
   "cell_type": "markdown",
   "id": "99e38cd7-b279-40e0-8f87-0edb311251be",
   "metadata": {},
   "source": [
    "# Strings, Bytes, and Character Encodings\n",
    "To do this exercise you'll need to download a text file [languages.txt](https://\n",
    "learnpythonthehardway.org/python3/languages.txt).The file was created with a list of human languages to demonstrate a few interesting concepts:\n",
    "1. How modern computers store human languages for display and processing and how Python 3 calls this `strings`.\n",
    "2. How you must __encode__ and __decode__ Python's strings into a type called __bytes__.\n",
    "3. How to handle errors in yoru string and byte handling.\n",
    "4. How to read code and find out what it means even if you've never seen it before."
   ]
  },
  {
   "cell_type": "code",
   "execution_count": 2,
   "id": "54045ffb-72d6-4d58-beae-99bf7e1e3da9",
   "metadata": {},
   "outputs": [
    {
     "ename": "LookupError",
     "evalue": "unknown encoding: -f",
     "output_type": "error",
     "traceback": [
      "\u001b[0;31m---------------------------------------------------------------------------\u001b[0m",
      "\u001b[0;31mLookupError\u001b[0m                               Traceback (most recent call last)",
      "Cell \u001b[0;32mIn[2], line 20\u001b[0m\n\u001b[1;32m     16\u001b[0m     \u001b[38;5;28mprint\u001b[39m(raw_bytes, \u001b[38;5;124m\"\u001b[39m\u001b[38;5;124m<===>\u001b[39m\u001b[38;5;124m\"\u001b[39m, cooked_string)\n\u001b[1;32m     18\u001b[0m languages \u001b[38;5;241m=\u001b[39m \u001b[38;5;28mopen\u001b[39m(\u001b[38;5;124m\"\u001b[39m\u001b[38;5;124mlanguages.txt\u001b[39m\u001b[38;5;124m\"\u001b[39m, encoding\u001b[38;5;241m=\u001b[39m\u001b[38;5;124m\"\u001b[39m\u001b[38;5;124mutf-8\u001b[39m\u001b[38;5;124m\"\u001b[39m)\n\u001b[0;32m---> 20\u001b[0m \u001b[43mmain\u001b[49m\u001b[43m(\u001b[49m\u001b[43mlanguages\u001b[49m\u001b[43m,\u001b[49m\u001b[43m \u001b[49m\u001b[43minput_encoding\u001b[49m\u001b[43m,\u001b[49m\u001b[43m \u001b[49m\u001b[43merror\u001b[49m\u001b[43m)\u001b[49m\n",
      "Cell \u001b[0;32mIn[2], line 8\u001b[0m, in \u001b[0;36mmain\u001b[0;34m(language_file, encoding, errors)\u001b[0m\n\u001b[1;32m      5\u001b[0m line \u001b[38;5;241m=\u001b[39m language_file\u001b[38;5;241m.\u001b[39mreadline()\n\u001b[1;32m      7\u001b[0m \u001b[38;5;28;01mif\u001b[39;00m line:\n\u001b[0;32m----> 8\u001b[0m     \u001b[43mprint_line\u001b[49m\u001b[43m(\u001b[49m\u001b[43mline\u001b[49m\u001b[43m,\u001b[49m\u001b[43m \u001b[49m\u001b[43mencoding\u001b[49m\u001b[43m,\u001b[49m\u001b[43m \u001b[49m\u001b[43merrors\u001b[49m\u001b[43m)\u001b[49m\n\u001b[1;32m      9\u001b[0m     \u001b[38;5;28;01mreturn\u001b[39;00m main(language_file, encoding, errors)\n",
      "Cell \u001b[0;32mIn[2], line 13\u001b[0m, in \u001b[0;36mprint_line\u001b[0;34m(line, encoding, errors)\u001b[0m\n\u001b[1;32m     11\u001b[0m \u001b[38;5;28;01mdef\u001b[39;00m\u001b[38;5;250m \u001b[39m\u001b[38;5;21mprint_line\u001b[39m(line, encoding, errors):\n\u001b[1;32m     12\u001b[0m     next_lang \u001b[38;5;241m=\u001b[39m line\u001b[38;5;241m.\u001b[39mstrip()\n\u001b[0;32m---> 13\u001b[0m     raw_bytes \u001b[38;5;241m=\u001b[39m \u001b[43mnext_lang\u001b[49m\u001b[38;5;241;43m.\u001b[39;49m\u001b[43mencode\u001b[49m\u001b[43m(\u001b[49m\u001b[43mencoding\u001b[49m\u001b[43m,\u001b[49m\u001b[43m \u001b[49m\u001b[43merrors\u001b[49m\u001b[38;5;241;43m=\u001b[39;49m\u001b[43merrors\u001b[49m\u001b[43m)\u001b[49m\n\u001b[1;32m     14\u001b[0m     cooked_string \u001b[38;5;241m=\u001b[39m raw_bytes\u001b[38;5;241m.\u001b[39mdecode(encoding, errors\u001b[38;5;241m=\u001b[39merrors)\n\u001b[1;32m     16\u001b[0m     \u001b[38;5;28mprint\u001b[39m(raw_bytes, \u001b[38;5;124m\"\u001b[39m\u001b[38;5;124m<===>\u001b[39m\u001b[38;5;124m\"\u001b[39m, cooked_string)\n",
      "\u001b[0;31mLookupError\u001b[0m: unknown encoding: -f"
     ]
    }
   ],
   "source": [
    "import sys\n",
    "script, input_encoding, error = sys.argv\n",
    "\n",
    "def main(language_file, encoding, errors):\n",
    "    line = language_file.readline()\n",
    "\n",
    "    if line:\n",
    "        print_line(line, encoding, errors)\n",
    "        return main(language_file, encoding, errors)\n",
    "\n",
    "def print_line(line, encoding, errors):\n",
    "    next_lang = line.strip()\n",
    "    raw_bytes = next_lang.encode(encoding, errors=errors)\n",
    "    cooked_string = raw_bytes.decode(encoding, errors=errors)\n",
    "\n",
    "    print(raw_bytes, \"<===>\", cooked_string)\n",
    "\n",
    "languages = open(\"languages.txt\", encoding=\"utf-8\")\n",
    "\n",
    "main(languages, input_encoding, error)"
   ]
  },
  {
   "cell_type": "markdown",
   "id": "7005d72b-e3e2-4dd0-abc8-b2153f1605ba",
   "metadata": {},
   "source": [
    "### Switches, Conventions and Encodings\n",
    "Before I can get into what this code means, you need to learn some basics about how data is stored in\n",
    "a computer. Modern computers are incredibly complex, but at their core they are like a huge array of\n",
    "light switches. Computers use electricity to flip switches on or off. These switches can represent 1 for on,\n",
    "or 0 for off. In the old days there were all kinds of weird computers that did more than just 1 or 0, but\n",
    "these days it’s just 1s and 0s. One represents energy, electricity, on, power, substance. Zero represents\n",
    "off, done, gone, power down, the lack of energy. We call these 1s and 0s ”bits.”\n",
    "\n",
    "Now, a computer that only let you work with 1 and 0 would be both horribly inefficient and incredibly\n",
    "annoying. Computers take these 1s and 0s and use them to encode larger numbers. At the small end\n",
    "a computer will use 8 of these 1s and 0s to encode 256 numbers (0-255). What does ”encode” mean\n",
    "though? It’s nothing more than an agreed upon standard for how a sequence of bits should represent a\n",
    "number. It’s a convention humans picked or stumbled on that says that 00000000 would be 0, 11111111\n",
    "would be 255, and 00001111 would be 15. There were even huge wars in the early history of computers\n",
    "on nothing more than the order of these bits because they were simply conventions we all had to agree\n",
    "on.\n",
    "\n",
    "Today we call a ”byte” a sequence of 8 bits (1s and 0s). In the old days everyone had their own convention\n",
    "for a byte, so you’ll still run into people who think that this term should be flexible and handle sequences\n",
    "of 9 bits, 7 bits, 6 bits, but now we just say it’s 8 bits. That’s our convention, and that convention defines\n",
    "our encoding for a byte. There are futher conventions for encoding large numbers using 16, 32, 64,\n",
    "and even more bits if you get into really big math. There’s entire standards groups who do nothing\n",
    "but argue about these conventions, then implement them as encodings that eventually turn switches\n",
    "on and off.\n",
    "\n",
    "Once you have bytes you can start to store and display text by deciding on another convention for how\n",
    "a number maps to a letter. In the early days of computing there were many conventions that mapped 8\n",
    "or 7 bits (or less or more) onto lists of characters kept inside a computer. The most popular convention\n",
    "ended up being American Standard Code for Information Interchange or ASCII. This standard maps a\n",
    "number to a letter. The number 90 is Z, which in bits is 1011010, which gets mapped to the ASCII table\n",
    "inside the computer.\n",
    "\n",
    "You can try this out in Python right now:"
   ]
  },
  {
   "cell_type": "code",
   "execution_count": 3,
   "id": "4d3002df-2da1-4596-bc02-460f725219c9",
   "metadata": {},
   "outputs": [
    {
     "name": "stdout",
     "output_type": "stream",
     "text": [
      "90\n",
      "90\n",
      "Z\n"
     ]
    }
   ],
   "source": [
    "print(0b1011010)\n",
    "print(ord('Z'))\n",
    "print(chr(90))"
   ]
  },
  {
   "cell_type": "markdown",
   "id": "31b72914-2608-40c4-9495-ce729c0ef408",
   "metadata": {},
   "source": [
    "First, I write the number 90 in binary, then I get the number based on the letter ’Z’, then I convert the\n",
    "number to the letter ’Z’. Don’t worry about needing to remember this though. I think I’ve had to do it\n",
    "twice the entire time I’ve used Python.\n",
    "Once we have the ASCII convention for encoding a character using 8 bits (a byte), we can then ”string”\n",
    "them together to make a word. If I want to write my name ”Zed A. Shaw,” I just use a sequence of bytes\n",
    "that are [90, 101, 100, 32, 65, 46, 32, 83, 104, 97, 119]. Most of the early text in computers\n",
    "was nothing more than sequences of bytes, stored in memory, that a computer used to display text to a\n",
    "person. Again, this is just a sequence of conventions that turned switches on and off.\n",
    "\n",
    "The problem with ASCII is that it only encodes English and maybe a few other similar languages. Remember that a byte can hold 256 numbers (0-255, or 00000000-11111111). Turns out, there’s a lot more\n",
    "characters than 256 used throughout the world’s languages. Different countries created their own encoding conventions for their languages, and that mostly worked, but many encodings could only handle\n",
    "one language. That meant if you want to put the title of an American English book in the middle of a\n",
    "Thai sentence you were kind of in trouble. You’d need one encoding for Thai and for English.\n",
    "\n",
    "To solve this problem a group of people created Unicode. It sounds like ”encode,” and it is meant to be a\n",
    "”universal encoding” of all human languages. The solution Unicode provides is like the ASCII table, but\n",
    "it’s huge by comparison. You can use 32 bits to encode a Unicode character, and that is more characters\n",
    "than we could possibly find. A 32-bit number means we can store 4,294,967,295 characters (2^32), which\n",
    "is enough space for every possible human language and probably a lot of alien ones too. Right now we\n",
    "use the extra space for important things like poop and smile emojis.\n",
    "\n",
    "We now have a convention for encoding any characters we want, but 32 bits is 4 bytes (32/8 == 4) which\n",
    "means there is so much wasted space in most text we want to encode. We can also use 16 bits (2 bytes),\n",
    "but still there’s going to be wasted space in most text. The solution is to use a clever convention to\n",
    "encode most common characters using 8 bits, and then ”escape” into larger numbers when we need\n",
    "to encode more characters. That means we have one more convention that is nothing more than a\n",
    "compression encoding, making it possible for most common characters to use 8 bits and then escape out\n",
    "into 16 or 32 bits as needed.\n",
    "\n",
    "The convention for encoding text in Python is called ”utf-8”, which means ”Unicode Transformation\n",
    "Format 8 Bits.” It is a convention for encoding Unicode characters into sequences of bytes (which are\n",
    "sequences of bits (which turn sequences of switches on and off)). You can also use other conventions\n",
    "(encodings), but utf-8 is the current standard."
   ]
  },
  {
   "cell_type": "markdown",
   "id": "b01960ed-d446-4749-aced-e7a47ec0265b",
   "metadata": {},
   "source": [
    "# More Practice\n",
    "You are getting to the end of this section. You should have enough Python *under your fingers* to move on to learning about how programming really works, but you should do some more practice. This exercise is longer, and all about building up stamina. The next exercise will be similar. Do them, get them exactly right, and do your checks."
   ]
  },
  {
   "cell_type": "code",
   "execution_count": 4,
   "id": "b64a2f38-da16-4b4d-b1fd-9feecbc59ec5",
   "metadata": {},
   "outputs": [
    {
     "name": "stdout",
     "output_type": "stream",
     "text": [
      "Let's practice everything.\n",
      "You'd need to know \"about\" escapes with \\ that do:\n",
      "\n",
      "newlines and \ttabs.\n",
      "----------------------\n",
      "\n",
      "\tThe lovely world\n",
      "with logic so firmly planted\n",
      "cannot discern \n",
      " the needs of love\n",
      "nor comprehen passion from intuition\n",
      "and requires an explanation\n",
      "\n",
      "\t\twhere there is none.\n",
      "\n",
      "----------------------\n",
      "This should be five: 5\n",
      "With a starting point of: 10000\n",
      "We'd have 5000000 beans, 5000.0 jars and 50.0 crates.\n",
      "We can also do that this way:\n",
      "We'd have 500000.0 beans, 500.0 jars, and 5.0 crates.\n"
     ]
    }
   ],
   "source": [
    "print(\"Let's practice everything.\")\n",
    "print(\"You'd need to know \\\"about\\\" escapes with \\\\ that do:\")\n",
    "print(\"\\nnewlines and \\ttabs.\")\n",
    "\n",
    "poem = \"\"\"\n",
    "\\tThe lovely world\n",
    "with logic so firmly planted\n",
    "cannot discern \\n the needs of love\n",
    "nor comprehen passion from intuition\n",
    "and requires an explanation\n",
    "\\n\\t\\twhere there is none.\n",
    "\"\"\"\n",
    "\n",
    "print(\"----------------------\")\n",
    "print(poem)\n",
    "print(\"----------------------\")\n",
    "\n",
    "five = 10 - 2 + 3 - 6\n",
    "print(f\"This should be five: {five}\")\n",
    "\n",
    "def secret_formula(started):\n",
    "    jelly_beans = started * 500\n",
    "    jars = jelly_beans / 1000\n",
    "    crates = jars / 100\n",
    "    return jelly_beans, jars, crates\n",
    "\n",
    "start_point = 10000\n",
    "beans, jars, crates = secret_formula(start_point)\n",
    "\n",
    "# remember that this is another way to format a string\n",
    "print(\"With a starting point of: {}\".format(start_point))\n",
    "\n",
    "# it's just like with an f\"\" string\n",
    "print(f\"We'd have {beans} beans, {jars} jars and {crates} crates.\")\n",
    "\n",
    "start_point = start_point / 10\n",
    "\n",
    "print(\"We can also do that this way:\")\n",
    "formula = secret_formula(start_point)\n",
    "# this is an easy way to apply a list to a format string\n",
    "print(\"We'd have {} beans, {} jars, and {} crates.\".format(*formula))"
   ]
  },
  {
   "cell_type": "markdown",
   "id": "fd3a5de4-2e83-4d21-a3f8-de78b5d61164",
   "metadata": {},
   "source": [
    "# Even More Practice\n",
    "We're going to do some more practice involving functions and variables to make sure you know them well. This exercisee should be straightforward for you to type in, break down and understand.\n",
    "However, this exercise is a little different. You won't be running it. Instead you will *import* it into Python and run the functions yourself."
   ]
  },
  {
   "cell_type": "code",
   "execution_count": 5,
   "id": "afece385-f036-429f-a825-eb70e8ac45de",
   "metadata": {},
   "outputs": [],
   "source": [
    "def break_words(stuff):\n",
    "    \"\"\"This function will break up words for us.\"\"\"\n",
    "    words = stuff.split(' ')\n",
    "    return words\n",
    "\n",
    "def sort_words(words):\n",
    "    \"\"\"Sorts the words.\"\"\"\n",
    "    return sorted(words)\n",
    "\n",
    "def print_first_word(words):\n",
    "    \"\"\"Prints the first word after popping it off.\"\"\"\n",
    "    word = words.pop(0)\n",
    "    print(word)\n",
    "\n",
    "def print_last_word(words):\n",
    "    \"\"\"Prints the last word after popping it off.\"\"\"\n",
    "    word = words.pop(-1)\n",
    "    print(word)\n",
    "\n",
    "def sort_sentence(sentence):\n",
    "    \"\"\"Takes in a full sentence and returns the sorted words.\"\"\"\n",
    "    words = break_words(sentence)\n",
    "    return sort_words(words)\n",
    "\n",
    "def print_first_and_last(sentence):\n",
    "    \"\"\"Prints the first and last words of the sentence.\"\"\"\n",
    "    words = break_words(sentence)\n",
    "    print_first_word(words)\n",
    "    print_last_word(words)\n",
    "\n",
    "def print_first_and_last_sorted(sentence):\n",
    "    \"\"\"Sorts the words then prints the first and last one.\"\"\"\n",
    "    words = sort_sentence(sentence)\n",
    "    print_first_word(words)\n",
    "    print_last_word(words)"
   ]
  },
  {
   "cell_type": "code",
   "execution_count": null,
   "id": "780b02bf-9acf-4b62-a1df-390d06ce7479",
   "metadata": {},
   "outputs": [],
   "source": []
  }
 ],
 "metadata": {
  "kernelspec": {
   "display_name": "Python 3 (ipykernel)",
   "language": "python",
   "name": "python3"
  },
  "language_info": {
   "codemirror_mode": {
    "name": "ipython",
    "version": 3
   },
   "file_extension": ".py",
   "mimetype": "text/x-python",
   "name": "python",
   "nbconvert_exporter": "python",
   "pygments_lexer": "ipython3",
   "version": "3.11.11"
  }
 },
 "nbformat": 4,
 "nbformat_minor": 5
}
