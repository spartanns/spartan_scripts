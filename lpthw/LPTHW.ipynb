{
 "cells": [
  {
   "cell_type": "markdown",
   "id": "775ebc33-823f-42a2-a5e2-d3892ad7dc9f",
   "metadata": {},
   "source": [
    "# A Good First Program\n",
    "---\n",
    "Type the following text into a single file named `ex1.py`. Python works best with files ending in `.py`."
   ]
  },
  {
   "cell_type": "code",
   "execution_count": 1,
   "id": "e2b7285c-c986-46c5-bed9-aa79b9013772",
   "metadata": {},
   "outputs": [
    {
     "name": "stdout",
     "output_type": "stream",
     "text": [
      "Hello, world\n",
      "Hello, again!\n",
      "I like typing this\n",
      "Yay! Printing\n"
     ]
    }
   ],
   "source": [
    "print(\"Hello, world\")\n",
    "print(\"Hello, again!\")\n",
    "print(\"I like typing this\")\n",
    "print('Yay! Printing')"
   ]
  },
  {
   "cell_type": "markdown",
   "id": "070aeefc-cfea-4758-a292-7572f38264d5",
   "metadata": {},
   "source": [
    "---\n",
    "Run the script by typing the following command in your terminal:\n",
    "```bash\n",
    "python ex1.py\n",
    "```"
   ]
  },
  {
   "cell_type": "markdown",
   "id": "3c7477ce-0ed3-45c5-800c-46214c2df5bf",
   "metadata": {},
   "source": [
    "## Study Drills\n",
    "For this exercise, try these things:\n",
    "1. Make your script print another line.\n",
    "2. Make your script print only one of the lines.\n",
    "3. Put a `#` character at the beginning of a line. What did it do?"
   ]
  },
  {
   "cell_type": "markdown",
   "id": "e50c22e2-8519-4205-aab1-362da0f874c8",
   "metadata": {},
   "source": [
    "# Comments and Pound Characters\n",
    "Comments are very important in your programs. They are used to tell you what something does in English, and they are used to disable parts of your program if you need to remove them temporarily. Here's how you use comments in Python:"
   ]
  },
  {
   "cell_type": "code",
   "execution_count": 3,
   "id": "696c9e02-7adf-41ea-9e1e-64b3a2c67ba6",
   "metadata": {},
   "outputs": [
    {
     "name": "stdout",
     "output_type": "stream",
     "text": [
      "I could have code like this.\n",
      "This will run.\n"
     ]
    }
   ],
   "source": [
    "# A single line comment, this is so you can read your program later.\n",
    "# Anything after the # is ignored by python.\n",
    "\n",
    "print(\"I could have code like this.\") # and this is ignored\n",
    "\n",
    "\"\"\"\n",
    "You can write\n",
    "multi-line comments\n",
    "like this.\n",
    "\"\"\"\n",
    "\n",
    "print(\"This will run.\")"
   ]
  },
  {
   "cell_type": "markdown",
   "id": "cea1bf43-7de4-4a87-98a1-88aece454d99",
   "metadata": {},
   "source": [
    "# Numbers and Math\n",
    "Every programming language has some kind of way of doing numbers and math. Do not worry: programmers frequently lie about being math geniuses when they really aren't. If they were math geniuses, they would be doing math, not writing buggy web frameworks so they can drive race cars."
   ]
  },
  {
   "cell_type": "code",
   "execution_count": 5,
   "id": "09df6f20-393a-400a-a729-5df65560834b",
   "metadata": {},
   "outputs": [
    {
     "name": "stdout",
     "output_type": "stream",
     "text": [
      "I will now count my chickens:\n",
      "Hens 30.0\n",
      "Roosters 97\n",
      "Now I will count the eggs:\n",
      "6.75\n",
      "Is it true that 3 + 2 < 5 - 7?\n",
      "False\n",
      "What is 3 + 2? 5\n",
      "What is 5 - 7? -2\n",
      "Oh, that's why it's False.\n",
      "Is it greater? True\n",
      "Is it greater or equal? True\n",
      "Is it less or equal? False\n"
     ]
    }
   ],
   "source": [
    "print(\"I will now count my chickens:\")\n",
    "\n",
    "print(\"Hens\", 25 + 30 / 6)\n",
    "print(\"Roosters\", 100 - 25 * 3 % 4)\n",
    "\n",
    "print(\"Now I will count the eggs:\")\n",
    "\n",
    "print(3 + 2 + 1 - 5 + 4 % 2 - 1 / 4 + 6)\n",
    "\n",
    "print(\"Is it true that 3 + 2 < 5 - 7?\")\n",
    "print(3 + 2 < 5 - 7)\n",
    "\n",
    "print(\"What is 3 + 2?\", 3 + 2)\n",
    "print(\"What is 5 - 7?\", 5 - 7)\n",
    "\n",
    "print(\"Oh, that's why it's False.\")\n",
    "\n",
    "print(\"Is it greater?\", 5 > -2)\n",
    "print(\"Is it greater or equal?\", 5 >= -2)\n",
    "print(\"Is it less or equal?\", 5 <= -2)"
   ]
  },
  {
   "cell_type": "markdown",
   "id": "fcc2e30a-53fd-484f-aa9e-9a4b5c9cb4ed",
   "metadata": {},
   "source": [
    "# Variables and Names\n",
    "Now you can print things with `print` and you can do math. The next step is to learn about variables. In programming, a variable is nothing more than a name for something, similar to how my name \"Milos\" is a name for, \"The human who wrote this book.\" Programmers use these variable names to make their code more like English and because they have lousy memories. If they didn't use good names for things in their software, they'd get lost when they tried to read their code again."
   ]
  },
  {
   "cell_type": "code",
   "execution_count": 2,
   "id": "3b20a92b-f664-426a-9b86-3543974e279f",
   "metadata": {},
   "outputs": [
    {
     "name": "stdout",
     "output_type": "stream",
     "text": [
      "There are 100 cars available.\n",
      "There are only 30 drivers available.\n",
      "There will be 70 empty cars today.\n",
      "We can transport 120.0 people today.\n",
      "We have 90 to carpool today.\n",
      "We need to put about 3.0 in each car.\n"
     ]
    }
   ],
   "source": [
    "cars = 100\n",
    "space_in_a_car = 4.0\n",
    "drivers = 30\n",
    "passengers = 90\n",
    "cars_not_driven = cars - drivers\n",
    "cars_driven = drivers\n",
    "carpool_capacity = cars_driven * space_in_a_car\n",
    "average_passengers_per_car = passengers / cars_driven\n",
    "\n",
    "print(\"There are\", cars, \"cars available.\")\n",
    "print(\"There are only\", drivers, \"drivers available.\")\n",
    "print(\"There will be\", cars_not_driven, \"empty cars today.\")\n",
    "print(\"We can transport\", carpool_capacity, \"people today.\")\n",
    "print(\"We have\", passengers, \"to carpool today.\")\n",
    "print(\"We need to put about\", average_passengers_per_car,\n",
    "      \"in each car.\")"
   ]
  },
  {
   "cell_type": "markdown",
   "id": "484f77b1-6077-49fc-adc8-14dc36a2bd6f",
   "metadata": {},
   "source": [
    "# More Variables and Printing\n",
    "Now we'll do even more typing of variables and printing them out. This time we'll use something called a `format string`. Every time you put \" (double quotes) around a piece of text you have been making a _string_. A string is how you make something that your program might give to a human. You print strings, save strings to files, send strings to web servers, and many other things.\n",
    "\n",
    "Strings are really handy, so in this exercise you'll learn how to make strings that have variables embedded in them. You embed variables inside a string by using a special {} sequence and then put the variable you want inside the {} characters. You also must start the string with the letter f for \"format\", as in `f\"Hello {somevar}\"`. This little `f` before the `\"` and the `{}` characters tell python 3, \"Hey, this string needs to be formatted. Put these variables in there.\""
   ]
  },
  {
   "cell_type": "code",
   "execution_count": 1,
   "id": "0aa1ced5-abb2-45be-842f-09d9546d84e3",
   "metadata": {},
   "outputs": [
    {
     "name": "stdout",
     "output_type": "stream",
     "text": [
      "Let's talk about Milos Spartan.\n",
      "He's 181 centimeters tall.\n",
      "He's 85 kilos heavy.\n",
      "Actually, that's not too heavy.\n",
      "He's got Blue eyes and Blonde hair.\n",
      "His teeth are usually White depending on the coffee.\n",
      "If I add 31, 181 and 85 I get 297.\n"
     ]
    }
   ],
   "source": [
    "my_name = \"Milos Spartan\"\n",
    "my_age = 31 # not a lie\n",
    "my_height = 181 # centimeters\n",
    "my_weight = 85 # kilograms\n",
    "my_eyes = \"Blue\"\n",
    "my_teeth = \"White\"\n",
    "my_hair = \"Blonde\"\n",
    "\n",
    "print(f\"Let's talk about {my_name}.\")\n",
    "print(f\"He's {my_height} centimeters tall.\")\n",
    "print(f\"He's {my_weight} kilos heavy.\")\n",
    "print(f\"Actually, that's not too heavy.\")\n",
    "print(f\"He's got {my_eyes} eyes and {my_hair} hair.\")\n",
    "print(f\"His teeth are usually {my_teeth} depending on the coffee.\")\n",
    "\n",
    "# this line is tricky, try to get it exactly right\n",
    "total = my_age + my_height + my_weight\n",
    "print(f\"If I add {my_age}, {my_height} and {my_weight} I get {total}.\")"
   ]
  },
  {
   "cell_type": "markdown",
   "id": "660296b4-886e-46fb-b5db-dd8a1acc340b",
   "metadata": {},
   "source": [
    "# Strings and Text\n",
    "While you have been writing strings, you still do not know what they do. In this exercise we create a bunch of variables with complex strings so you can see what they are for. First, an explanation of strings.\n",
    "\n",
    "A string is usually a bit of text you want to display to someone or `export` out of the program you are writing. Python knows you want something to be a string when you put either `\"` (double-quotes) or `'` (single-quotes) around the text. You saw this many times with your use of `print` when you put the text you want to go inside the string inside single or double quotes after the `print` to print the string.\n",
    "\n",
    "Strings can contain any number of variables that are in your python script. Remember that a variable is any line of code wher you set a name = (equal) to a value. In the code for this exercise, `types_of_people = 10` creates a variable named `types_of_people` and sets it to `10`. You can put that in any string with `{types_of_people}`. You also see that I have to use a special type of string to \"format\"; it's called an \"f-string\" and looks like this:\n",
    "`f\"some stuff here {a_variable}\"`\n",
    "`f\"some other stuff {another_variable}\"`\n",
    "\n",
    "Python also has another kind of formatting using the `.format()` syntax which you see on line 17. You'll use that sometimes when you want to apply a format to an already created string, such as in a loop."
   ]
  },
  {
   "cell_type": "code",
   "execution_count": 1,
   "id": "405da022-2513-45d8-824d-a35a64669635",
   "metadata": {},
   "outputs": [
    {
     "name": "stdout",
     "output_type": "stream",
     "text": [
      "There are 10 types of people.\n",
      "Those who know binary and those who don't.\n",
      "I said: There are 10 types of people.\n",
      "I also said: 'Those who know binary and those who don't.'\n",
      "Isn't that joke so funny?! False\n",
      "This is the left side of ...a string with a right side.\n"
     ]
    }
   ],
   "source": [
    "types_of_people = 10\n",
    "x = f\"There are {types_of_people} types of people.\"\n",
    "\n",
    "binary = \"binary\"\n",
    "do_not = \"don't\"\n",
    "y = f\"Those who know {binary} and those who {do_not}.\"\n",
    "\n",
    "print(x)\n",
    "print(y)\n",
    "\n",
    "print(f\"I said: {x}\")\n",
    "print(f\"I also said: '{y}'\")\n",
    "\n",
    "hilarious = False\n",
    "\n",
    "joke_evaluation = \"Isn't that joke so funny?! {}\"\n",
    "\n",
    "print(joke_evaluation.format(hilarious))\n",
    "\n",
    "w = \"This is the left side of ...\"\n",
    "e = \"a string with a right side.\"\n",
    "\n",
    "print(w + e)"
   ]
  },
  {
   "cell_type": "markdown",
   "id": "95671b30-09be-446f-870e-c63901beaeb3",
   "metadata": {},
   "source": [
    "# More Printing"
   ]
  },
  {
   "cell_type": "code",
   "execution_count": 3,
   "id": "c67c9365-1e1d-417c-8f8e-c1938ef18f1f",
   "metadata": {},
   "outputs": [
    {
     "name": "stdout",
     "output_type": "stream",
     "text": [
      "Mary had a little lamb.\n",
      "Its fleece was white as snow\n",
      "And everywhere that Mary went.\n",
      "..........\n",
      "Cheese Burger\n"
     ]
    }
   ],
   "source": [
    "print(\"Mary had a little lamb.\")\n",
    "print(\"Its fleece was white as {}\".format(\"snow\"))\n",
    "print(\"And everywhere that Mary went.\")\n",
    "print(\".\" * 10) # what'd that do?\n",
    "\n",
    "end1 = \"C\"\n",
    "end2 = \"h\"\n",
    "end3 = \"e\"\n",
    "end4 = \"e\"\n",
    "end5 = \"s\"\n",
    "end6 = \"e\"\n",
    "end7 = \"B\"\n",
    "end8 = \"u\"\n",
    "end9 = \"r\"\n",
    "end10 = \"g\"\n",
    "end11 = \"e\"\n",
    "end12 = \"r\"\n",
    "\n",
    "# watch end = \" \" at the end. try removing it to see what happens\n",
    "print(end1 + end2 + end3 + end4 + end5 + end6, end=\" \")\n",
    "print(end7 + end8 + end9 + end10 + end11 + end12)"
   ]
  },
  {
   "cell_type": "markdown",
   "id": "7754dc91-7ade-4432-9ea3-206129830100",
   "metadata": {},
   "source": [
    "# Printing, Printing\n",
    "We will now see how to do a more complicated formatting of a string. This code looks complex, but if you do your comments above each line and break each thing down to its parts, you'll understand it."
   ]
  },
  {
   "cell_type": "code",
   "execution_count": 4,
   "id": "1a66775c-1121-45ec-a6c8-85e9efa9e2e1",
   "metadata": {},
   "outputs": [
    {
     "name": "stdout",
     "output_type": "stream",
     "text": [
      "1 2 3 4\n",
      "one two three four\n",
      "True False False True\n",
      "{} {} {} {} {} {} {} {} {} {} {} {} {} {} {} {}\n",
      "Try your Own text here Maybe a poem Or a song about fear\n"
     ]
    }
   ],
   "source": [
    "formatter = \"{} {} {} {}\"\n",
    "\n",
    "print(formatter.format(1, 2, 3, 4))\n",
    "print(formatter.format(\"one\", \"two\", \"three\", \"four\"))\n",
    "print(formatter.format(True, False, False, True))\n",
    "print(formatter.format(formatter, formatter, formatter, formatter))\n",
    "print(formatter.format(\n",
    "    \"Try your\",\n",
    "    \"Own text here\",\n",
    "    \"Maybe a poem\",\n",
    "    \"Or a song about fear\"\n",
    "))"
   ]
  },
  {
   "cell_type": "markdown",
   "id": "3c57b666-3776-4463-9c22-6281594e9698",
   "metadata": {},
   "source": [
    "# Printing, Printing, Printing"
   ]
  },
  {
   "cell_type": "code",
   "execution_count": 6,
   "id": "ed977071-5c16-49ab-8011-dbfb4d5ca039",
   "metadata": {},
   "outputs": [
    {
     "name": "stdout",
     "output_type": "stream",
     "text": [
      "Here are the days:  Mon Tue Wed Thu Fri Sat Sun\n",
      "Here are the months:  \n",
      "Jan\n",
      "Feb\n",
      "Mar\n",
      "Apr\n",
      "May\n",
      "Jun\n",
      "Jul\n",
      "Aug\n",
      "\n",
      "There's something going on here.\n",
      "With the three double-quotes.\n",
      "We'll be able to type as much as we like.\n",
      "Even 4 lines if we want, or 5, or 6.\n",
      "\n"
     ]
    }
   ],
   "source": [
    "# Here's some strange stuff, remember to type it exactly.\n",
    "\n",
    "days = \"Mon Tue Wed Thu Fri Sat Sun\"\n",
    "months = \"\\nJan\\nFeb\\nMar\\nApr\\nMay\\nJun\\nJul\\nAug\"\n",
    "\n",
    "print(\"Here are the days: \", days)\n",
    "print(\"Here are the months: \", months)\n",
    "\n",
    "print(\"\"\"\n",
    "There's something going on here.\n",
    "With the three double-quotes.\n",
    "We'll be able to type as much as we like.\n",
    "Even 4 lines if we want, or 5, or 6.\n",
    "\"\"\")"
   ]
  },
  {
   "cell_type": "markdown",
   "id": "54162ff8-cce5-4baa-8bf8-17038d398b07",
   "metadata": {},
   "source": [
    "# What was that?\n",
    "In the last exercise we threw some new stuff, just to keep us on our toes. We learned how to make a string that goes across multiple lines. In the first way, we put the characters `\\n` between the names of the months. These two characters put a new line character into the string at that point.\n",
    "\n",
    "The `\\` character encodes difficult-to-type characters into a string. There are various \"escape sequences\" available for different characters you might want to use. We'll try a few of these sequences so you can see what we mean."
   ]
  },
  {
   "cell_type": "code",
   "execution_count": 7,
   "id": "c02f73b1-2128-4ceb-ba21-4654091dabb5",
   "metadata": {},
   "outputs": [
    {
     "name": "stdout",
     "output_type": "stream",
     "text": [
      "\tI'm tabbed in.\n",
      "I'm split\n",
      "on a line.\n",
      "I'm \\ a \\ cat.\n",
      "\n",
      "I'll do a list:\n",
      "\t* Cat food\n",
      "\t* Fishies\n",
      "\t* Catnip\n",
      "\t* Grass\n",
      "\n"
     ]
    }
   ],
   "source": [
    "tabby_cat = \"\\tI'm tabbed in.\"\n",
    "persian_cat = \"I'm split\\non a line.\"\n",
    "backslash_cat = \"I'm \\\\ a \\\\ cat.\"\n",
    "\n",
    "fat_cat = \"\"\"\n",
    "I'll do a list:\n",
    "\\t* Cat food\n",
    "\\t* Fishies\n",
    "\\t* Catnip\\n\\t* Grass\n",
    "\"\"\"\n",
    "\n",
    "print(tabby_cat)\n",
    "print(persian_cat)\n",
    "print(backslash_cat)\n",
    "print(fat_cat)"
   ]
  },
  {
   "cell_type": "markdown",
   "id": "dc6f65df-570a-4859-95b9-3c0bcec97951",
   "metadata": {},
   "source": [
    "# Escape Sequences\n",
    "This is all of the escape sequences Python supports. You may not use many of these, but memorize their format and what they do anyway. Try them out in some strings to see if you can make them work.\n",
    "\n",
    "| Escape | What it does |\n",
    "|--------|--------------|\n",
    "| \\\\\\    | Backslash (\\)|\n",
    "| \\\\'    | Single quote(')|\n",
    "| \\\\\"    | Double quote(\"\")|\n",
    "| \\\\a    | ASCII bell (BEL)|\n",
    "| \\\\b    | ASCII backspace (BS)|\n",
    "| \\\\f    | ASCII formfeed (FF)|\n",
    "| \\\\n    | ASCII linefeed (LF)|\n",
    "| \\\\N{name} | Character named name in the Unicode database (Unicode only)\n",
    "| \\\\r | Carriage Return (CR)|\n",
    "| \\\\t | Horizontal Tab (TAB)|\n",
    "| \\\\uxxxx | Character with 16-bit hex value xxxx|\n",
    "| \\\\Uxxxxxxxx | Character with 32-bit hex value xxxxxxxx|\n",
    "| \\\\v | ASCII vertical tab (VT)\n",
    "| \\\\000 | Character with octal value 000\n",
    "| \\\\xhh | Character with hex value hh"
   ]
  },
  {
   "cell_type": "markdown",
   "id": "b739ec40-aa96-4fdc-b3e3-4d7840ac7a61",
   "metadata": {},
   "source": [
    "# Asking Questions\n",
    "Now it's time to pick up the pace. You are doing a lot of printing to get you familiar with typing simple things, but those simple things are fairly boring. What we want to do now is get data into your programs. This is a little tricky, because you have to learn to do two things that may not make sense right away, but trust me and do it anyway. It will make sense in a few exercises.\n",
    "\n",
    "Most of what software does is following:\n",
    "1. Take some kind of input from a person\n",
    "2. Change it\n",
    "3. Print out something to show how it changed\n",
    "\n",
    "So far you've been printing strings, but you haven't been able to get any input from a person. You may not even know what \"input\" means, but type this code in anyway, and make it exactly the same. In the next exercise we'll do more to explain input."
   ]
  },
  {
   "cell_type": "code",
   "execution_count": 8,
   "id": "4d933432-42da-4192-8c73-eb644e36b133",
   "metadata": {},
   "outputs": [
    {
     "name": "stdout",
     "output_type": "stream",
     "text": [
      "How old are you? "
     ]
    },
    {
     "name": "stdin",
     "output_type": "stream",
     "text": [
      " 31\n"
     ]
    },
    {
     "name": "stdout",
     "output_type": "stream",
     "text": [
      "How tall are you? "
     ]
    },
    {
     "name": "stdin",
     "output_type": "stream",
     "text": [
      " 181\n"
     ]
    },
    {
     "name": "stdout",
     "output_type": "stream",
     "text": [
      "How much do you weight? "
     ]
    },
    {
     "name": "stdin",
     "output_type": "stream",
     "text": [
      " 85\n"
     ]
    },
    {
     "name": "stdout",
     "output_type": "stream",
     "text": [
      "So, you're 31 years old, 181cm tall and 85kg heavy.\n"
     ]
    }
   ],
   "source": [
    "print(\"How old are you?\", end=\" \")\n",
    "age = input()\n",
    "print(\"How tall are you?\", end=\" \")\n",
    "height = input()\n",
    "print(\"How much do you weight?\", end=\" \")\n",
    "weight = input()\n",
    "\n",
    "print(f\"So, you're {age} years old, {height}cm tall and {weight}kg heavy.\")"
   ]
  },
  {
   "cell_type": "markdown",
   "id": "1d815a8a-190a-40ed-aac6-aa967e5e91f8",
   "metadata": {},
   "source": [
    "# Prompting People\n",
    "When you typed `input()` you were typing the ( and ) characters, which are parenthesis characters. For input, you can also put in a prompt to show to a person so he knows what to type. Put a string that you want for the prompt inside the `()` so that it looks like this:\n",
    "\n",
    "`y = input(\"Name: \")`\n",
    "\n",
    "This prompts the user with `Name: ` and puts the result into the variable `y`. This is how you ask someone a question and get the answer.\n",
    "\n",
    "This means we can completely rewrite our previous exercise using just input to do all the prompting."
   ]
  },
  {
   "cell_type": "code",
   "execution_count": 10,
   "id": "b571d602-9880-40f1-ad73-36a772758c85",
   "metadata": {},
   "outputs": [
    {
     "name": "stdin",
     "output_type": "stream",
     "text": [
      "How old are you?  31\n",
      "How tall are you?  181\n",
      "How much do you weigh?  85\n"
     ]
    },
    {
     "name": "stdout",
     "output_type": "stream",
     "text": [
      "So, you're 31 years old, 181cm tall and 85kg heavy.\n"
     ]
    }
   ],
   "source": [
    "age = input(\"How old are you? \")\n",
    "height = input(\"How tall are you? \")\n",
    "weight = input(\"How much do you weigh? \")\n",
    "\n",
    "print(f\"So, you're {age} years old, {height}cm tall and {weight}kg heavy.\")"
   ]
  },
  {
   "cell_type": "code",
   "execution_count": null,
   "id": "d879dceb-a73b-4c8e-b33b-7032d6f0fda6",
   "metadata": {},
   "outputs": [],
   "source": []
  }
 ],
 "metadata": {
  "kernelspec": {
   "display_name": "Python 3 (ipykernel)",
   "language": "python",
   "name": "python3"
  },
  "language_info": {
   "codemirror_mode": {
    "name": "ipython",
    "version": 3
   },
   "file_extension": ".py",
   "mimetype": "text/x-python",
   "name": "python",
   "nbconvert_exporter": "python",
   "pygments_lexer": "ipython3",
   "version": "3.11.11"
  }
 },
 "nbformat": 4,
 "nbformat_minor": 5
}
